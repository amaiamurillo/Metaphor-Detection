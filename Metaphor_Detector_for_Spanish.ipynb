{
  "cells": [
    {
      "cell_type": "markdown",
      "metadata": {
        "id": "Q3awJvevx3Ef"
      },
      "source": [
        "# Metaphor Detector for Spanish\n",
        "Reyes Gago Sosa and Amaia Murillo Lekuona\n",
        "\n",
        "\n",
        "\n",
        "\n",
        "The effective automated detection of conceptual metaphors poses a significant challenge in NLP tasks due to their subjectivity and abstract nature. This project explores the possibility of detecting them at token labeling level in a binary manner, where a word acts metaphorically compared to its usual meaning. To achieve this, a multilingual language model has been trained in Spanish using the CoMeta dataset, aiming to enhance results through fine-tuning procedures. To evaluate the final performance of the model, a custom dataset consisting of 50 examples has been created. Our experiments show promising results, highlighting the potential of multilingual models in detecting linguistic metaphors across diverse contexts.\n",
        "\n"
      ]
    },
    {
      "cell_type": "markdown",
      "metadata": {
        "id": "n5zmGWS9yXtd"
      },
      "source": [
        "First we install the required libraries to carry out the project."
      ]
    },
    {
      "cell_type": "code",
      "execution_count": null,
      "metadata": {
        "colab": {
          "base_uri": "https://localhost:8080/"
        },
        "id": "rxL442pDVk72",
        "outputId": "2d973b5b-de93-4ce8-f8b8-a6722e6a77b9"
      },
      "outputs": [
        {
          "output_type": "stream",
          "name": "stdout",
          "text": [
            "Requirement already satisfied: transformers[torch] in /usr/local/lib/python3.10/dist-packages (4.38.2)\n",
            "Requirement already satisfied: filelock in /usr/local/lib/python3.10/dist-packages (from transformers[torch]) (3.13.3)\n",
            "Requirement already satisfied: huggingface-hub<1.0,>=0.19.3 in /usr/local/lib/python3.10/dist-packages (from transformers[torch]) (0.20.3)\n",
            "Requirement already satisfied: numpy>=1.17 in /usr/local/lib/python3.10/dist-packages (from transformers[torch]) (1.25.2)\n",
            "Requirement already satisfied: packaging>=20.0 in /usr/local/lib/python3.10/dist-packages (from transformers[torch]) (24.0)\n",
            "Requirement already satisfied: pyyaml>=5.1 in /usr/local/lib/python3.10/dist-packages (from transformers[torch]) (6.0.1)\n",
            "Requirement already satisfied: regex!=2019.12.17 in /usr/local/lib/python3.10/dist-packages (from transformers[torch]) (2023.12.25)\n",
            "Requirement already satisfied: requests in /usr/local/lib/python3.10/dist-packages (from transformers[torch]) (2.31.0)\n",
            "Requirement already satisfied: tokenizers<0.19,>=0.14 in /usr/local/lib/python3.10/dist-packages (from transformers[torch]) (0.15.2)\n",
            "Requirement already satisfied: safetensors>=0.4.1 in /usr/local/lib/python3.10/dist-packages (from transformers[torch]) (0.4.2)\n",
            "Requirement already satisfied: tqdm>=4.27 in /usr/local/lib/python3.10/dist-packages (from transformers[torch]) (4.66.2)\n",
            "Requirement already satisfied: torch in /usr/local/lib/python3.10/dist-packages (from transformers[torch]) (2.2.1+cu121)\n",
            "Requirement already satisfied: accelerate>=0.21.0 in /usr/local/lib/python3.10/dist-packages (from transformers[torch]) (0.28.0)\n",
            "Requirement already satisfied: psutil in /usr/local/lib/python3.10/dist-packages (from accelerate>=0.21.0->transformers[torch]) (5.9.5)\n",
            "Requirement already satisfied: fsspec>=2023.5.0 in /usr/local/lib/python3.10/dist-packages (from huggingface-hub<1.0,>=0.19.3->transformers[torch]) (2023.6.0)\n",
            "Requirement already satisfied: typing-extensions>=3.7.4.3 in /usr/local/lib/python3.10/dist-packages (from huggingface-hub<1.0,>=0.19.3->transformers[torch]) (4.10.0)\n",
            "Requirement already satisfied: sympy in /usr/local/lib/python3.10/dist-packages (from torch->transformers[torch]) (1.12)\n",
            "Requirement already satisfied: networkx in /usr/local/lib/python3.10/dist-packages (from torch->transformers[torch]) (3.2.1)\n",
            "Requirement already satisfied: jinja2 in /usr/local/lib/python3.10/dist-packages (from torch->transformers[torch]) (3.1.3)\n",
            "Requirement already satisfied: nvidia-cuda-nvrtc-cu12==12.1.105 in /usr/local/lib/python3.10/dist-packages (from torch->transformers[torch]) (12.1.105)\n",
            "Requirement already satisfied: nvidia-cuda-runtime-cu12==12.1.105 in /usr/local/lib/python3.10/dist-packages (from torch->transformers[torch]) (12.1.105)\n",
            "Requirement already satisfied: nvidia-cuda-cupti-cu12==12.1.105 in /usr/local/lib/python3.10/dist-packages (from torch->transformers[torch]) (12.1.105)\n",
            "Requirement already satisfied: nvidia-cudnn-cu12==8.9.2.26 in /usr/local/lib/python3.10/dist-packages (from torch->transformers[torch]) (8.9.2.26)\n",
            "Requirement already satisfied: nvidia-cublas-cu12==12.1.3.1 in /usr/local/lib/python3.10/dist-packages (from torch->transformers[torch]) (12.1.3.1)\n",
            "Requirement already satisfied: nvidia-cufft-cu12==11.0.2.54 in /usr/local/lib/python3.10/dist-packages (from torch->transformers[torch]) (11.0.2.54)\n",
            "Requirement already satisfied: nvidia-curand-cu12==10.3.2.106 in /usr/local/lib/python3.10/dist-packages (from torch->transformers[torch]) (10.3.2.106)\n",
            "Requirement already satisfied: nvidia-cusolver-cu12==11.4.5.107 in /usr/local/lib/python3.10/dist-packages (from torch->transformers[torch]) (11.4.5.107)\n",
            "Requirement already satisfied: nvidia-cusparse-cu12==12.1.0.106 in /usr/local/lib/python3.10/dist-packages (from torch->transformers[torch]) (12.1.0.106)\n",
            "Requirement already satisfied: nvidia-nccl-cu12==2.19.3 in /usr/local/lib/python3.10/dist-packages (from torch->transformers[torch]) (2.19.3)\n",
            "Requirement already satisfied: nvidia-nvtx-cu12==12.1.105 in /usr/local/lib/python3.10/dist-packages (from torch->transformers[torch]) (12.1.105)\n",
            "Requirement already satisfied: triton==2.2.0 in /usr/local/lib/python3.10/dist-packages (from torch->transformers[torch]) (2.2.0)\n",
            "Requirement already satisfied: nvidia-nvjitlink-cu12 in /usr/local/lib/python3.10/dist-packages (from nvidia-cusolver-cu12==11.4.5.107->torch->transformers[torch]) (12.4.99)\n",
            "Requirement already satisfied: charset-normalizer<4,>=2 in /usr/local/lib/python3.10/dist-packages (from requests->transformers[torch]) (3.3.2)\n",
            "Requirement already satisfied: idna<4,>=2.5 in /usr/local/lib/python3.10/dist-packages (from requests->transformers[torch]) (3.6)\n",
            "Requirement already satisfied: urllib3<3,>=1.21.1 in /usr/local/lib/python3.10/dist-packages (from requests->transformers[torch]) (2.0.7)\n",
            "Requirement already satisfied: certifi>=2017.4.17 in /usr/local/lib/python3.10/dist-packages (from requests->transformers[torch]) (2024.2.2)\n",
            "Requirement already satisfied: MarkupSafe>=2.0 in /usr/local/lib/python3.10/dist-packages (from jinja2->torch->transformers[torch]) (2.1.5)\n",
            "Requirement already satisfied: mpmath>=0.19 in /usr/local/lib/python3.10/dist-packages (from sympy->torch->transformers[torch]) (1.3.0)\n"
          ]
        }
      ],
      "source": [
        "!pip install transformers[torch]\n",
        "import transformers"
      ]
    },
    {
      "cell_type": "code",
      "execution_count": null,
      "metadata": {
        "colab": {
          "base_uri": "https://localhost:8080/"
        },
        "id": "AZNwOA6gFHRW",
        "outputId": "e826e996-647d-4258-ac7a-4b1107e72f8b"
      },
      "outputs": [
        {
          "output_type": "stream",
          "name": "stdout",
          "text": [
            "Requirement already satisfied: accelerate in /usr/local/lib/python3.10/dist-packages (0.28.0)\n",
            "Requirement already satisfied: numpy>=1.17 in /usr/local/lib/python3.10/dist-packages (from accelerate) (1.25.2)\n",
            "Requirement already satisfied: packaging>=20.0 in /usr/local/lib/python3.10/dist-packages (from accelerate) (24.0)\n",
            "Requirement already satisfied: psutil in /usr/local/lib/python3.10/dist-packages (from accelerate) (5.9.5)\n",
            "Requirement already satisfied: pyyaml in /usr/local/lib/python3.10/dist-packages (from accelerate) (6.0.1)\n",
            "Requirement already satisfied: torch>=1.10.0 in /usr/local/lib/python3.10/dist-packages (from accelerate) (2.2.1+cu121)\n",
            "Requirement already satisfied: huggingface-hub in /usr/local/lib/python3.10/dist-packages (from accelerate) (0.20.3)\n",
            "Requirement already satisfied: safetensors>=0.3.1 in /usr/local/lib/python3.10/dist-packages (from accelerate) (0.4.2)\n",
            "Requirement already satisfied: filelock in /usr/local/lib/python3.10/dist-packages (from torch>=1.10.0->accelerate) (3.13.3)\n",
            "Requirement already satisfied: typing-extensions>=4.8.0 in /usr/local/lib/python3.10/dist-packages (from torch>=1.10.0->accelerate) (4.10.0)\n",
            "Requirement already satisfied: sympy in /usr/local/lib/python3.10/dist-packages (from torch>=1.10.0->accelerate) (1.12)\n",
            "Requirement already satisfied: networkx in /usr/local/lib/python3.10/dist-packages (from torch>=1.10.0->accelerate) (3.2.1)\n",
            "Requirement already satisfied: jinja2 in /usr/local/lib/python3.10/dist-packages (from torch>=1.10.0->accelerate) (3.1.3)\n",
            "Requirement already satisfied: fsspec in /usr/local/lib/python3.10/dist-packages (from torch>=1.10.0->accelerate) (2023.6.0)\n",
            "Requirement already satisfied: nvidia-cuda-nvrtc-cu12==12.1.105 in /usr/local/lib/python3.10/dist-packages (from torch>=1.10.0->accelerate) (12.1.105)\n",
            "Requirement already satisfied: nvidia-cuda-runtime-cu12==12.1.105 in /usr/local/lib/python3.10/dist-packages (from torch>=1.10.0->accelerate) (12.1.105)\n",
            "Requirement already satisfied: nvidia-cuda-cupti-cu12==12.1.105 in /usr/local/lib/python3.10/dist-packages (from torch>=1.10.0->accelerate) (12.1.105)\n",
            "Requirement already satisfied: nvidia-cudnn-cu12==8.9.2.26 in /usr/local/lib/python3.10/dist-packages (from torch>=1.10.0->accelerate) (8.9.2.26)\n",
            "Requirement already satisfied: nvidia-cublas-cu12==12.1.3.1 in /usr/local/lib/python3.10/dist-packages (from torch>=1.10.0->accelerate) (12.1.3.1)\n",
            "Requirement already satisfied: nvidia-cufft-cu12==11.0.2.54 in /usr/local/lib/python3.10/dist-packages (from torch>=1.10.0->accelerate) (11.0.2.54)\n",
            "Requirement already satisfied: nvidia-curand-cu12==10.3.2.106 in /usr/local/lib/python3.10/dist-packages (from torch>=1.10.0->accelerate) (10.3.2.106)\n",
            "Requirement already satisfied: nvidia-cusolver-cu12==11.4.5.107 in /usr/local/lib/python3.10/dist-packages (from torch>=1.10.0->accelerate) (11.4.5.107)\n",
            "Requirement already satisfied: nvidia-cusparse-cu12==12.1.0.106 in /usr/local/lib/python3.10/dist-packages (from torch>=1.10.0->accelerate) (12.1.0.106)\n",
            "Requirement already satisfied: nvidia-nccl-cu12==2.19.3 in /usr/local/lib/python3.10/dist-packages (from torch>=1.10.0->accelerate) (2.19.3)\n",
            "Requirement already satisfied: nvidia-nvtx-cu12==12.1.105 in /usr/local/lib/python3.10/dist-packages (from torch>=1.10.0->accelerate) (12.1.105)\n",
            "Requirement already satisfied: triton==2.2.0 in /usr/local/lib/python3.10/dist-packages (from torch>=1.10.0->accelerate) (2.2.0)\n",
            "Requirement already satisfied: nvidia-nvjitlink-cu12 in /usr/local/lib/python3.10/dist-packages (from nvidia-cusolver-cu12==11.4.5.107->torch>=1.10.0->accelerate) (12.4.99)\n",
            "Requirement already satisfied: requests in /usr/local/lib/python3.10/dist-packages (from huggingface-hub->accelerate) (2.31.0)\n",
            "Requirement already satisfied: tqdm>=4.42.1 in /usr/local/lib/python3.10/dist-packages (from huggingface-hub->accelerate) (4.66.2)\n",
            "Requirement already satisfied: MarkupSafe>=2.0 in /usr/local/lib/python3.10/dist-packages (from jinja2->torch>=1.10.0->accelerate) (2.1.5)\n",
            "Requirement already satisfied: charset-normalizer<4,>=2 in /usr/local/lib/python3.10/dist-packages (from requests->huggingface-hub->accelerate) (3.3.2)\n",
            "Requirement already satisfied: idna<4,>=2.5 in /usr/local/lib/python3.10/dist-packages (from requests->huggingface-hub->accelerate) (3.6)\n",
            "Requirement already satisfied: urllib3<3,>=1.21.1 in /usr/local/lib/python3.10/dist-packages (from requests->huggingface-hub->accelerate) (2.0.7)\n",
            "Requirement already satisfied: certifi>=2017.4.17 in /usr/local/lib/python3.10/dist-packages (from requests->huggingface-hub->accelerate) (2024.2.2)\n",
            "Requirement already satisfied: mpmath>=0.19 in /usr/local/lib/python3.10/dist-packages (from sympy->torch>=1.10.0->accelerate) (1.3.0)\n"
          ]
        }
      ],
      "source": [
        "!pip install accelerate -U"
      ]
    },
    {
      "cell_type": "code",
      "execution_count": null,
      "metadata": {
        "colab": {
          "base_uri": "https://localhost:8080/"
        },
        "id": "vFqk2WCu8ww_",
        "outputId": "adedcc0e-9bf2-4ed3-d25d-81775836b0e6"
      },
      "outputs": [
        {
          "output_type": "stream",
          "name": "stdout",
          "text": [
            "Requirement already satisfied: datasets in /usr/local/lib/python3.10/dist-packages (2.18.0)\n",
            "Requirement already satisfied: filelock in /usr/local/lib/python3.10/dist-packages (from datasets) (3.13.3)\n",
            "Requirement already satisfied: numpy>=1.17 in /usr/local/lib/python3.10/dist-packages (from datasets) (1.25.2)\n",
            "Requirement already satisfied: pyarrow>=12.0.0 in /usr/local/lib/python3.10/dist-packages (from datasets) (14.0.2)\n",
            "Requirement already satisfied: pyarrow-hotfix in /usr/local/lib/python3.10/dist-packages (from datasets) (0.6)\n",
            "Requirement already satisfied: dill<0.3.9,>=0.3.0 in /usr/local/lib/python3.10/dist-packages (from datasets) (0.3.8)\n",
            "Requirement already satisfied: pandas in /usr/local/lib/python3.10/dist-packages (from datasets) (1.5.3)\n",
            "Requirement already satisfied: requests>=2.19.0 in /usr/local/lib/python3.10/dist-packages (from datasets) (2.31.0)\n",
            "Requirement already satisfied: tqdm>=4.62.1 in /usr/local/lib/python3.10/dist-packages (from datasets) (4.66.2)\n",
            "Requirement already satisfied: xxhash in /usr/local/lib/python3.10/dist-packages (from datasets) (3.4.1)\n",
            "Requirement already satisfied: multiprocess in /usr/local/lib/python3.10/dist-packages (from datasets) (0.70.16)\n",
            "Requirement already satisfied: fsspec[http]<=2024.2.0,>=2023.1.0 in /usr/local/lib/python3.10/dist-packages (from datasets) (2023.6.0)\n",
            "Requirement already satisfied: aiohttp in /usr/local/lib/python3.10/dist-packages (from datasets) (3.9.3)\n",
            "Requirement already satisfied: huggingface-hub>=0.19.4 in /usr/local/lib/python3.10/dist-packages (from datasets) (0.20.3)\n",
            "Requirement already satisfied: packaging in /usr/local/lib/python3.10/dist-packages (from datasets) (24.0)\n",
            "Requirement already satisfied: pyyaml>=5.1 in /usr/local/lib/python3.10/dist-packages (from datasets) (6.0.1)\n",
            "Requirement already satisfied: aiosignal>=1.1.2 in /usr/local/lib/python3.10/dist-packages (from aiohttp->datasets) (1.3.1)\n",
            "Requirement already satisfied: attrs>=17.3.0 in /usr/local/lib/python3.10/dist-packages (from aiohttp->datasets) (23.2.0)\n",
            "Requirement already satisfied: frozenlist>=1.1.1 in /usr/local/lib/python3.10/dist-packages (from aiohttp->datasets) (1.4.1)\n",
            "Requirement already satisfied: multidict<7.0,>=4.5 in /usr/local/lib/python3.10/dist-packages (from aiohttp->datasets) (6.0.5)\n",
            "Requirement already satisfied: yarl<2.0,>=1.0 in /usr/local/lib/python3.10/dist-packages (from aiohttp->datasets) (1.9.4)\n",
            "Requirement already satisfied: async-timeout<5.0,>=4.0 in /usr/local/lib/python3.10/dist-packages (from aiohttp->datasets) (4.0.3)\n",
            "Requirement already satisfied: typing-extensions>=3.7.4.3 in /usr/local/lib/python3.10/dist-packages (from huggingface-hub>=0.19.4->datasets) (4.10.0)\n",
            "Requirement already satisfied: charset-normalizer<4,>=2 in /usr/local/lib/python3.10/dist-packages (from requests>=2.19.0->datasets) (3.3.2)\n",
            "Requirement already satisfied: idna<4,>=2.5 in /usr/local/lib/python3.10/dist-packages (from requests>=2.19.0->datasets) (3.6)\n",
            "Requirement already satisfied: urllib3<3,>=1.21.1 in /usr/local/lib/python3.10/dist-packages (from requests>=2.19.0->datasets) (2.0.7)\n",
            "Requirement already satisfied: certifi>=2017.4.17 in /usr/local/lib/python3.10/dist-packages (from requests>=2.19.0->datasets) (2024.2.2)\n",
            "Requirement already satisfied: python-dateutil>=2.8.1 in /usr/local/lib/python3.10/dist-packages (from pandas->datasets) (2.8.2)\n",
            "Requirement already satisfied: pytz>=2020.1 in /usr/local/lib/python3.10/dist-packages (from pandas->datasets) (2023.4)\n",
            "Requirement already satisfied: six>=1.5 in /usr/local/lib/python3.10/dist-packages (from python-dateutil>=2.8.1->pandas->datasets) (1.16.0)\n"
          ]
        }
      ],
      "source": [
        "!pip install datasets"
      ]
    },
    {
      "cell_type": "markdown",
      "metadata": {
        "id": "FBm_gdC0ytlR"
      },
      "source": [
        "## Pre-processing\n",
        "We aim to fine-tune [lwachowiak/Metaphor-Detection-XLMR](https://huggingface.co/lwachowiak/Metaphor-Detection-XLMR) model, trained on the VU Amsterdam Metaphor Corpus, which is restricted to English. To this end, we have selected the [CoMeta](https://ixa-ehu.github.io/cometa/), a corpus for metaphor detection in Spanish, which is available in the Datasets library provided by Hugging Face."
      ]
    },
    {
      "cell_type": "code",
      "execution_count": null,
      "metadata": {
        "id": "7-xyjTMvTGfd"
      },
      "outputs": [],
      "source": [
        "# Load the dataset\n",
        "from datasets import load_dataset\n",
        "data = load_dataset(\"HiTZ/cometa\")"
      ]
    },
    {
      "cell_type": "markdown",
      "metadata": {
        "id": "XqrJ1zhS4taT"
      },
      "source": [
        "The CoMeta dataset comprises only two partitions: train and test."
      ]
    },
    {
      "cell_type": "code",
      "execution_count": null,
      "metadata": {
        "id": "5E5tgb9-8-jF"
      },
      "outputs": [],
      "source": [
        "train_dataset = data[\"train\"]\n",
        "test_dataset = data[\"test\"]"
      ]
    },
    {
      "cell_type": "code",
      "execution_count": null,
      "metadata": {
        "colab": {
          "base_uri": "https://localhost:8080/"
        },
        "id": "MHYV_86K94Df",
        "outputId": "c6c0e95a-9503-4700-dc64-c884b4031d90"
      },
      "outputs": [
        {
          "output_type": "execute_result",
          "data": {
            "text/plain": [
              "{'id': 3,\n",
              " 'tokens': ['Éste',\n",
              "  'es',\n",
              "  'el',\n",
              "  'enfoque',\n",
              "  'que',\n",
              "  'ha',\n",
              "  'defendido',\n",
              "  'desde',\n",
              "  'un',\n",
              "  'principio',\n",
              "  'mi',\n",
              "  'Gobierno',\n",
              "  'y',\n",
              "  'que',\n",
              "  'hoy',\n",
              "  'es',\n",
              "  'generalmente',\n",
              "  'compartido',\n",
              "  'por',\n",
              "  'los',\n",
              "  'países',\n",
              "  'que',\n",
              "  'componen',\n",
              "  'la',\n",
              "  'misión',\n",
              "  '.'],\n",
              " 'tags': [0,\n",
              "  0,\n",
              "  0,\n",
              "  1,\n",
              "  0,\n",
              "  0,\n",
              "  1,\n",
              "  0,\n",
              "  0,\n",
              "  0,\n",
              "  0,\n",
              "  0,\n",
              "  0,\n",
              "  0,\n",
              "  0,\n",
              "  0,\n",
              "  0,\n",
              "  0,\n",
              "  0,\n",
              "  0,\n",
              "  0,\n",
              "  0,\n",
              "  0,\n",
              "  0,\n",
              "  0,\n",
              "  0]}"
            ]
          },
          "metadata": {},
          "execution_count": 178
        }
      ],
      "source": [
        "# Show an individual examples within the dataset\n",
        "data[\"train\"][3]"
      ]
    },
    {
      "cell_type": "markdown",
      "metadata": {
        "id": "QEGDV9hW6CJO"
      },
      "source": [
        "We create a function to display random examples for analyzing the dataset structure."
      ]
    },
    {
      "cell_type": "code",
      "execution_count": null,
      "metadata": {
        "id": "r_McaLTh-LK1"
      },
      "outputs": [],
      "source": [
        "from datasets import ClassLabel, Sequence\n",
        "import random\n",
        "import pandas as pd\n",
        "from IPython.display import display, HTML\n",
        "\n",
        "def show_random_elements(dataset, num_examples=10):\n",
        "    assert num_examples <= len(dataset), \"Can't pick more elements than there are in the dataset.\"\n",
        "    picks = []\n",
        "    for _ in range(num_examples):\n",
        "        pick = random.randint(0, len(dataset)-1)\n",
        "        while pick in picks:\n",
        "            pick = random.randint(0, len(dataset)-1)\n",
        "        picks.append(pick)\n",
        "\n",
        "    df = pd.DataFrame(dataset[picks])\n",
        "    for column, typ in dataset.features.items():\n",
        "        if isinstance(typ, ClassLabel):\n",
        "            df[column] = df[column].transform(lambda i: typ.names[i])\n",
        "        elif isinstance(typ, Sequence) and isinstance(typ.feature, ClassLabel):\n",
        "            df[column] = df[column].transform(lambda x: [typ.feature.names[i] for i in x])\n",
        "    display(HTML(df.to_html()))"
      ]
    },
    {
      "cell_type": "markdown",
      "metadata": {
        "id": "F4-gC9PE6QGs"
      },
      "source": [
        "As we can see in the following table, our dataset has two columns: 'tokens' and 'tags'. The former contains lists of tokens that make up sentences, while the latter includes lists of tags assigned to each token in the corresponding sentence. In short, each token has a specific label associated with it.\n",
        "\n",
        "There are two possible labels:\n",
        "* Label 0 refers to literal usage.\n",
        "* Label 1 corresponds to metaphoric usage."
      ]
    },
    {
      "cell_type": "code",
      "execution_count": null,
      "metadata": {
        "colab": {
          "base_uri": "https://localhost:8080/",
          "height": 484
        },
        "id": "fRny7di5-iq3",
        "outputId": "56085ce2-5512-4da1-fdac-93012294078e"
      },
      "outputs": [
        {
          "output_type": "display_data",
          "data": {
            "text/plain": [
              "<IPython.core.display.HTML object>"
            ],
            "text/html": [
              "<table border=\"1\" class=\"dataframe\">\n",
              "  <thead>\n",
              "    <tr style=\"text-align: right;\">\n",
              "      <th></th>\n",
              "      <th>id</th>\n",
              "      <th>tokens</th>\n",
              "      <th>tags</th>\n",
              "    </tr>\n",
              "  </thead>\n",
              "  <tbody>\n",
              "    <tr>\n",
              "      <th>0</th>\n",
              "      <td>2619</td>\n",
              "      <td>[Las, primeras, bajas, de, los, rebeldes, irlandeses, en, el, alzamiento, fueron, dos, activistas, del, de, el, ICA, en, un, frustrado, intento, de, asedio, del, de, el, Castillo, de, Dublín, .]</td>\n",
              "      <td>[0, 0, 0, 0, 0, 0, 0, 0, 0, 0, 0, 0, 0, 0, 0, 0, 0, 0, 0, 0, 0, 0, 0, 0, 0, 0, 0, 0, 0, 0]</td>\n",
              "    </tr>\n",
              "    <tr>\n",
              "      <th>1</th>\n",
              "      <td>456</td>\n",
              "      <td>[Los, jueces, ,, lehendakari, ,, determinan, responsabilidades, penales, o, administrativas, de, las, actuaciones, que, enjuician, ,, pero, no, pueden, significar, una, coartada, ,, ni, para, que, el, Gobierno, evite, la, intervención, de, su, Comisión, de, Ética, ,, ni, para, que, deje, de, asumir, responsabilidades, políticas, y, ,, sobre, todo, ,, los, mandatos, de, este, Parlamento, .]</td>\n",
              "      <td>[0, 0, 0, 0, 0, 0, 0, 0, 0, 0, 0, 0, 0, 0, 0, 0, 0, 0, 0, 0, 0, 0, 0, 0, 0, 0, 0, 0, 0, 0, 0, 0, 0, 0, 0, 0, 0, 0, 0, 0, 0, 0, 0, 0, 0, 0, 0, 0, 0, 0, 0, 0, 0, 0, 0, 0]</td>\n",
              "    </tr>\n",
              "    <tr>\n",
              "      <th>2</th>\n",
              "      <td>102</td>\n",
              "      <td>[La, operación, está, sujeta, a, ciertas, ', condiciones, suspensivas, ', ,, como, la, obtención, de, autorizaciones, administrativas, de, acuerdo, con, el, contrato, de, concesión, y, con, la, ley, de, defensa, de, la, competencia, ,, y, a, otros, requisitos, como, la, confirmación, de, los, vendedores, que, deberá, ser, emitida, antes, del, 10, de, octubre, próximo, .]</td>\n",
              "      <td>[0, 0, 0, 0, 0, 0, 0, 0, 0, 0, 0, 0, 0, 0, 0, 0, 0, 0, 0, 0, 0, 0, 0, 0, 0, 0, 0, 0, 0, 0, 0, 0, 0, 0, 0, 0, 0, 0, 0, 0, 0, 0, 0, 0, 0, 0, 0, 0, 0, 0, 0, 0, 0, 0, 0]</td>\n",
              "    </tr>\n",
              "    <tr>\n",
              "      <th>3</th>\n",
              "      <td>1126</td>\n",
              "      <td>[El, dirigente, de, CCOO, admitió, que, hace, falta, un, socio, tecnológico, que, aumente, las, inversiones, en, investigación, y, desarrollo, y, ayude, a, la, compañía, a, acceder, a, nuevos, mercados, .]</td>\n",
              "      <td>[0, 0, 0, 0, 0, 0, 0, 0, 0, 0, 0, 0, 0, 0, 0, 0, 0, 0, 0, 0, 0, 0, 0, 0, 0, 0, 0, 0, 0, 0]</td>\n",
              "    </tr>\n",
              "    <tr>\n",
              "      <th>4</th>\n",
              "      <td>1003</td>\n",
              "      <td>[En, más, de, una, ocasión, tuvo, acceso, a, los, paddock, del, de, el, Gran, Premio, de, Inglaterra, en, el, Circuito, de, Silverstone, ,, así, como, en, otros, circuitos, .]</td>\n",
              "      <td>[0, 0, 0, 0, 0, 0, 0, 0, 0, 0, 0, 0, 0, 0, 0, 0, 0, 0, 0, 0, 0, 0, 0, 0, 0, 0, 0, 0, 0]</td>\n",
              "    </tr>\n",
              "    <tr>\n",
              "      <th>5</th>\n",
              "      <td>914</td>\n",
              "      <td>[En, 1695, ,, un, grupo, de, indios, teribes, fueron, enviados, a, la, región, de, Boruca, ,, al, a, el, sureste, de, Costa, Rica, ,, y, fundan, el, pueblo, de, San, Francisco, de, Térraba, .]</td>\n",
              "      <td>[0, 0, 0, 0, 0, 0, 0, 0, 0, 0, 0, 0, 0, 0, 0, 0, 0, 0, 0, 0, 0, 0, 0, 0, 0, 0, 0, 0, 0, 0, 0, 0, 0, 0]</td>\n",
              "    </tr>\n",
              "    <tr>\n",
              "      <th>6</th>\n",
              "      <td>571</td>\n",
              "      <td>[Usted, ha, hecho, referencia, a, una, parte, de, mi, intervención, y, yo, leo, textualmente, lo, que, dije, y, es, que, ', el, Gobierno, ha, asumido, con, humildad, y, claridad, que, hay, ámbitos, de, la, gestión, de, determinados, patrocinios, que, pueden, ser, mejorados, ', .]</td>\n",
              "      <td>[0, 0, 0, 0, 0, 0, 0, 0, 0, 0, 0, 0, 0, 0, 0, 0, 0, 0, 0, 0, 0, 0, 0, 0, 0, 0, 0, 0, 1, 0, 0, 0, 0, 0, 0, 0, 0, 0, 0, 0, 0, 0, 0, 0]</td>\n",
              "    </tr>\n",
              "    <tr>\n",
              "      <th>7</th>\n",
              "      <td>419</td>\n",
              "      <td>[Obuchi, ,, de, 62, años, ,, sufrió, un, derrame, cerebral, en, la, madrugada, del, día, 2, de, abril, y, ,, tras, permanecer, seis, semanas, en, estado, de, coma, ,, falleció, en, el, hospital, Yuntendo, de, Tokio, .]</td>\n",
              "      <td>[0, 0, 0, 0, 0, 0, 0, 0, 0, 0, 0, 0, 0, 0, 0, 0, 0, 0, 0, 0, 0, 0, 0, 0, 0, 0, 0, 0, 0, 0, 0, 0, 0, 0, 0, 0, 0]</td>\n",
              "    </tr>\n",
              "    <tr>\n",
              "      <th>8</th>\n",
              "      <td>2771</td>\n",
              "      <td>[Muchos, de, los, que, estáis, hoy, aquí, conocisteis, a, Miguel, Ángel, .]</td>\n",
              "      <td>[0, 0, 0, 0, 0, 0, 0, 0, 0, 0, 0, 0]</td>\n",
              "    </tr>\n",
              "    <tr>\n",
              "      <th>9</th>\n",
              "      <td>2233</td>\n",
              "      <td>[Hasta, ahora, ,, Rayo, y, Deportivo, se, habían, enfrentado, ocho, veces, en, Primera, División, ,, con, un, saldo, de, tres, victorias, del, conjunto, coruñés, y, cinco, empates, .]</td>\n",
              "      <td>[0, 0, 0, 0, 0, 0, 0, 0, 0, 0, 0, 0, 0, 0, 0, 0, 0, 0, 0, 0, 0, 0, 0, 0, 0, 0, 0, 0]</td>\n",
              "    </tr>\n",
              "  </tbody>\n",
              "</table>"
            ]
          },
          "metadata": {}
        }
      ],
      "source": [
        "# Display random examples\n",
        "show_random_elements(data[\"train\"])"
      ]
    },
    {
      "cell_type": "markdown",
      "metadata": {
        "id": "CYLIzKAo8GTx"
      },
      "source": [
        "We load the tokenizer from the model we intend to fine-tune. The tokenizer splits the inputs, converting the tokens to their corresponding IDs in the pre-trained vocabulary, and formats them as the model expects."
      ]
    },
    {
      "cell_type": "code",
      "execution_count": null,
      "metadata": {
        "id": "1Hi-ICJN-2vd"
      },
      "outputs": [],
      "source": [
        "# Load the tokenizer\n",
        "from transformers import AutoTokenizer, AutoModelForTokenClassification\n",
        "\n",
        "tokenizer = AutoTokenizer.from_pretrained(\"lwachowiak/Metaphor-Detection-XLMR\")"
      ]
    },
    {
      "cell_type": "code",
      "execution_count": null,
      "metadata": {
        "colab": {
          "base_uri": "https://localhost:8080/"
        },
        "id": "fT1hWLXo_Pm9",
        "outputId": "6b117bca-86c3-4626-b6a9-7201900106b7"
      },
      "outputs": [
        {
          "output_type": "execute_result",
          "data": {
            "text/plain": [
              "{'input_ids': [0, 157607, 56660, 16531, 22, 12234, 2], 'attention_mask': [1, 1, 1, 1, 1, 1, 1]}"
            ]
          },
          "metadata": {},
          "execution_count": 182
        }
      ],
      "source": [
        "# Tokenize an example to see the output\n",
        "tokenizer(\"Estoy ahogada en problemas\")"
      ]
    },
    {
      "cell_type": "markdown",
      "metadata": {
        "id": "vewDKGIl834x"
      },
      "source": [
        "Next we compare the original tokens with the ones returned by the tokenizer, to observe how the tokenizer processes and represents each word in the original sentence."
      ]
    },
    {
      "cell_type": "code",
      "execution_count": null,
      "metadata": {
        "colab": {
          "base_uri": "https://localhost:8080/"
        },
        "id": "7tGf30H5_ag9",
        "outputId": "672c4427-da1c-46f3-f957-fefb6957e2f2"
      },
      "outputs": [
        {
          "output_type": "stream",
          "name": "stdout",
          "text": [
            "['Especialistas', 'de', 'las', 'Fuerzas', 'Armadas', 'egipcias', 'afirman', 'que', 'hasta', 'finales', 'de', '1999', 'han', 'eliminado', 'más', 'de', 'dos', 'millones', 'de', 'minas', '.']\n"
          ]
        }
      ],
      "source": [
        "sample = data[\"train\"][5]\n",
        "print(sample[\"tokens\"])"
      ]
    },
    {
      "cell_type": "code",
      "execution_count": null,
      "metadata": {
        "colab": {
          "base_uri": "https://localhost:8080/"
        },
        "id": "pRnrPKUi_fz1",
        "outputId": "5a0e02f4-cf99-44e2-a228-55e859f899ab"
      },
      "outputs": [
        {
          "output_type": "stream",
          "name": "stdout",
          "text": [
            "['<s>', '▁Especial', 'istas', '▁de', '▁las', '▁Fuerza', 's', '▁Armada', 's', '▁e', 'gip', 'cias', '▁afirma', 'n', '▁que', '▁hasta', '▁finales', '▁de', '▁1999', '▁han', '▁elimina', 'do', '▁más', '▁de', '▁dos', '▁millones', '▁de', '▁mina', 's', '▁', '.', '</s>']\n"
          ]
        }
      ],
      "source": [
        "tokenized_input = tokenizer(sample[\"tokens\"], is_split_into_words=True)\n",
        "tokens = tokenizer.convert_ids_to_tokens(tokenized_input[\"input_ids\"])\n",
        "print(tokens)"
      ]
    },
    {
      "cell_type": "markdown",
      "metadata": {
        "id": "MbHzDr2g9fbs"
      },
      "source": [
        "We observe that the tokenizer includes some necessary inputs required by the model, and words that the model does not recognize are split into subtokens. Consequently, as we can see below, the list of input IDs returned by the tokenizer is longer than the list of labels. Therefore, we need to align them."
      ]
    },
    {
      "cell_type": "code",
      "execution_count": null,
      "metadata": {
        "colab": {
          "base_uri": "https://localhost:8080/"
        },
        "id": "-ucg3AgkAHHU",
        "outputId": "87d80ee4-b358-4046-9d0c-658110ed1115"
      },
      "outputs": [
        {
          "output_type": "execute_result",
          "data": {
            "text/plain": [
              "(21, 32)"
            ]
          },
          "metadata": {},
          "execution_count": 185
        }
      ],
      "source": [
        "len(sample[f\"tags\"]), len(tokenized_input[\"input_ids\"])"
      ]
    },
    {
      "cell_type": "code",
      "execution_count": null,
      "metadata": {
        "colab": {
          "base_uri": "https://localhost:8080/"
        },
        "id": "1lMgmLEbAan-",
        "outputId": "8c139774-6779-49f9-955f-7bdbd015d462"
      },
      "outputs": [
        {
          "output_type": "stream",
          "name": "stdout",
          "text": [
            "32 32\n"
          ]
        }
      ],
      "source": [
        "word_ids = tokenized_input.word_ids()\n",
        "aligned_labels = [-100 if i is None else sample[\"tags\"][i] for i in word_ids]\n",
        "print(len(aligned_labels), len(tokenized_input[\"input_ids\"]))"
      ]
    },
    {
      "cell_type": "markdown",
      "metadata": {
        "id": "KsCc-fFy-Tjl"
      },
      "source": [
        "In order to tokenize and align the labels, we will create a function that consists in creating a new label list that reflects the tokenized input structure. For each original word and its resulting subtokens we assign the same label to each subtoken. This way, we ensure a direct correspondence between the input IDs and their respective labels."
      ]
    },
    {
      "cell_type": "code",
      "execution_count": null,
      "metadata": {
        "id": "ikwWwFJ7AmG_"
      },
      "outputs": [],
      "source": [
        "# Assign labels to all tokens, not just to the first token of each word, to ensure that each subtoken receives a label\n",
        "label_all_tokens = True"
      ]
    },
    {
      "cell_type": "code",
      "execution_count": null,
      "metadata": {
        "id": "WoahUpaJ--TX"
      },
      "outputs": [],
      "source": [
        "def tokenize_and_align_labels(examples):\n",
        "    tokenized_inputs = tokenizer(examples[\"tokens\"], truncation=True, is_split_into_words=True)\n",
        "\n",
        "    # Create a new label list to store aligned labels\n",
        "    labels = []\n",
        "    for i, label in enumerate(examples[f\"tags\"]):\n",
        "        word_ids = tokenized_inputs.word_ids(batch_index=i)\n",
        "        previous_word_idx = None\n",
        "        label_ids = []\n",
        "        for word_idx in word_ids:\n",
        "            # Special tokens have a word id that is None, set the label to -100 so they are automatically ignored in the loss function.\n",
        "            if word_idx is None:\n",
        "                label_ids.append(-100)\n",
        "            # Set the label for the first token of each word\n",
        "            elif word_idx != previous_word_idx:\n",
        "                label_ids.append(label[word_idx])\n",
        "            # For the other tokens in a word, set the label to either the current label or -100, depending on the label_all_tokens flag.\n",
        "            else:\n",
        "                label_ids.append(label[word_idx] if label_all_tokens else -100)\n",
        "            previous_word_idx = word_idx\n",
        "        # Append the aligned labels to the labels list\n",
        "        labels.append(label_ids)\n",
        "\n",
        "    # Add the aligned labels to the tokenized inputs\n",
        "    tokenized_inputs[\"labels\"] = labels\n",
        "    return tokenized_inputs"
      ]
    },
    {
      "cell_type": "code",
      "execution_count": null,
      "metadata": {
        "colab": {
          "base_uri": "https://localhost:8080/"
        },
        "id": "UrikDMq2A0_l",
        "outputId": "d6ed16a8-a600-4fd4-dd5e-123cc30055ab"
      },
      "outputs": [
        {
          "output_type": "execute_result",
          "data": {
            "text/plain": [
              "{'input_ids': [[0, 242, 3561, 37421, 115675, 41, 110, 95, 26895, 10, 82633, 1129, 3701, 88, 33362, 6, 5, 2], [0, 357, 18608, 37363, 1538, 533, 182798, 885, 22, 21, 58342, 24668, 581, 89868, 13, 28090, 170852, 6, 5, 2], [0, 20, 20, 2369, 2168, 151, 2168, 6, 5, 2], [0, 10833, 67, 198, 88, 162936, 41, 256, 187727, 246, 3287, 51, 37004, 324, 44744, 113, 41, 12119, 198, 164489, 42215, 246, 196, 388, 18387, 41, 148347, 19, 21, 6, 55611, 6, 5, 2], [0, 17151, 28528, 140323, 72742, 1500, 157846, 136469, 10, 51, 7733, 8, 105799, 7, 41, 21, 100562, 22, 21, 2924, 3290, 4000, 52441, 5977, 41, 13744, 1011, 2924, 3290, 809, 145, 5543, 88, 130205, 8, 388, 17013, 158, 141514, 180291, 6, 4, 5171, 139214, 184, 139214, 40, 196, 21, 162702, 8, 46094, 141514, 113, 41, 164419, 21, 119031, 146, 31357, 12763, 105244, 10, 388, 50871, 123066, 90, 41, 17432, 1397, 95280, 7, 1011, 2924, 3290, 4000, 52441, 5977, 6, 5, 2]], 'attention_mask': [[1, 1, 1, 1, 1, 1, 1, 1, 1, 1, 1, 1, 1, 1, 1, 1, 1, 1], [1, 1, 1, 1, 1, 1, 1, 1, 1, 1, 1, 1, 1, 1, 1, 1, 1, 1, 1, 1], [1, 1, 1, 1, 1, 1, 1, 1, 1, 1], [1, 1, 1, 1, 1, 1, 1, 1, 1, 1, 1, 1, 1, 1, 1, 1, 1, 1, 1, 1, 1, 1, 1, 1, 1, 1, 1, 1, 1, 1, 1, 1, 1, 1], [1, 1, 1, 1, 1, 1, 1, 1, 1, 1, 1, 1, 1, 1, 1, 1, 1, 1, 1, 1, 1, 1, 1, 1, 1, 1, 1, 1, 1, 1, 1, 1, 1, 1, 1, 1, 1, 1, 1, 1, 1, 1, 1, 1, 1, 1, 1, 1, 1, 1, 1, 1, 1, 1, 1, 1, 1, 1, 1, 1, 1, 1, 1, 1, 1, 1, 1, 1, 1, 1, 1, 1, 1, 1, 1, 1, 1, 1, 1, 1, 1]], 'labels': [[-100, 0, 0, 0, 0, 0, 0, 0, 0, 0, 0, 0, 0, 0, 0, 0, 0, -100], [-100, 0, 0, 0, 0, 0, 0, 0, 0, 0, 0, 0, 0, 0, 0, 0, 0, 0, 0, -100], [-100, 0, 0, 0, 0, 0, 0, 0, 0, -100], [-100, 0, 0, 0, 0, 1, 0, 0, 1, 1, 0, 0, 0, 0, 0, 0, 0, 0, 0, 0, 0, 0, 0, 0, 0, 0, 0, 0, 0, 0, 0, 0, 0, -100], [-100, 0, 0, 0, 0, 0, 0, 0, 0, 0, 0, 0, 0, 0, 0, 0, 0, 0, 0, 0, 0, 0, 0, 0, 0, 0, 0, 0, 0, 0, 0, 0, 0, 0, 0, 0, 0, 0, 0, 0, 0, 0, 0, 0, 0, 0, 0, 0, 0, 1, 0, 0, 0, 0, 0, 0, 0, 0, 0, 0, 0, 0, 0, 0, 0, 0, 0, 0, 0, 0, 0, 0, 0, 0, 0, 0, 0, 0, 0, 0, -100]]}"
            ]
          },
          "metadata": {},
          "execution_count": 189
        }
      ],
      "source": [
        "# Apply the function to some examples\n",
        "tokenize_and_align_labels(data['train'][:5])"
      ]
    },
    {
      "cell_type": "code",
      "execution_count": null,
      "metadata": {
        "id": "0vnOikeIIqfD"
      },
      "outputs": [],
      "source": [
        "# Apply the function to all examples in both the training and testing sets\n",
        "tokenized_datasets = data.map(tokenize_and_align_labels, batched=True)"
      ]
    },
    {
      "cell_type": "markdown",
      "metadata": {
        "id": "j5tRmmSkB7HX"
      },
      "source": [
        "## Fine-tuning\n",
        "\n",
        "In this section, now that our data is pre-processed, we proceed to download and fine-tune the [lwachowiak/Metaphor-Detection-XLMR](https://huggingface.co/lwachowiak/Metaphor-Detection-XLMR) model."
      ]
    },
    {
      "cell_type": "code",
      "execution_count": null,
      "metadata": {
        "colab": {
          "base_uri": "https://localhost:8080/"
        },
        "id": "DhOJ3_ILGC5r",
        "outputId": "321fe7dc-f32f-4400-a69f-f2adf5cd004e"
      },
      "outputs": [
        {
          "output_type": "stream",
          "name": "stdout",
          "text": [
            "Drive already mounted at /content/drive; to attempt to forcibly remount, call drive.mount(\"/content/drive\", force_remount=True).\n"
          ]
        }
      ],
      "source": [
        "# Mount Google Drive to save the fine-tuned model and training results\n",
        "from google.colab import drive\n",
        "drive.mount('/content/drive')"
      ]
    },
    {
      "cell_type": "code",
      "execution_count": null,
      "metadata": {
        "id": "0WkKF56REqD8"
      },
      "outputs": [],
      "source": [
        "# Specify the model we want to fine-tune\n",
        "model_checkpoint = \"lwachowiak/Metaphor-Detection-XLMR\""
      ]
    },
    {
      "cell_type": "code",
      "execution_count": null,
      "metadata": {
        "id": "NN-a447vBBUv"
      },
      "outputs": [],
      "source": [
        "# Load the model for token classification\n",
        "model = AutoModelForTokenClassification.from_pretrained(model_checkpoint)"
      ]
    },
    {
      "cell_type": "markdown",
      "source": [
        "To instantiate a `Trainer`, we need to define three main components. First, we have to set the training parameters using `TrainingArguments`."
      ],
      "metadata": {
        "id": "AJhWgR4dFU4p"
      }
    },
    {
      "cell_type": "code",
      "execution_count": null,
      "metadata": {
        "id": "1Feu6OxHCYgo"
      },
      "outputs": [],
      "source": [
        "from transformers import AutoModelForTokenClassification, TrainingArguments, Trainer\n",
        "\n",
        "# Set the training parameters\n",
        "model_new = model_checkpoint.split(\"/\")[-1]\n",
        "args = TrainingArguments(\n",
        "    output_dir=\"/content/drive/My Drive/Colab Notebooks/trabajo final app1/Results\",\n",
        "    evaluation_strategy = \"epoch\",\n",
        "    learning_rate=2e-5,\n",
        "    per_device_train_batch_size=16,\n",
        "    per_device_eval_batch_size=16,\n",
        "    num_train_epochs=3,\n",
        "    weight_decay=0.01,\n",
        ")"
      ]
    },
    {
      "cell_type": "markdown",
      "source": [
        "The second component that needs to be defined is the `data_collator`. This is used for batching processed examples together and applying padding to ensuare they are all the same size. The data collator that we will be using for this task can be found in the Transformers library and it not only pads the input sequences but also the corresponding labels."
      ],
      "metadata": {
        "id": "MFagHE9KGShK"
      }
    },
    {
      "cell_type": "code",
      "execution_count": null,
      "metadata": {
        "id": "wh-JSR-nEFBZ"
      },
      "outputs": [],
      "source": [
        "from transformers import DataCollatorForTokenClassification\n",
        "\n",
        "# Initialize a data collator for token classification using the tokenizer\n",
        "data_collator = DataCollatorForTokenClassification(tokenizer)"
      ]
    },
    {
      "cell_type": "markdown",
      "source": [
        "The last component is the metric we will use to evaluate the predictions made by our fine-tuned model. Since we are performing token classification, we will load the 'seqeval' metric for sequence labeling evaluation."
      ],
      "metadata": {
        "id": "xdM1ZAVIHkqv"
      }
    },
    {
      "cell_type": "code",
      "execution_count": null,
      "metadata": {
        "colab": {
          "base_uri": "https://localhost:8080/"
        },
        "id": "u4qs03bsG2MJ",
        "outputId": "d823bb46-09a2-456a-e305-881ca4370051"
      },
      "outputs": [
        {
          "output_type": "stream",
          "name": "stdout",
          "text": [
            "Requirement already satisfied: datasets in /usr/local/lib/python3.10/dist-packages (2.18.0)\n",
            "Requirement already satisfied: transformers in /usr/local/lib/python3.10/dist-packages (4.38.2)\n",
            "Requirement already satisfied: seqeval in /usr/local/lib/python3.10/dist-packages (1.2.2)\n",
            "Requirement already satisfied: filelock in /usr/local/lib/python3.10/dist-packages (from datasets) (3.13.3)\n",
            "Requirement already satisfied: numpy>=1.17 in /usr/local/lib/python3.10/dist-packages (from datasets) (1.25.2)\n",
            "Requirement already satisfied: pyarrow>=12.0.0 in /usr/local/lib/python3.10/dist-packages (from datasets) (14.0.2)\n",
            "Requirement already satisfied: pyarrow-hotfix in /usr/local/lib/python3.10/dist-packages (from datasets) (0.6)\n",
            "Requirement already satisfied: dill<0.3.9,>=0.3.0 in /usr/local/lib/python3.10/dist-packages (from datasets) (0.3.8)\n",
            "Requirement already satisfied: pandas in /usr/local/lib/python3.10/dist-packages (from datasets) (1.5.3)\n",
            "Requirement already satisfied: requests>=2.19.0 in /usr/local/lib/python3.10/dist-packages (from datasets) (2.31.0)\n",
            "Requirement already satisfied: tqdm>=4.62.1 in /usr/local/lib/python3.10/dist-packages (from datasets) (4.66.2)\n",
            "Requirement already satisfied: xxhash in /usr/local/lib/python3.10/dist-packages (from datasets) (3.4.1)\n",
            "Requirement already satisfied: multiprocess in /usr/local/lib/python3.10/dist-packages (from datasets) (0.70.16)\n",
            "Requirement already satisfied: fsspec[http]<=2024.2.0,>=2023.1.0 in /usr/local/lib/python3.10/dist-packages (from datasets) (2023.6.0)\n",
            "Requirement already satisfied: aiohttp in /usr/local/lib/python3.10/dist-packages (from datasets) (3.9.3)\n",
            "Requirement already satisfied: huggingface-hub>=0.19.4 in /usr/local/lib/python3.10/dist-packages (from datasets) (0.20.3)\n",
            "Requirement already satisfied: packaging in /usr/local/lib/python3.10/dist-packages (from datasets) (24.0)\n",
            "Requirement already satisfied: pyyaml>=5.1 in /usr/local/lib/python3.10/dist-packages (from datasets) (6.0.1)\n",
            "Requirement already satisfied: regex!=2019.12.17 in /usr/local/lib/python3.10/dist-packages (from transformers) (2023.12.25)\n",
            "Requirement already satisfied: tokenizers<0.19,>=0.14 in /usr/local/lib/python3.10/dist-packages (from transformers) (0.15.2)\n",
            "Requirement already satisfied: safetensors>=0.4.1 in /usr/local/lib/python3.10/dist-packages (from transformers) (0.4.2)\n",
            "Requirement already satisfied: scikit-learn>=0.21.3 in /usr/local/lib/python3.10/dist-packages (from seqeval) (1.2.2)\n",
            "Requirement already satisfied: aiosignal>=1.1.2 in /usr/local/lib/python3.10/dist-packages (from aiohttp->datasets) (1.3.1)\n",
            "Requirement already satisfied: attrs>=17.3.0 in /usr/local/lib/python3.10/dist-packages (from aiohttp->datasets) (23.2.0)\n",
            "Requirement already satisfied: frozenlist>=1.1.1 in /usr/local/lib/python3.10/dist-packages (from aiohttp->datasets) (1.4.1)\n",
            "Requirement already satisfied: multidict<7.0,>=4.5 in /usr/local/lib/python3.10/dist-packages (from aiohttp->datasets) (6.0.5)\n",
            "Requirement already satisfied: yarl<2.0,>=1.0 in /usr/local/lib/python3.10/dist-packages (from aiohttp->datasets) (1.9.4)\n",
            "Requirement already satisfied: async-timeout<5.0,>=4.0 in /usr/local/lib/python3.10/dist-packages (from aiohttp->datasets) (4.0.3)\n",
            "Requirement already satisfied: typing-extensions>=3.7.4.3 in /usr/local/lib/python3.10/dist-packages (from huggingface-hub>=0.19.4->datasets) (4.10.0)\n",
            "Requirement already satisfied: charset-normalizer<4,>=2 in /usr/local/lib/python3.10/dist-packages (from requests>=2.19.0->datasets) (3.3.2)\n",
            "Requirement already satisfied: idna<4,>=2.5 in /usr/local/lib/python3.10/dist-packages (from requests>=2.19.0->datasets) (3.6)\n",
            "Requirement already satisfied: urllib3<3,>=1.21.1 in /usr/local/lib/python3.10/dist-packages (from requests>=2.19.0->datasets) (2.0.7)\n",
            "Requirement already satisfied: certifi>=2017.4.17 in /usr/local/lib/python3.10/dist-packages (from requests>=2.19.0->datasets) (2024.2.2)\n",
            "Requirement already satisfied: scipy>=1.3.2 in /usr/local/lib/python3.10/dist-packages (from scikit-learn>=0.21.3->seqeval) (1.11.4)\n",
            "Requirement already satisfied: joblib>=1.1.1 in /usr/local/lib/python3.10/dist-packages (from scikit-learn>=0.21.3->seqeval) (1.3.2)\n",
            "Requirement already satisfied: threadpoolctl>=2.0.0 in /usr/local/lib/python3.10/dist-packages (from scikit-learn>=0.21.3->seqeval) (3.4.0)\n",
            "Requirement already satisfied: python-dateutil>=2.8.1 in /usr/local/lib/python3.10/dist-packages (from pandas->datasets) (2.8.2)\n",
            "Requirement already satisfied: pytz>=2020.1 in /usr/local/lib/python3.10/dist-packages (from pandas->datasets) (2023.4)\n",
            "Requirement already satisfied: six>=1.5 in /usr/local/lib/python3.10/dist-packages (from python-dateutil>=2.8.1->pandas->datasets) (1.16.0)\n"
          ]
        }
      ],
      "source": [
        "!pip install datasets transformers seqeval"
      ]
    },
    {
      "cell_type": "code",
      "execution_count": null,
      "metadata": {
        "colab": {
          "base_uri": "https://localhost:8080/"
        },
        "id": "uHk-TVUwGbxn",
        "outputId": "15628031-a990-4356-efe3-ce5e49251677"
      },
      "outputs": [
        {
          "output_type": "stream",
          "name": "stderr",
          "text": [
            "/usr/local/lib/python3.10/dist-packages/datasets/load.py:756: FutureWarning: The repository for seqeval contains custom code which must be executed to correctly load the metric. You can inspect the repository content at https://raw.githubusercontent.com/huggingface/datasets/2.18.0/metrics/seqeval/seqeval.py\n",
            "You can avoid this message in future by passing the argument `trust_remote_code=True`.\n",
            "Passing `trust_remote_code=True` will be mandatory to load this metric from the next major release of `datasets`.\n",
            "  warnings.warn(\n"
          ]
        }
      ],
      "source": [
        "from datasets import load_metric\n",
        "\n",
        "#Load the metric\n",
        "metric = load_metric(\"seqeval\")"
      ]
    },
    {
      "cell_type": "code",
      "execution_count": null,
      "metadata": {
        "id": "1FdfecEgHdk5"
      },
      "outputs": [],
      "source": [
        "# Define the label list\n",
        "label_list = ['O','B-METAPHOR']"
      ]
    },
    {
      "cell_type": "markdown",
      "source": [
        "During the evaluation stage of token classification, predictions are represented as logits, therefore, to obtain the predicted labels, we need to convert predictions to label selecting the logit with highest probability. Additionaly, during training, some tokens may be ignored, indicated by a label of -100. In the post-processing step, we need to ignore these special labels and only consider valid labels. To this end, we create a function to carry out the post-processing and the utilizes the ``seqeval`` metric for evaluation."
      ],
      "metadata": {
        "id": "SHQC3MUgJ_YD"
      }
    },
    {
      "cell_type": "code",
      "execution_count": null,
      "metadata": {
        "id": "LYS0OXU4IBw7"
      },
      "outputs": [],
      "source": [
        "import numpy as np\n",
        "\n",
        "def compute_metrics(p):\n",
        "    # Unpack predictions and labels\n",
        "    predictions, labels = p\n",
        "     # Convert predictions to label indices with highest probability\n",
        "    predictions = np.argmax(predictions, axis=2)\n",
        "\n",
        "    # Remove ignored index (special tokens) and map indices back to labels\n",
        "    true_predictions = [\n",
        "        [label_list[p] for (p, l) in zip(prediction, label) if l != -100]\n",
        "        for prediction, label in zip(predictions, labels)\n",
        "    ]\n",
        "    true_labels = [\n",
        "        [label_list[l] for (p, l) in zip(prediction, label) if l != -100]\n",
        "        for prediction, label in zip(predictions, labels)\n",
        "    ]\n",
        "\n",
        "    # Compute evaluation metrics using 'seqeval'\n",
        "    results = metric.compute(predictions=true_predictions, references=true_labels)\n",
        "    return {\n",
        "        \"precision\": results[\"overall_precision\"],\n",
        "        \"recall\": results[\"overall_recall\"],\n",
        "        \"f1\": results[\"overall_f1\"],\n",
        "        \"accuracy\": results[\"overall_accuracy\"],\n",
        "    }"
      ]
    },
    {
      "cell_type": "markdown",
      "source": [
        "Once we have defined the training parameters, the data collator, and the evaluation metric, we instantiate a `Trainer` object to manage the training process.\n",
        "\n",
        "In this step, we select the datasets. As we have mentioned earlier, the dataset only has two partitions: train and test. There is no validation set. Consequently, we have used the test set for the validation or `eval_dataset`."
      ],
      "metadata": {
        "id": "RZ5YVPIsLV01"
      }
    },
    {
      "cell_type": "code",
      "execution_count": null,
      "metadata": {
        "colab": {
          "base_uri": "https://localhost:8080/"
        },
        "id": "WQckYBAyIKhu",
        "outputId": "572ce3b9-1092-4f85-86b8-e738358552b3"
      },
      "outputs": [
        {
          "output_type": "stream",
          "name": "stderr",
          "text": [
            "/usr/local/lib/python3.10/dist-packages/accelerate/accelerator.py:432: FutureWarning: Passing the following arguments to `Accelerator` is deprecated and will be removed in version 1.0 of Accelerate: dict_keys(['dispatch_batches', 'split_batches', 'even_batches', 'use_seedable_sampler']). Please pass an `accelerate.DataLoaderConfiguration` instead: \n",
            "dataloader_config = DataLoaderConfiguration(dispatch_batches=None, split_batches=False, even_batches=True, use_seedable_sampler=True)\n",
            "  warnings.warn(\n"
          ]
        }
      ],
      "source": [
        "trainer = Trainer(\n",
        "    model,\n",
        "    args,\n",
        "    train_dataset=tokenized_datasets[\"train\"],\n",
        "    eval_dataset=tokenized_datasets[\"test\"],\n",
        "    data_collator=data_collator,\n",
        "    tokenizer=tokenizer,\n",
        "    compute_metrics=compute_metrics\n",
        ")"
      ]
    },
    {
      "cell_type": "markdown",
      "source": [
        "Now we develop our own metaphor detector for Spanish fine-tuning the original model by calling the `train` method."
      ],
      "metadata": {
        "id": "-G40CLQsL5EV"
      }
    },
    {
      "cell_type": "code",
      "execution_count": null,
      "metadata": {
        "colab": {
          "base_uri": "https://localhost:8080/",
          "height": 222
        },
        "id": "Wxb8e27TIb2e",
        "outputId": "e43fa1bd-59cb-4424-cbda-ab69901aa1e1"
      },
      "outputs": [
        {
          "output_type": "display_data",
          "data": {
            "text/plain": [
              "<IPython.core.display.HTML object>"
            ],
            "text/html": [
              "\n",
              "    <div>\n",
              "      \n",
              "      <progress value='546' max='546' style='width:300px; height:20px; vertical-align: middle;'></progress>\n",
              "      [546/546 04:08, Epoch 3/3]\n",
              "    </div>\n",
              "    <table border=\"1\" class=\"dataframe\">\n",
              "  <thead>\n",
              " <tr style=\"text-align: left;\">\n",
              "      <th>Epoch</th>\n",
              "      <th>Training Loss</th>\n",
              "      <th>Validation Loss</th>\n",
              "      <th>Precision</th>\n",
              "      <th>Recall</th>\n",
              "      <th>F1</th>\n",
              "      <th>Accuracy</th>\n",
              "    </tr>\n",
              "  </thead>\n",
              "  <tbody>\n",
              "    <tr>\n",
              "      <td>1</td>\n",
              "      <td>No log</td>\n",
              "      <td>0.050257</td>\n",
              "      <td>0.712215</td>\n",
              "      <td>0.435995</td>\n",
              "      <td>0.540881</td>\n",
              "      <td>0.981571</td>\n",
              "    </tr>\n",
              "    <tr>\n",
              "      <td>2</td>\n",
              "      <td>No log</td>\n",
              "      <td>0.051097</td>\n",
              "      <td>0.666667</td>\n",
              "      <td>0.570342</td>\n",
              "      <td>0.614754</td>\n",
              "      <td>0.982202</td>\n",
              "    </tr>\n",
              "    <tr>\n",
              "      <td>3</td>\n",
              "      <td>0.049400</td>\n",
              "      <td>0.056720</td>\n",
              "      <td>0.652602</td>\n",
              "      <td>0.588086</td>\n",
              "      <td>0.618667</td>\n",
              "      <td>0.981950</td>\n",
              "    </tr>\n",
              "  </tbody>\n",
              "</table><p>"
            ]
          },
          "metadata": {}
        },
        {
          "output_type": "stream",
          "name": "stderr",
          "text": [
            "Checkpoint destination directory /content/drive/My Drive/Colab Notebooks/trabajo final app1/Results/checkpoint-500 already exists and is non-empty. Saving will proceed but saved results may be invalid.\n"
          ]
        },
        {
          "output_type": "execute_result",
          "data": {
            "text/plain": [
              "TrainOutput(global_step=546, training_loss=0.0476525611493177, metrics={'train_runtime': 248.6075, 'train_samples_per_second': 35.067, 'train_steps_per_second': 2.196, 'total_flos': 444560707420344.0, 'train_loss': 0.0476525611493177, 'epoch': 3.0})"
            ]
          },
          "metadata": {},
          "execution_count": 201
        }
      ],
      "source": [
        "trainer.train()"
      ]
    },
    {
      "cell_type": "markdown",
      "metadata": {
        "id": "CkEFgS-LzATY"
      },
      "source": [
        "## Evaluation"
      ]
    },
    {
      "cell_type": "markdown",
      "source": [
        "Since we have used the test set for validation in the previous step, the evaluation results we obtain are the same as those observed during the final epoch, shown in the table above."
      ],
      "metadata": {
        "id": "EgFon-arWNvz"
      }
    },
    {
      "cell_type": "code",
      "execution_count": null,
      "metadata": {
        "colab": {
          "base_uri": "https://localhost:8080/",
          "height": 193
        },
        "id": "ac4Dt_cAKlv9",
        "outputId": "d5160afb-2574-4bcf-9e33-70ee790ff29b"
      },
      "outputs": [
        {
          "output_type": "display_data",
          "data": {
            "text/plain": [
              "<IPython.core.display.HTML object>"
            ],
            "text/html": [
              "\n",
              "    <div>\n",
              "      \n",
              "      <progress value='46' max='46' style='width:300px; height:20px; vertical-align: middle;'></progress>\n",
              "      [46/46 00:04]\n",
              "    </div>\n",
              "    "
            ]
          },
          "metadata": {}
        },
        {
          "output_type": "execute_result",
          "data": {
            "text/plain": [
              "{'eval_loss': 0.05672011524438858,\n",
              " 'eval_precision': 0.6526019690576652,\n",
              " 'eval_recall': 0.5880861850443599,\n",
              " 'eval_f1': 0.6186666666666667,\n",
              " 'eval_accuracy': 0.9819495724068289,\n",
              " 'eval_runtime': 6.1581,\n",
              " 'eval_samples_per_second': 118.055,\n",
              " 'eval_steps_per_second': 7.47,\n",
              " 'epoch': 3.0}"
            ]
          },
          "metadata": {},
          "execution_count": 202
        }
      ],
      "source": [
        "trainer.evaluate()"
      ]
    },
    {
      "cell_type": "markdown",
      "source": [
        "To obtain the precision, recall and F1-score for the label 1, 'B-METAPHOR', we can use the same function as before to analyze the results. In this case is not necessary. As we observe, the results are the same; however,"
      ],
      "metadata": {
        "id": "uF9unQAeYReZ"
      }
    },
    {
      "cell_type": "code",
      "execution_count": null,
      "metadata": {
        "colab": {
          "base_uri": "https://localhost:8080/",
          "height": 54
        },
        "id": "MRKb4Px1LF71",
        "outputId": "1bbdea59-be9f-4aa9-ce8d-6c50a4235244"
      },
      "outputs": [
        {
          "output_type": "display_data",
          "data": {
            "text/plain": [
              "<IPython.core.display.HTML object>"
            ],
            "text/html": []
          },
          "metadata": {}
        },
        {
          "output_type": "stream",
          "name": "stdout",
          "text": [
            "{'METAPHOR': {'precision': 0.6526019690576652, 'recall': 0.5880861850443599, 'f1': 0.6186666666666667, 'number': 789}, 'overall_precision': 0.6526019690576652, 'overall_recall': 0.5880861850443599, 'overall_f1': 0.6186666666666667, 'overall_accuracy': 0.9819495724068289}\n"
          ]
        }
      ],
      "source": [
        "predictions, labels, _ = trainer.predict(tokenized_datasets[\"test\"])\n",
        "predictions = np.argmax(predictions, axis=2)\n",
        "\n",
        "# Remove ignored index (special tokens)\n",
        "true_predictions = [\n",
        "    [label_list[p] for (p, l) in zip(prediction, label) if l != -100]\n",
        "    for prediction, label in zip(predictions, labels)\n",
        "]\n",
        "true_labels = [\n",
        "    [label_list[l] for (p, l) in zip(prediction, label) if l != -100]\n",
        "    for prediction, label in zip(predictions, labels)\n",
        "]\n",
        "\n",
        "results = metric.compute(predictions=true_predictions, references=true_labels)\n",
        "print(results)"
      ]
    },
    {
      "cell_type": "code",
      "execution_count": null,
      "metadata": {
        "colab": {
          "base_uri": "https://localhost:8080/"
        },
        "id": "p3Ayp0oHu711",
        "outputId": "5323d5eb-c8cf-4c73-858c-bd366c29bbb3"
      },
      "outputs": [
        {
          "output_type": "stream",
          "name": "stdout",
          "text": [
            "Precision (B-METAPHOR): 0.6526019690576652\n",
            "Recall (B-METAPHOR): 0.5880861850443599\n",
            "F1-score (B-METAPHOR): 0.6186666666666667\n",
            "Precision (O): 0.9895086835818968\n",
            "Recall (O): 0.9920064724919094\n",
            "F1-score (O): 0.9907560037493132\n",
            "Weighted Precision: 0.9811203028264416\n",
            "Weighted Recall: 0.9819495724068289\n",
            "Weighted F1-score: 0.9814916379770197\n",
            "Overall Precision: 0.8210553263197811\n",
            "Overall Recall: 0.7900463287681347\n",
            "Overall F1-score: 0.80471133520799\n",
            "Overall Accuracy: 0.9819495724068289\n"
          ]
        }
      ],
      "source": [
        "from sklearn.metrics import precision_score, recall_score, f1_score\n",
        "from sklearn.metrics import accuracy_score\n",
        "\n",
        "# Define true labels and predicted labels\n",
        "y_true = [label for sublist in true_labels for label in sublist]\n",
        "y_pred = [label for sublist in true_predictions for label in sublist]\n",
        "\n",
        "# Calculate precision, recall, and F1-score for each class\n",
        "precision_b_metaphor = precision_score(y_true, y_pred, labels=['B-METAPHOR', 'O'], average=None)[0]\n",
        "recall_b_metaphor = recall_score(y_true, y_pred, labels=['B-METAPHOR', 'O'], average=None)[0]\n",
        "f1_b_metaphor = f1_score(y_true, y_pred, labels=['B-METAPHOR', 'O'], average=None)[0]\n",
        "\n",
        "precision_o = precision_score(y_true, y_pred, labels=['B-METAPHOR', 'O'], average=None)[1]\n",
        "recall_o = recall_score(y_true, y_pred, labels=['B-METAPHOR', 'O'], average=None)[1]\n",
        "f1_o = f1_score(y_true, y_pred, labels=['B-METAPHOR', 'O'], average=None)[1]\n",
        "\n",
        "# Calculate weighted average of metrics\n",
        "weighted_precision = precision_score(y_true, y_pred, average='weighted', labels=['B-METAPHOR', 'O'])\n",
        "weighted_recall = recall_score(y_true, y_pred, average='weighted', labels=['B-METAPHOR', 'O'])\n",
        "weighted_f1 = f1_score(y_true, y_pred, average='weighted', labels=['B-METAPHOR', 'O'])\n",
        "\n",
        "# Calculate overall precision, recall, and F1-score\n",
        "overall_precision = precision_score(y_true, y_pred, average='macro')\n",
        "overall_recall = recall_score(y_true, y_pred, average='macro')\n",
        "overall_f1 = f1_score(y_true, y_pred, average='macro')\n",
        "accuracy = accuracy_score(y_true, y_pred)\n",
        "\n",
        "# Metrics for 'B-METAPHOR'\n",
        "print(\"Precision (B-METAPHOR):\", precision_b_metaphor)\n",
        "print(\"Recall (B-METAPHOR):\", recall_b_metaphor)\n",
        "print(\"F1-score (B-METAPHOR):\", f1_b_metaphor)\n",
        "\n",
        "# Metrics for 'O'\n",
        "print(\"Precision (O):\", precision_o)\n",
        "print(\"Recall (O):\", recall_o)\n",
        "print(\"F1-score (O):\", f1_o)\n",
        "\n",
        "# Weighted metrics\n",
        "print(\"Weighted Precision:\", weighted_precision)\n",
        "print(\"Weighted Recall:\", weighted_recall)\n",
        "print(\"Weighted F1-score:\", weighted_f1)\n",
        "\n",
        "# Overall metrics\n",
        "print(\"Overall Precision:\", overall_precision)\n",
        "print(\"Overall Recall:\", overall_recall)\n",
        "print(\"Overall F1-score:\", overall_f1)\n",
        "print(\"Overall Accuracy:\", accuracy)"
      ]
    },
    {
      "cell_type": "markdown",
      "source": [
        "In the following step, we create a dataframe with the predicted labels and the true labels so we can compare the results."
      ],
      "metadata": {
        "id": "lBR_iamIgLBI"
      }
    },
    {
      "cell_type": "code",
      "execution_count": null,
      "metadata": {
        "colab": {
          "base_uri": "https://localhost:8080/",
          "height": 677
        },
        "id": "jn9XO5WZLZIH",
        "outputId": "9ff50b14-8a72-44c2-df91-4f7230ff72b9"
      },
      "outputs": [
        {
          "output_type": "display_data",
          "data": {
            "text/plain": [
              "                                     Predicted Labels  \\\n",
              "0   O O O O O O O O O O O O O O O O O O O O O O O ...   \n",
              "1   O O O O O O O O O O O O O O O O O O O O O O O ...   \n",
              "2                                       O O O O O O O   \n",
              "3   O O O O O O O O O O O O O O O O O O O O O O O ...   \n",
              "4                                 O O O O O O O O O O   \n",
              "5           O O O O O O B-METAPHOR B-METAPHOR O O O O   \n",
              "6   O O O O O O O O O O O O O O O O O O O O O O O ...   \n",
              "7   O B-METAPHOR B-METAPHOR B-METAPHOR O O O O O O...   \n",
              "8                             O O O O O O O O O O O O   \n",
              "9   O O O O O O O O O O O O O O O O O O O O O O O ...   \n",
              "10  O O O O O O O O O O O O O B-METAPHOR O O O B-M...   \n",
              "11  O O O O O O O O O O O O O O O O O O O O O O O O O   \n",
              "12  O O O B-METAPHOR B-METAPHOR B-METAPHOR O O O O...   \n",
              "13  O O O O O O O O O O O O O O O O O O O O O O O ...   \n",
              "14  O O O O O O O O O O O O O O O O O O O O O O O ...   \n",
              "15  O O O O O O O O O O O O O O O B-METAPHOR B-MET...   \n",
              "16                                  O O O O O O O O O   \n",
              "17                              O O O O O O O O O O O   \n",
              "18  O O O O O O O O O O O O O O O O O O O O O B-ME...   \n",
              "19  O O O O O O O O O O O O O O O O O O O O O O O ...   \n",
              "\n",
              "                                          True Labels  \n",
              "0   O O O O O O O O O O O O O O O O O O O O O O O ...  \n",
              "1   O O O O O O O O O O O O O O O O O O O O O O O ...  \n",
              "2                                       O O O O O O O  \n",
              "3   O O O O O O O O O O O O O O O O O O O O O O O ...  \n",
              "4                                 O O O O O O O O O O  \n",
              "5           O O O O O O B-METAPHOR B-METAPHOR O O O O  \n",
              "6   O O O O O O O O O O O O O O O O O O O O O O O ...  \n",
              "7   O O O O O O O O O B-METAPHOR O O O O O O O O O...  \n",
              "8                             O O O O O O O O O O O O  \n",
              "9   O O O O O O O O O O O O O O O O O O O O O O O ...  \n",
              "10  O O O O O O O O O O O O O B-METAPHOR O O O O O...  \n",
              "11  O O O O O O O O O O O O O O O O O O O O O O O O O  \n",
              "12  O O O O O O O O O O O O O O O O O O O O O O O ...  \n",
              "13  O O O O O O O O O O O O O O O O O O O O O O O ...  \n",
              "14  O O O O O O O O O O O O O O O O O O O O O O O ...  \n",
              "15      O O O O O O O O O O O O O O O O O O O O O O O  \n",
              "16                                  O O O O O O O O O  \n",
              "17                              O O O O O O O O O O O  \n",
              "18  O O O O O O O O O O O O O O O O O O O O O B-ME...  \n",
              "19  O O O O O O O O O O O O O O O O O O O O O O O ...  "
            ],
            "text/html": [
              "\n",
              "  <div id=\"df-3607d237-f605-43c0-92ae-5ae6555f5655\" class=\"colab-df-container\">\n",
              "    <div>\n",
              "<style scoped>\n",
              "    .dataframe tbody tr th:only-of-type {\n",
              "        vertical-align: middle;\n",
              "    }\n",
              "\n",
              "    .dataframe tbody tr th {\n",
              "        vertical-align: top;\n",
              "    }\n",
              "\n",
              "    .dataframe thead th {\n",
              "        text-align: right;\n",
              "    }\n",
              "</style>\n",
              "<table border=\"1\" class=\"dataframe\">\n",
              "  <thead>\n",
              "    <tr style=\"text-align: right;\">\n",
              "      <th></th>\n",
              "      <th>Predicted Labels</th>\n",
              "      <th>True Labels</th>\n",
              "    </tr>\n",
              "  </thead>\n",
              "  <tbody>\n",
              "    <tr>\n",
              "      <th>0</th>\n",
              "      <td>O O O O O O O O O O O O O O O O O O O O O O O ...</td>\n",
              "      <td>O O O O O O O O O O O O O O O O O O O O O O O ...</td>\n",
              "    </tr>\n",
              "    <tr>\n",
              "      <th>1</th>\n",
              "      <td>O O O O O O O O O O O O O O O O O O O O O O O ...</td>\n",
              "      <td>O O O O O O O O O O O O O O O O O O O O O O O ...</td>\n",
              "    </tr>\n",
              "    <tr>\n",
              "      <th>2</th>\n",
              "      <td>O O O O O O O</td>\n",
              "      <td>O O O O O O O</td>\n",
              "    </tr>\n",
              "    <tr>\n",
              "      <th>3</th>\n",
              "      <td>O O O O O O O O O O O O O O O O O O O O O O O ...</td>\n",
              "      <td>O O O O O O O O O O O O O O O O O O O O O O O ...</td>\n",
              "    </tr>\n",
              "    <tr>\n",
              "      <th>4</th>\n",
              "      <td>O O O O O O O O O O</td>\n",
              "      <td>O O O O O O O O O O</td>\n",
              "    </tr>\n",
              "    <tr>\n",
              "      <th>5</th>\n",
              "      <td>O O O O O O B-METAPHOR B-METAPHOR O O O O</td>\n",
              "      <td>O O O O O O B-METAPHOR B-METAPHOR O O O O</td>\n",
              "    </tr>\n",
              "    <tr>\n",
              "      <th>6</th>\n",
              "      <td>O O O O O O O O O O O O O O O O O O O O O O O ...</td>\n",
              "      <td>O O O O O O O O O O O O O O O O O O O O O O O ...</td>\n",
              "    </tr>\n",
              "    <tr>\n",
              "      <th>7</th>\n",
              "      <td>O B-METAPHOR B-METAPHOR B-METAPHOR O O O O O O...</td>\n",
              "      <td>O O O O O O O O O B-METAPHOR O O O O O O O O O...</td>\n",
              "    </tr>\n",
              "    <tr>\n",
              "      <th>8</th>\n",
              "      <td>O O O O O O O O O O O O</td>\n",
              "      <td>O O O O O O O O O O O O</td>\n",
              "    </tr>\n",
              "    <tr>\n",
              "      <th>9</th>\n",
              "      <td>O O O O O O O O O O O O O O O O O O O O O O O ...</td>\n",
              "      <td>O O O O O O O O O O O O O O O O O O O O O O O ...</td>\n",
              "    </tr>\n",
              "    <tr>\n",
              "      <th>10</th>\n",
              "      <td>O O O O O O O O O O O O O B-METAPHOR O O O B-M...</td>\n",
              "      <td>O O O O O O O O O O O O O B-METAPHOR O O O O O...</td>\n",
              "    </tr>\n",
              "    <tr>\n",
              "      <th>11</th>\n",
              "      <td>O O O O O O O O O O O O O O O O O O O O O O O O O</td>\n",
              "      <td>O O O O O O O O O O O O O O O O O O O O O O O O O</td>\n",
              "    </tr>\n",
              "    <tr>\n",
              "      <th>12</th>\n",
              "      <td>O O O B-METAPHOR B-METAPHOR B-METAPHOR O O O O...</td>\n",
              "      <td>O O O O O O O O O O O O O O O O O O O O O O O ...</td>\n",
              "    </tr>\n",
              "    <tr>\n",
              "      <th>13</th>\n",
              "      <td>O O O O O O O O O O O O O O O O O O O O O O O ...</td>\n",
              "      <td>O O O O O O O O O O O O O O O O O O O O O O O ...</td>\n",
              "    </tr>\n",
              "    <tr>\n",
              "      <th>14</th>\n",
              "      <td>O O O O O O O O O O O O O O O O O O O O O O O ...</td>\n",
              "      <td>O O O O O O O O O O O O O O O O O O O O O O O ...</td>\n",
              "    </tr>\n",
              "    <tr>\n",
              "      <th>15</th>\n",
              "      <td>O O O O O O O O O O O O O O O B-METAPHOR B-MET...</td>\n",
              "      <td>O O O O O O O O O O O O O O O O O O O O O O O</td>\n",
              "    </tr>\n",
              "    <tr>\n",
              "      <th>16</th>\n",
              "      <td>O O O O O O O O O</td>\n",
              "      <td>O O O O O O O O O</td>\n",
              "    </tr>\n",
              "    <tr>\n",
              "      <th>17</th>\n",
              "      <td>O O O O O O O O O O O</td>\n",
              "      <td>O O O O O O O O O O O</td>\n",
              "    </tr>\n",
              "    <tr>\n",
              "      <th>18</th>\n",
              "      <td>O O O O O O O O O O O O O O O O O O O O O B-ME...</td>\n",
              "      <td>O O O O O O O O O O O O O O O O O O O O O B-ME...</td>\n",
              "    </tr>\n",
              "    <tr>\n",
              "      <th>19</th>\n",
              "      <td>O O O O O O O O O O O O O O O O O O O O O O O ...</td>\n",
              "      <td>O O O O O O O O O O O O O O O O O O O O O O O ...</td>\n",
              "    </tr>\n",
              "  </tbody>\n",
              "</table>\n",
              "</div>\n",
              "    <div class=\"colab-df-buttons\">\n",
              "\n",
              "  <div class=\"colab-df-container\">\n",
              "    <button class=\"colab-df-convert\" onclick=\"convertToInteractive('df-3607d237-f605-43c0-92ae-5ae6555f5655')\"\n",
              "            title=\"Convert this dataframe to an interactive table.\"\n",
              "            style=\"display:none;\">\n",
              "\n",
              "  <svg xmlns=\"http://www.w3.org/2000/svg\" height=\"24px\" viewBox=\"0 -960 960 960\">\n",
              "    <path d=\"M120-120v-720h720v720H120Zm60-500h600v-160H180v160Zm220 220h160v-160H400v160Zm0 220h160v-160H400v160ZM180-400h160v-160H180v160Zm440 0h160v-160H620v160ZM180-180h160v-160H180v160Zm440 0h160v-160H620v160Z\"/>\n",
              "  </svg>\n",
              "    </button>\n",
              "\n",
              "  <style>\n",
              "    .colab-df-container {\n",
              "      display:flex;\n",
              "      gap: 12px;\n",
              "    }\n",
              "\n",
              "    .colab-df-convert {\n",
              "      background-color: #E8F0FE;\n",
              "      border: none;\n",
              "      border-radius: 50%;\n",
              "      cursor: pointer;\n",
              "      display: none;\n",
              "      fill: #1967D2;\n",
              "      height: 32px;\n",
              "      padding: 0 0 0 0;\n",
              "      width: 32px;\n",
              "    }\n",
              "\n",
              "    .colab-df-convert:hover {\n",
              "      background-color: #E2EBFA;\n",
              "      box-shadow: 0px 1px 2px rgba(60, 64, 67, 0.3), 0px 1px 3px 1px rgba(60, 64, 67, 0.15);\n",
              "      fill: #174EA6;\n",
              "    }\n",
              "\n",
              "    .colab-df-buttons div {\n",
              "      margin-bottom: 4px;\n",
              "    }\n",
              "\n",
              "    [theme=dark] .colab-df-convert {\n",
              "      background-color: #3B4455;\n",
              "      fill: #D2E3FC;\n",
              "    }\n",
              "\n",
              "    [theme=dark] .colab-df-convert:hover {\n",
              "      background-color: #434B5C;\n",
              "      box-shadow: 0px 1px 3px 1px rgba(0, 0, 0, 0.15);\n",
              "      filter: drop-shadow(0px 1px 2px rgba(0, 0, 0, 0.3));\n",
              "      fill: #FFFFFF;\n",
              "    }\n",
              "  </style>\n",
              "\n",
              "    <script>\n",
              "      const buttonEl =\n",
              "        document.querySelector('#df-3607d237-f605-43c0-92ae-5ae6555f5655 button.colab-df-convert');\n",
              "      buttonEl.style.display =\n",
              "        google.colab.kernel.accessAllowed ? 'block' : 'none';\n",
              "\n",
              "      async function convertToInteractive(key) {\n",
              "        const element = document.querySelector('#df-3607d237-f605-43c0-92ae-5ae6555f5655');\n",
              "        const dataTable =\n",
              "          await google.colab.kernel.invokeFunction('convertToInteractive',\n",
              "                                                    [key], {});\n",
              "        if (!dataTable) return;\n",
              "\n",
              "        const docLinkHtml = 'Like what you see? Visit the ' +\n",
              "          '<a target=\"_blank\" href=https://colab.research.google.com/notebooks/data_table.ipynb>data table notebook</a>'\n",
              "          + ' to learn more about interactive tables.';\n",
              "        element.innerHTML = '';\n",
              "        dataTable['output_type'] = 'display_data';\n",
              "        await google.colab.output.renderOutput(dataTable, element);\n",
              "        const docLink = document.createElement('div');\n",
              "        docLink.innerHTML = docLinkHtml;\n",
              "        element.appendChild(docLink);\n",
              "      }\n",
              "    </script>\n",
              "  </div>\n",
              "\n",
              "\n",
              "<div id=\"df-78c4680b-a616-469c-b6dd-55799c6c4066\">\n",
              "  <button class=\"colab-df-quickchart\" onclick=\"quickchart('df-78c4680b-a616-469c-b6dd-55799c6c4066')\"\n",
              "            title=\"Suggest charts\"\n",
              "            style=\"display:none;\">\n",
              "\n",
              "<svg xmlns=\"http://www.w3.org/2000/svg\" height=\"24px\"viewBox=\"0 0 24 24\"\n",
              "     width=\"24px\">\n",
              "    <g>\n",
              "        <path d=\"M19 3H5c-1.1 0-2 .9-2 2v14c0 1.1.9 2 2 2h14c1.1 0 2-.9 2-2V5c0-1.1-.9-2-2-2zM9 17H7v-7h2v7zm4 0h-2V7h2v10zm4 0h-2v-4h2v4z\"/>\n",
              "    </g>\n",
              "</svg>\n",
              "  </button>\n",
              "\n",
              "<style>\n",
              "  .colab-df-quickchart {\n",
              "      --bg-color: #E8F0FE;\n",
              "      --fill-color: #1967D2;\n",
              "      --hover-bg-color: #E2EBFA;\n",
              "      --hover-fill-color: #174EA6;\n",
              "      --disabled-fill-color: #AAA;\n",
              "      --disabled-bg-color: #DDD;\n",
              "  }\n",
              "\n",
              "  [theme=dark] .colab-df-quickchart {\n",
              "      --bg-color: #3B4455;\n",
              "      --fill-color: #D2E3FC;\n",
              "      --hover-bg-color: #434B5C;\n",
              "      --hover-fill-color: #FFFFFF;\n",
              "      --disabled-bg-color: #3B4455;\n",
              "      --disabled-fill-color: #666;\n",
              "  }\n",
              "\n",
              "  .colab-df-quickchart {\n",
              "    background-color: var(--bg-color);\n",
              "    border: none;\n",
              "    border-radius: 50%;\n",
              "    cursor: pointer;\n",
              "    display: none;\n",
              "    fill: var(--fill-color);\n",
              "    height: 32px;\n",
              "    padding: 0;\n",
              "    width: 32px;\n",
              "  }\n",
              "\n",
              "  .colab-df-quickchart:hover {\n",
              "    background-color: var(--hover-bg-color);\n",
              "    box-shadow: 0 1px 2px rgba(60, 64, 67, 0.3), 0 1px 3px 1px rgba(60, 64, 67, 0.15);\n",
              "    fill: var(--button-hover-fill-color);\n",
              "  }\n",
              "\n",
              "  .colab-df-quickchart-complete:disabled,\n",
              "  .colab-df-quickchart-complete:disabled:hover {\n",
              "    background-color: var(--disabled-bg-color);\n",
              "    fill: var(--disabled-fill-color);\n",
              "    box-shadow: none;\n",
              "  }\n",
              "\n",
              "  .colab-df-spinner {\n",
              "    border: 2px solid var(--fill-color);\n",
              "    border-color: transparent;\n",
              "    border-bottom-color: var(--fill-color);\n",
              "    animation:\n",
              "      spin 1s steps(1) infinite;\n",
              "  }\n",
              "\n",
              "  @keyframes spin {\n",
              "    0% {\n",
              "      border-color: transparent;\n",
              "      border-bottom-color: var(--fill-color);\n",
              "      border-left-color: var(--fill-color);\n",
              "    }\n",
              "    20% {\n",
              "      border-color: transparent;\n",
              "      border-left-color: var(--fill-color);\n",
              "      border-top-color: var(--fill-color);\n",
              "    }\n",
              "    30% {\n",
              "      border-color: transparent;\n",
              "      border-left-color: var(--fill-color);\n",
              "      border-top-color: var(--fill-color);\n",
              "      border-right-color: var(--fill-color);\n",
              "    }\n",
              "    40% {\n",
              "      border-color: transparent;\n",
              "      border-right-color: var(--fill-color);\n",
              "      border-top-color: var(--fill-color);\n",
              "    }\n",
              "    60% {\n",
              "      border-color: transparent;\n",
              "      border-right-color: var(--fill-color);\n",
              "    }\n",
              "    80% {\n",
              "      border-color: transparent;\n",
              "      border-right-color: var(--fill-color);\n",
              "      border-bottom-color: var(--fill-color);\n",
              "    }\n",
              "    90% {\n",
              "      border-color: transparent;\n",
              "      border-bottom-color: var(--fill-color);\n",
              "    }\n",
              "  }\n",
              "</style>\n",
              "\n",
              "  <script>\n",
              "    async function quickchart(key) {\n",
              "      const quickchartButtonEl =\n",
              "        document.querySelector('#' + key + ' button');\n",
              "      quickchartButtonEl.disabled = true;  // To prevent multiple clicks.\n",
              "      quickchartButtonEl.classList.add('colab-df-spinner');\n",
              "      try {\n",
              "        const charts = await google.colab.kernel.invokeFunction(\n",
              "            'suggestCharts', [key], {});\n",
              "      } catch (error) {\n",
              "        console.error('Error during call to suggestCharts:', error);\n",
              "      }\n",
              "      quickchartButtonEl.classList.remove('colab-df-spinner');\n",
              "      quickchartButtonEl.classList.add('colab-df-quickchart-complete');\n",
              "    }\n",
              "    (() => {\n",
              "      let quickchartButtonEl =\n",
              "        document.querySelector('#df-78c4680b-a616-469c-b6dd-55799c6c4066 button');\n",
              "      quickchartButtonEl.style.display =\n",
              "        google.colab.kernel.accessAllowed ? 'block' : 'none';\n",
              "    })();\n",
              "  </script>\n",
              "</div>\n",
              "    </div>\n",
              "  </div>\n"
            ],
            "application/vnd.google.colaboratory.intrinsic+json": {
              "type": "dataframe",
              "summary": "{\n  \"name\": \"display(df\",\n  \"rows\": 20,\n  \"fields\": [\n    {\n      \"column\": \"Predicted Labels\",\n      \"properties\": {\n        \"dtype\": \"string\",\n        \"num_unique_values\": 20,\n        \"samples\": [\n          \"O O O O O O O O O O O O O O O O O O O O O O O O O O O O O O O O B-METAPHOR B-METAPHOR B-METAPHOR B-METAPHOR O O B-METAPHOR B-METAPHOR O O O O O O\",\n          \"O O O O O O O O O O O\",\n          \"O O O O O O O O O O O O O O O B-METAPHOR B-METAPHOR O O O O O O\"\n        ],\n        \"semantic_type\": \"\",\n        \"description\": \"\"\n      }\n    },\n    {\n      \"column\": \"True Labels\",\n      \"properties\": {\n        \"dtype\": \"string\",\n        \"num_unique_values\": 20,\n        \"samples\": [\n          \"O O O O O O O O O O O O O O O O O O O O O O O O O O O O O O O O O O B-METAPHOR B-METAPHOR O O B-METAPHOR B-METAPHOR O O O O O O\",\n          \"O O O O O O O O O O O\",\n          \"O O O O O O O O O O O O O O O O O O O O O O O\"\n        ],\n        \"semantic_type\": \"\",\n        \"description\": \"\"\n      }\n    }\n  ]\n}"
            }
          },
          "metadata": {}
        }
      ],
      "source": [
        "predicted = [' '.join(pred) for pred in true_predictions]\n",
        "true = [' '.join(label) for label in true_labels]\n",
        "\n",
        "df = pd.DataFrame({\n",
        "    'Predicted Labels': predicted,\n",
        "    'True Labels': true\n",
        "})\n",
        "\n",
        "display(df.head(20))"
      ]
    },
    {
      "cell_type": "markdown",
      "source": [
        "Additionally, we generate a confusion matrix to observe the correct and incorrect predictions of our model. This way, we can analyze the model's performance in classifying each class."
      ],
      "metadata": {
        "id": "FPckHshtgc6d"
      }
    },
    {
      "cell_type": "code",
      "execution_count": null,
      "metadata": {
        "colab": {
          "base_uri": "https://localhost:8080/",
          "height": 779
        },
        "id": "-1DPqvNPLk99",
        "outputId": "7f5563d5-8593-4da6-dd67-22ab2214e631"
      },
      "outputs": [
        {
          "output_type": "display_data",
          "data": {
            "text/plain": [
              "<Figure size 800x800 with 1 Axes>"
            ],
            "image/png": "[encoded data removed]"
          },
          "metadata": {}
        }
      ],
      "source": [
        "from sklearn.metrics import confusion_matrix\n",
        "import matplotlib.pyplot as plt\n",
        "import seaborn as sns\n",
        "from matplotlib.colors import LogNorm\n",
        "\n",
        "flat_true_labels = [label for sublist in true_labels for label in sublist]\n",
        "flat_predicted_labels = [pred for sublist in true_predictions for pred in sublist]\n",
        "\n",
        "conf_matrix = confusion_matrix(flat_true_labels, flat_predicted_labels, labels=label_list)\n",
        "log_norm = LogNorm(vmin=1, vmax=np.max(conf_matrix))\n",
        "\n",
        "fig, ax = plt.subplots(figsize=(8, 8))\n",
        "sns.heatmap(conf_matrix, annot=True, fmt='g', cmap='YlGnBu', ax=ax, cbar=False, norm=log_norm)\n",
        "\n",
        "ax.set_xticklabels(label_list, rotation=45)\n",
        "ax.set_yticklabels(label_list, rotation=45)\n",
        "ax.set_xlabel('Predicted Labels')\n",
        "ax.set_ylabel('True Labels')\n",
        "ax.set_title('Confusion Matrix')\n",
        "plt.show()"
      ]
    },
    {
      "cell_type": "markdown",
      "source": [
        "The confusion matrix shows on its diagonal the true positives, which represent the model's correct predictions. For the 'O' label, we see a high number of correct predictions (30,653), which is expected as most words in a sentence are typically literal, rather than metaphorical. In contrast, for metaphors ('B-METAPHOR'), the model has correctly identified 464 instances, but it has failed to recognize 325 metaphors.\n",
        "\n",
        "Given this context, the F1-score is the metric we should look at closely here, as the high accuracy might be misleading. The high accuracy rate is influenced by the correct predictions of the 'O' label, since most words are non-metaphorical. However, this metric does not reliably reflect the model's cability in correctly identifying metaphors.\n"
      ],
      "metadata": {
        "id": "QKM7xTgLhH_l"
      }
    },
    {
      "cell_type": "markdown",
      "metadata": {
        "id": "QY1Bn8TWQwjn"
      },
      "source": [
        "### Experimentation\n",
        "\n",
        "In this section we will employ our fine-tuned model to detect metaphor using a dataset specifically created for this purpose, which is available at <https://github.com/amaiamurillo/metaphor-detection/blob/main/metaphors.txt> and subsequently conduct a qualitative analysis on its performance."
      ]
    },
    {
      "cell_type": "code",
      "execution_count": null,
      "metadata": {
        "id": "Emhj-1J4RH4l"
      },
      "outputs": [],
      "source": [
        "from transformers import pipeline"
      ]
    },
    {
      "cell_type": "code",
      "execution_count": null,
      "metadata": {
        "colab": {
          "base_uri": "https://localhost:8080/"
        },
        "id": "YMSXRamdM3Hk",
        "outputId": "3112687e-9748-4b91-9157-a11dedb221cb"
      },
      "outputs": [
        {
          "output_type": "execute_result",
          "data": {
            "text/plain": [
              "[{'entity_group': 'LABEL_0',\n",
              "  'score': 0.9999783,\n",
              "  'word': 'La',\n",
              "  'start': 0,\n",
              "  'end': 2},\n",
              " {'entity_group': 'LABEL_1',\n",
              "  'score': 0.8303203,\n",
              "  'word': 'profunda',\n",
              "  'start': 3,\n",
              "  'end': 11},\n",
              " {'entity_group': 'LABEL_0',\n",
              "  'score': 0.99878246,\n",
              "  'word': 'soledad de Miley Cyrus o por qué cada vez más',\n",
              "  'start': 12,\n",
              "  'end': 57},\n",
              " {'entity_group': 'LABEL_1',\n",
              "  'score': 0.80603915,\n",
              "  'word': 'estrella',\n",
              "  'start': 58,\n",
              "  'end': 66},\n",
              " {'entity_group': 'LABEL_0',\n",
              "  'score': 0.9669302,\n",
              "  'word': 's del pop se niegan a hacer giras.',\n",
              "  'start': 66,\n",
              "  'end': 100}]"
            ]
          },
          "metadata": {},
          "execution_count": 208
        }
      ],
      "source": [
        "model_checkpoint = \"/content/drive/My Drive/Colab Notebooks/trabajo final app1/Results/checkpoint-500\"\n",
        "token_classifier = pipeline(\n",
        "    \"token-classification\", model=model_checkpoint, aggregation_strategy=\"simple\"\n",
        ")\n",
        "token_classifier(\"La profunda soledad de Miley Cyrus o por qué cada vez más estrellas del pop se niegan a hacer giras.\")"
      ]
    },
    {
      "cell_type": "code",
      "execution_count": null,
      "metadata": {
        "colab": {
          "base_uri": "https://localhost:8080/"
        },
        "id": "jSFQOsY1bXjJ",
        "outputId": "bd36df15-56a0-4dd0-87cc-ff5513ed2adc"
      },
      "outputs": [
        {
          "output_type": "execute_result",
          "data": {
            "text/plain": [
              "[{'entity_group': 'LABEL_0',\n",
              "  'score': 0.9961328,\n",
              "  'word': 'En el contexto de la cultura mexicana, noviembre es un mes',\n",
              "  'start': 0,\n",
              "  'end': 58},\n",
              " {'entity_group': 'LABEL_1',\n",
              "  'score': 0.9761898,\n",
              "  'word': 'cargado',\n",
              "  'start': 59,\n",
              "  'end': 66},\n",
              " {'entity_group': 'LABEL_0',\n",
              "  'score': 0.9994624,\n",
              "  'word': 'de significado y celebraciones.',\n",
              "  'start': 67,\n",
              "  'end': 98}]"
            ]
          },
          "metadata": {},
          "execution_count": 209
        }
      ],
      "source": [
        "token_classifier(\"En el contexto de la cultura mexicana, noviembre es un mes cargado de significado y celebraciones.\")"
      ]
    },
    {
      "cell_type": "code",
      "execution_count": null,
      "metadata": {
        "colab": {
          "base_uri": "https://localhost:8080/"
        },
        "id": "3l8yAz8rb6_D",
        "outputId": "3a08f6de-28a7-4a9e-fc0a-14f0c410be18"
      },
      "outputs": [
        {
          "output_type": "execute_result",
          "data": {
            "text/plain": [
              "[{'entity_group': 'LABEL_0',\n",
              "  'score': 0.99987775,\n",
              "  'word': 'La Policía detiene a 16 personas en Valencia tras',\n",
              "  'start': 0,\n",
              "  'end': 49},\n",
              " {'entity_group': 'LABEL_1',\n",
              "  'score': 0.74921566,\n",
              "  'word': 'desarticular',\n",
              "  'start': 50,\n",
              "  'end': 62},\n",
              " {'entity_group': 'LABEL_0',\n",
              "  'score': 0.99995315,\n",
              "  'word': 'una',\n",
              "  'start': 63,\n",
              "  'end': 66},\n",
              " {'entity_group': 'LABEL_1',\n",
              "  'score': 0.98294836,\n",
              "  'word': 'red',\n",
              "  'start': 67,\n",
              "  'end': 70},\n",
              " {'entity_group': 'LABEL_0',\n",
              "  'score': 0.999183,\n",
              "  'word': 'criminal dedicada al tráfico de drogas.',\n",
              "  'start': 71,\n",
              "  'end': 110}]"
            ]
          },
          "metadata": {},
          "execution_count": 210
        }
      ],
      "source": [
        "token_classifier(\"La Policía detiene a 16 personas en Valencia tras desarticular una red criminal dedicada al tráfico de drogas.\")"
      ]
    },
    {
      "cell_type": "code",
      "execution_count": null,
      "metadata": {
        "colab": {
          "base_uri": "https://localhost:8080/"
        },
        "id": "fRoD0IoCc5hs",
        "outputId": "f7dcdb25-df88-4fdd-9bac-69884d522e71"
      },
      "outputs": [
        {
          "output_type": "execute_result",
          "data": {
            "text/plain": [
              "[{'entity_group': 'LABEL_0',\n",
              "  'score': 0.99203753,\n",
              "  'word': 'Se le pasa el tiempo volando con su juguete.',\n",
              "  'start': 0,\n",
              "  'end': 44}]"
            ]
          },
          "metadata": {},
          "execution_count": 257
        }
      ],
      "source": [
        "token_classifier(\"Se le pasa el tiempo volando con su juguete.\")"
      ]
    },
    {
      "cell_type": "code",
      "execution_count": null,
      "metadata": {
        "colab": {
          "base_uri": "https://localhost:8080/"
        },
        "id": "5YFeeCuIdZF7",
        "outputId": "fd7309fe-7276-434f-be53-3b932570aa73"
      },
      "outputs": [
        {
          "output_type": "execute_result",
          "data": {
            "text/plain": [
              "[{'entity_group': 'LABEL_0',\n",
              "  'score': 0.9993261,\n",
              "  'word': 'Una ingeniera, un arquitecto, un médico y un economista explican el valor de las humanidades en sus disciplinas y lamentan el',\n",
              "  'start': 0,\n",
              "  'end': 125},\n",
              " {'entity_group': 'LABEL_1',\n",
              "  'score': 0.8677397,\n",
              "  'word': 'aislamiento',\n",
              "  'start': 126,\n",
              "  'end': 137},\n",
              " {'entity_group': 'LABEL_0',\n",
              "  'score': 0.99986935,\n",
              "  'word': 'entre las dos',\n",
              "  'start': 138,\n",
              "  'end': 151},\n",
              " {'entity_group': 'LABEL_1',\n",
              "  'score': 0.91214997,\n",
              "  'word': 'ramas',\n",
              "  'start': 152,\n",
              "  'end': 157},\n",
              " {'entity_group': 'LABEL_0',\n",
              "  'score': 0.99995035,\n",
              "  'word': 'del saber.',\n",
              "  'start': 158,\n",
              "  'end': 168}]"
            ]
          },
          "metadata": {},
          "execution_count": 213
        }
      ],
      "source": [
        "token_classifier(\"Una ingeniera, un arquitecto, un médico y un economista explican el valor de las humanidades en sus disciplinas y lamentan el aislamiento entre las dos ramas del saber.\")"
      ]
    },
    {
      "cell_type": "code",
      "execution_count": null,
      "metadata": {
        "colab": {
          "base_uri": "https://localhost:8080/"
        },
        "id": "DkhQTBPCeNIZ",
        "outputId": "f4f9df32-bdcd-4f69-f3e8-99a4b6215df6"
      },
      "outputs": [
        {
          "output_type": "execute_result",
          "data": {
            "text/plain": [
              "[{'entity_group': 'LABEL_0',\n",
              "  'score': 0.9986342,\n",
              "  'word': 'El Vaticano exhibe una colección de grabados del siglo XX ocultos durante años por su',\n",
              "  'start': 0,\n",
              "  'end': 85},\n",
              " {'entity_group': 'LABEL_1',\n",
              "  'score': 0.78300476,\n",
              "  'word': 'frágil',\n",
              "  'start': 86,\n",
              "  'end': 92},\n",
              " {'entity_group': 'LABEL_0',\n",
              "  'score': 0.99945605,\n",
              "  'word': 'estado.',\n",
              "  'start': 93,\n",
              "  'end': 100}]"
            ]
          },
          "metadata": {},
          "execution_count": 214
        }
      ],
      "source": [
        "token_classifier(\"El Vaticano exhibe una colección de grabados del siglo XX ocultos durante años por su frágil estado.\")"
      ]
    },
    {
      "cell_type": "code",
      "execution_count": null,
      "metadata": {
        "colab": {
          "base_uri": "https://localhost:8080/"
        },
        "id": "3gyggCl0ehlD",
        "outputId": "0258baa4-37a4-4052-dd44-d0a677a08e83"
      },
      "outputs": [
        {
          "output_type": "execute_result",
          "data": {
            "text/plain": [
              "[{'entity_group': 'LABEL_0',\n",
              "  'score': 0.9986231,\n",
              "  'word': 'Los gatos también destacan por la necesidad de querer',\n",
              "  'start': 0,\n",
              "  'end': 53},\n",
              " {'entity_group': 'LABEL_1',\n",
              "  'score': 0.9640057,\n",
              "  'word': 'saciar',\n",
              "  'start': 54,\n",
              "  'end': 60},\n",
              " {'entity_group': 'LABEL_0',\n",
              "  'score': 0.9997597,\n",
              "  'word': 'su curiosidad.',\n",
              "  'start': 61,\n",
              "  'end': 75}]"
            ]
          },
          "metadata": {},
          "execution_count": 215
        }
      ],
      "source": [
        "token_classifier(\"Los gatos también destacan por la necesidad de querer saciar su curiosidad.\")"
      ]
    },
    {
      "cell_type": "code",
      "execution_count": null,
      "metadata": {
        "colab": {
          "base_uri": "https://localhost:8080/"
        },
        "id": "qXzKFUYfexxl",
        "outputId": "1f1f3e68-7ea6-4b3b-ccf5-f6b5c46f0525"
      },
      "outputs": [
        {
          "output_type": "execute_result",
          "data": {
            "text/plain": [
              "[{'entity_group': 'LABEL_0',\n",
              "  'score': 0.9990559,\n",
              "  'word': 'Una madre de 42 años decide acabar con su vida,',\n",
              "  'start': 0,\n",
              "  'end': 47},\n",
              " {'entity_group': 'LABEL_1',\n",
              "  'score': 0.9966601,\n",
              "  'word': 'ahogada',\n",
              "  'start': 48,\n",
              "  'end': 55},\n",
              " {'entity_group': 'LABEL_0',\n",
              "  'score': 0.9997977,\n",
              "  'word': 'en problemas personales.',\n",
              "  'start': 56,\n",
              "  'end': 80}]"
            ]
          },
          "metadata": {},
          "execution_count": 216
        }
      ],
      "source": [
        "token_classifier(\"Una madre de 42 años decide acabar con su vida, ahogada en problemas personales.\")"
      ]
    },
    {
      "cell_type": "code",
      "execution_count": null,
      "metadata": {
        "colab": {
          "base_uri": "https://localhost:8080/"
        },
        "id": "W2p5hH-pfA85",
        "outputId": "4f51a8a3-d0dd-4bb7-c354-2de0dc8c0149"
      },
      "outputs": [
        {
          "output_type": "execute_result",
          "data": {
            "text/plain": [
              "[{'entity_group': 'LABEL_0',\n",
              "  'score': 0.9999576,\n",
              "  'word': 'Nueve de cada diez está',\n",
              "  'start': 0,\n",
              "  'end': 23},\n",
              " {'entity_group': 'LABEL_1',\n",
              "  'score': 0.98894006,\n",
              "  'word': 'abierto',\n",
              "  'start': 24,\n",
              "  'end': 31},\n",
              " {'entity_group': 'LABEL_0',\n",
              "  'score': 0.9996335,\n",
              "  'word': 'a nuevas oportunidades laborales.',\n",
              "  'start': 32,\n",
              "  'end': 65}]"
            ]
          },
          "metadata": {},
          "execution_count": 217
        }
      ],
      "source": [
        "token_classifier(\"Nueve de cada diez está abierto a nuevas oportunidades laborales.\")"
      ]
    },
    {
      "cell_type": "code",
      "execution_count": null,
      "metadata": {
        "colab": {
          "base_uri": "https://localhost:8080/"
        },
        "id": "3fvvYpoBfRXN",
        "outputId": "321aa94b-d878-4699-bfe8-39d2e177d9b9"
      },
      "outputs": [
        {
          "output_type": "execute_result",
          "data": {
            "text/plain": [
              "[{'entity_group': 'LABEL_0',\n",
              "  'score': 0.99938345,\n",
              "  'word': 'En las',\n",
              "  'start': 0,\n",
              "  'end': 6},\n",
              " {'entity_group': 'LABEL_1',\n",
              "  'score': 0.65876746,\n",
              "  'word': 'entrañas',\n",
              "  'start': 7,\n",
              "  'end': 15},\n",
              " {'entity_group': 'LABEL_0',\n",
              "  'score': 0.9993682,\n",
              "  'word': 'de la fábrica gallega donde se diseña la primera constelación de satélites 5G española.',\n",
              "  'start': 16,\n",
              "  'end': 103}]"
            ]
          },
          "metadata": {},
          "execution_count": 218
        }
      ],
      "source": [
        "token_classifier(\"En las entrañas de la fábrica gallega donde se diseña la primera constelación de satélites 5G española.\")"
      ]
    },
    {
      "cell_type": "code",
      "execution_count": null,
      "metadata": {
        "colab": {
          "base_uri": "https://localhost:8080/"
        },
        "id": "zabsaAbCf3uX",
        "outputId": "bfed8869-f663-440c-bfc6-5202d47dec21"
      },
      "outputs": [
        {
          "output_type": "execute_result",
          "data": {
            "text/plain": [
              "[{'entity_group': 'LABEL_0',\n",
              "  'score': 0.9999501,\n",
              "  'word': '¿Cómo se',\n",
              "  'start': 0,\n",
              "  'end': 8},\n",
              " {'entity_group': 'LABEL_1',\n",
              "  'score': 0.9677142,\n",
              "  'word': 'sale',\n",
              "  'start': 9,\n",
              "  'end': 13},\n",
              " {'entity_group': 'LABEL_0',\n",
              "  'score': 0.9951791,\n",
              "  'word': 'de las relaciones tóxicas y del sufrimiento?.',\n",
              "  'start': 14,\n",
              "  'end': 59}]"
            ]
          },
          "metadata": {},
          "execution_count": 219
        }
      ],
      "source": [
        "token_classifier(\"¿Cómo se sale de las relaciones tóxicas y del sufrimiento?.\")"
      ]
    },
    {
      "cell_type": "code",
      "execution_count": null,
      "metadata": {
        "colab": {
          "base_uri": "https://localhost:8080/"
        },
        "id": "NiqnqGMtgMRM",
        "outputId": "384f9216-9912-48f1-f53e-e9a8e5ff84c6"
      },
      "outputs": [
        {
          "output_type": "execute_result",
          "data": {
            "text/plain": [
              "[{'entity_group': 'LABEL_0',\n",
              "  'score': 0.9997564,\n",
              "  'word': 'El Parlamento Europeo ha decidido empezar una',\n",
              "  'start': 0,\n",
              "  'end': 45},\n",
              " {'entity_group': 'LABEL_1',\n",
              "  'score': 0.9942168,\n",
              "  'word': 'lucha',\n",
              "  'start': 46,\n",
              "  'end': 51},\n",
              " {'entity_group': 'LABEL_0',\n",
              "  'score': 0.99898815,\n",
              "  'word': \"contra el '\",\n",
              "  'start': 52,\n",
              "  'end': 63},\n",
              " {'entity_group': 'LABEL_1',\n",
              "  'score': 0.7626455,\n",
              "  'word': 'scroll',\n",
              "  'start': 63,\n",
              "  'end': 69},\n",
              " {'entity_group': 'LABEL_0',\n",
              "  'score': 0.9802091,\n",
              "  'word': \"infinito' para que los usuarios dejen de perder el tiempo en redes sociales.\",\n",
              "  'start': 70,\n",
              "  'end': 146}]"
            ]
          },
          "metadata": {},
          "execution_count": 220
        }
      ],
      "source": [
        "token_classifier(\"El Parlamento Europeo ha decidido empezar una lucha contra el 'scroll infinito' para que los usuarios dejen de perder el tiempo en redes sociales.\")"
      ]
    },
    {
      "cell_type": "code",
      "execution_count": null,
      "metadata": {
        "colab": {
          "base_uri": "https://localhost:8080/"
        },
        "id": "PilZxmWrgscP",
        "outputId": "3466ce36-0e4e-4c5a-fd5f-d657f158e744"
      },
      "outputs": [
        {
          "output_type": "execute_result",
          "data": {
            "text/plain": [
              "[{'entity_group': 'LABEL_0',\n",
              "  'score': 0.99984777,\n",
              "  'word': 'Hasta en ese caso, después de haber',\n",
              "  'start': 0,\n",
              "  'end': 35},\n",
              " {'entity_group': 'LABEL_1',\n",
              "  'score': 0.5171971,\n",
              "  'word': 'conquista',\n",
              "  'start': 36,\n",
              "  'end': 45},\n",
              " {'entity_group': 'LABEL_0',\n",
              "  'score': 0.97630435,\n",
              "  'word': 'do la confianza de la tribu, cuesta mucho trabajo a dichos autores anotar las canciones y ceremonias.',\n",
              "  'start': 45,\n",
              "  'end': 146}]"
            ]
          },
          "metadata": {},
          "execution_count": 221
        }
      ],
      "source": [
        "token_classifier(\"Hasta en ese caso, después de haber conquistado la confianza de la tribu, cuesta mucho trabajo a dichos autores anotar las canciones y ceremonias.\")"
      ]
    },
    {
      "cell_type": "code",
      "execution_count": null,
      "metadata": {
        "colab": {
          "base_uri": "https://localhost:8080/"
        },
        "id": "En9ed9ZWhGAw",
        "outputId": "7c6a9f97-aeeb-4db8-db33-ccc6629310ae"
      },
      "outputs": [
        {
          "output_type": "execute_result",
          "data": {
            "text/plain": [
              "[{'entity_group': 'LABEL_0',\n",
              "  'score': 0.9995135,\n",
              "  'word': 'El PP pide a Page dejar las palabras',\n",
              "  'start': 0,\n",
              "  'end': 36},\n",
              " {'entity_group': 'LABEL_1',\n",
              "  'score': 0.9461682,\n",
              "  'word': 'huecas',\n",
              "  'start': 37,\n",
              "  'end': 43},\n",
              " {'entity_group': 'LABEL_0',\n",
              "  'score': 0.9999698,\n",
              "  'word': ', es el momento de',\n",
              "  'start': 43,\n",
              "  'end': 61},\n",
              " {'entity_group': 'LABEL_1',\n",
              "  'score': 0.9826103,\n",
              "  'word': 'plantar batalla',\n",
              "  'start': 62,\n",
              "  'end': 77},\n",
              " {'entity_group': 'LABEL_0',\n",
              "  'score': 0.99997544,\n",
              "  'word': '.',\n",
              "  'start': 77,\n",
              "  'end': 78}]"
            ]
          },
          "metadata": {},
          "execution_count": 222
        }
      ],
      "source": [
        "token_classifier(\"El PP pide a Page dejar las palabras huecas, es el momento de plantar batalla.\")"
      ]
    },
    {
      "cell_type": "code",
      "execution_count": null,
      "metadata": {
        "colab": {
          "base_uri": "https://localhost:8080/"
        },
        "id": "6SEYEqimhWJE",
        "outputId": "46007da2-60d5-4b0c-836a-d065113e38ac"
      },
      "outputs": [
        {
          "output_type": "execute_result",
          "data": {
            "text/plain": [
              "[{'entity_group': 'LABEL_0',\n",
              "  'score': 0.9914104,\n",
              "  'word': 'Érguete lo cobijó cuando él',\n",
              "  'start': 0,\n",
              "  'end': 27},\n",
              " {'entity_group': 'LABEL_1',\n",
              "  'score': 0.9311057,\n",
              "  'word': 'cayó',\n",
              "  'start': 28,\n",
              "  'end': 32},\n",
              " {'entity_group': 'LABEL_0',\n",
              "  'score': 0.9513795,\n",
              "  'word': 'en el vicio de la droga y le ayudó a salir.',\n",
              "  'start': 33,\n",
              "  'end': 76}]"
            ]
          },
          "metadata": {},
          "execution_count": 223
        }
      ],
      "source": [
        "token_classifier(\"Érguete lo cobijó cuando él cayó en el vicio de la droga y le ayudó a salir.\")"
      ]
    },
    {
      "cell_type": "code",
      "execution_count": null,
      "metadata": {
        "colab": {
          "base_uri": "https://localhost:8080/"
        },
        "id": "FVDMa5WCh8GZ",
        "outputId": "8496e661-da37-4b0d-cf13-a770b4631aa1"
      },
      "outputs": [
        {
          "output_type": "execute_result",
          "data": {
            "text/plain": [
              "[{'entity_group': 'LABEL_0',\n",
              "  'score': 0.9839645,\n",
              "  'word': 'Érguete lo cobijó cuando él cayó en la droga y le ayudó a salir.',\n",
              "  'start': 0,\n",
              "  'end': 64}]"
            ]
          },
          "metadata": {},
          "execution_count": 224
        }
      ],
      "source": [
        "token_classifier(\"Érguete lo cobijó cuando él cayó en la droga y le ayudó a salir.\")"
      ]
    },
    {
      "cell_type": "code",
      "execution_count": null,
      "metadata": {
        "colab": {
          "base_uri": "https://localhost:8080/"
        },
        "id": "Z1LblaT2iI7i",
        "outputId": "5049dda8-5898-4129-9ca3-362ade619ae4"
      },
      "outputs": [
        {
          "output_type": "execute_result",
          "data": {
            "text/plain": [
              "[{'entity_group': 'LABEL_0',\n",
              "  'score': 0.9932612,\n",
              "  'word': 'Uno de los mayores temores de alguien que está pasando por una etapa difícil es acabar',\n",
              "  'start': 0,\n",
              "  'end': 86},\n",
              " {'entity_group': 'LABEL_1',\n",
              "  'score': 0.9397952,\n",
              "  'word': 'cayendo',\n",
              "  'start': 87,\n",
              "  'end': 94},\n",
              " {'entity_group': 'LABEL_0',\n",
              "  'score': 0.9686736,\n",
              "  'word': 'en depresión.',\n",
              "  'start': 95,\n",
              "  'end': 108}]"
            ]
          },
          "metadata": {},
          "execution_count": 225
        }
      ],
      "source": [
        "token_classifier(\"Uno de los mayores temores de alguien que está pasando por una etapa difícil es acabar cayendo en depresión.\")"
      ]
    },
    {
      "cell_type": "code",
      "execution_count": null,
      "metadata": {
        "colab": {
          "base_uri": "https://localhost:8080/"
        },
        "id": "uoBwA2D7ifEk",
        "outputId": "8d4d28c2-a0b2-486b-cf5a-3d9a8a2427bb"
      },
      "outputs": [
        {
          "output_type": "execute_result",
          "data": {
            "text/plain": [
              "[{'entity_group': 'LABEL_0',\n",
              "  'score': 0.9518739,\n",
              "  'word': 'Érguete lo cobijó cuando él',\n",
              "  'start': 0,\n",
              "  'end': 27},\n",
              " {'entity_group': 'LABEL_1',\n",
              "  'score': 0.99539316,\n",
              "  'word': 'cayó',\n",
              "  'start': 28,\n",
              "  'end': 32},\n",
              " {'entity_group': 'LABEL_0',\n",
              "  'score': 0.98110044,\n",
              "  'word': 'en el vicio de la droga.',\n",
              "  'start': 33,\n",
              "  'end': 57}]"
            ]
          },
          "metadata": {},
          "execution_count": 226
        }
      ],
      "source": [
        "token_classifier(\"Érguete lo cobijó cuando él cayó en el vicio de la droga.\")"
      ]
    },
    {
      "cell_type": "markdown",
      "source": [
        "### Evaluation of the experiment\n",
        "After having observed the model's performance across several representative examples from out dataset, we are going to create a dataframe consisting of the sentences, the tokens of these sentences, the corresponding labels for each token, and the predictions made by out model. Finally, we will compare the true labels and the predicted ones in order to assess the model's abilty to identify metaphors in Spanish."
      ],
      "metadata": {
        "id": "AblWBrOOs-NC"
      }
    },
    {
      "cell_type": "code",
      "source": [
        "import pandas as pd\n",
        "\n",
        "file_path = \"/content/drive/My Drive/Colab Notebooks/trabajo final app1/Dataset/metaphors def.txt\"\n",
        "\n",
        "with open(file_path, 'r', encoding='utf-8') as file:\n",
        "    lines = file.readlines()\n",
        "\n",
        "    sentences = []\n",
        "    tokens_list = []\n",
        "    labels_list = []\n",
        "\n",
        "    tokens = []\n",
        "    labels = []\n",
        "    for line in lines:\n",
        "        # Check if the line is not empty\n",
        "        if line.strip() == '':\n",
        "            if tokens:  # Ensures empty sentences are not added\n",
        "                sentences.append(' '.join(tokens))\n",
        "                tokens_list.append(tokens)\n",
        "                labels_list.append(labels)\n",
        "                tokens = []\n",
        "                labels = []\n",
        "        else:\n",
        "            parts = line.strip().split('\\t')\n",
        "            if len(parts) == 2:  # Checks if the line has two parts\n",
        "                tokens.append(parts[0])\n",
        "                labels.append(parts[1])\n",
        "    # To add the last sentence if the file does not end on an empty line\n",
        "    if tokens:\n",
        "        sentences.append(' '.join(tokens))\n",
        "        tokens_list.append(tokens)\n",
        "        labels_list.append(labels)\n",
        "\n",
        "# Creating the DataFrame\n",
        "df = pd.DataFrame({\n",
        "    'sentences': sentences,\n",
        "    'tokens': tokens_list,\n",
        "    'labels': labels_list\n",
        "})"
      ],
      "metadata": {
        "id": "tX8so5lNtNeT"
      },
      "execution_count": null,
      "outputs": []
    },
    {
      "cell_type": "code",
      "execution_count": null,
      "metadata": {
        "colab": {
          "base_uri": "https://localhost:8080/",
          "height": 1000
        },
        "id": "aqTiv5qYIMrw",
        "outputId": "b7897849-42b7-4d40-ef4b-a10741af6f2d"
      },
      "outputs": [
        {
          "output_type": "display_data",
          "data": {
            "text/plain": [
              "                                            sentences  \\\n",
              "0   Nuestra percepción del tiempo acaba siendo det...   \n",
              "1   Cáritas lucha contra los problemas de salud me...   \n",
              "2         No hay más remedio que levantar ese ánimo .   \n",
              "3   La del cambio climático es la desconexión de l...   \n",
              "4   En el contexto de la cultura mexicana , noviem...   \n",
              "5   El financiero catalán tiene una idea brillante...   \n",
              "6   El Senado tumba los objetivos de déficit y lle...   \n",
              "7   La Policía detiene a 16 personas en Valencia t...   \n",
              "8       Se le pasa el tiempo volando con su juguete .   \n",
              "9   Un nuevo estudio demuestra que el humor negro ...   \n",
              "10  No existe un argumento sólido que pueda justif...   \n",
              "11  Un conductor drogado y sin carnet siembra el c...   \n",
              "12  Una ingeniera , un arquitecto , un médico y un...   \n",
              "13  El Vaticano exhibe una colección de grabados d...   \n",
              "14  Los gatos también destacan por la necesidad de...   \n",
              "15  Un libro para desmontar mitos acerca de la men...   \n",
              "16  Una madre de 42 años decide acabar con su vida...   \n",
              "17  ¿ Te sientes atascado en tu trabajo ? Esto rec...   \n",
              "18  Nueve de cada diez está abierto a nuevas oport...   \n",
              "19  El Gobierno anuncia un plan de impulso territo...   \n",
              "20  En las entrañas de la fábrica gallega donde se...   \n",
              "21  La inversión extranjera en España se desploma ...   \n",
              "22  La profunda soledad de Miley Cyrus o por qué c...   \n",
              "23  Esta idea terminal florecía gracias a aquellos...   \n",
              "24  ¿ Cómo se sale de las relaciones tóxicas y del...   \n",
              "25  Uno de los mayores temores de alguien que está...   \n",
              "26  Cómo construir una teoría de la conspiración e...   \n",
              "27  El Parlamento Europeo ha decidido empezar una ...   \n",
              "28  Conviene tener en cuenta una serie de factores...   \n",
              "29  Hasta en ese caso , después de haber conquista...   \n",
              "30  El PP pide a Page ' dejar las palabras huecas ...   \n",
              "31  La reputación de Justo Fuentes había llegado a...   \n",
              "32  Se pronunciaban durante las exequias de los re...   \n",
              "33  Érguete lo cobijó cuando él cayó en el vicio d...   \n",
              "34  Si el tiempo es más valioso que el dinero , ¿ ...   \n",
              "35  El coronel Carrasco escuchaba petrificado por ...   \n",
              "36  y el héroe nuestro , decimos , ciego de dolor ...   \n",
              "37  Siento que todo fue un ciego furor : mi vida y...   \n",
              "38  Una especie de rebelión del dolor cicatrizaba ...   \n",
              "39  La policía se presentó en el hotel donde se ho...   \n",
              "40  Los grandes cortes no le van nada bien por cua...   \n",
              "41  Mujeres de todas las edades se pasaban las hor...   \n",
              "42  Manuel Cordero Martín , niño que salvó a una m...   \n",
              "43  A un ciego de nacimiento se le puede explicar ...   \n",
              "44  Una ciudad mítica que se cree existe en la cim...   \n",
              "45  Arbolillo de hojas trifoliadas que florece en ...   \n",
              "46  de casa y , sin saber por qué , variaba el rum...   \n",
              "47  El sol calienta hasta quemar la piel , pero en...   \n",
              "48  Si rompen un objeto no es porque les desagrade...   \n",
              "49  El incendio no destruyó la casa completamente ...   \n",
              "\n",
              "                                               tokens  \\\n",
              "0   [Nuestra, percepción, del, tiempo, acaba, sien...   \n",
              "1   [Cáritas, lucha, contra, los, problemas, de, s...   \n",
              "2   [No, hay, más, remedio, que, levantar, ese, án...   \n",
              "3   [La, del, cambio, climático, es, la, desconexi...   \n",
              "4   [En, el, contexto, de, la, cultura, mexicana, ...   \n",
              "5   [El, financiero, catalán, tiene, una, idea, br...   \n",
              "6   [El, Senado, tumba, los, objetivos, de, défici...   \n",
              "7   [La, Policía, detiene, a, 16, personas, en, Va...   \n",
              "8   [Se, le, pasa, el, tiempo, volando, con, su, j...   \n",
              "9   [Un, nuevo, estudio, demuestra, que, el, humor...   \n",
              "10  [No, existe, un, argumento, sólido, que, pueda...   \n",
              "11  [Un, conductor, drogado, y, sin, carnet, siemb...   \n",
              "12  [Una, ingeniera, ,, un, arquitecto, ,, un, méd...   \n",
              "13  [El, Vaticano, exhibe, una, colección, de, gra...   \n",
              "14  [Los, gatos, también, destacan, por, la, neces...   \n",
              "15  [Un, libro, para, desmontar, mitos, acerca, de...   \n",
              "16  [Una, madre, de, 42, años, decide, acabar, con...   \n",
              "17  [¿, Te, sientes, atascado, en, tu, trabajo, ?,...   \n",
              "18  [Nueve, de, cada, diez, está, abierto, a, nuev...   \n",
              "19  [El, Gobierno, anuncia, un, plan, de, impulso,...   \n",
              "20  [En, las, entrañas, de, la, fábrica, gallega, ...   \n",
              "21  [La, inversión, extranjera, en, España, se, de...   \n",
              "22  [La, profunda, soledad, de, Miley, Cyrus, o, p...   \n",
              "23  [Esta, idea, terminal, florecía, gracias, a, a...   \n",
              "24  [¿, Cómo, se, sale, de, las, relaciones, tóxic...   \n",
              "25  [Uno, de, los, mayores, temores, de, alguien, ...   \n",
              "26  [Cómo, construir, una, teoría, de, la, conspir...   \n",
              "27  [El, Parlamento, Europeo, ha, decidido, empeza...   \n",
              "28  [Conviene, tener, en, cuenta, una, serie, de, ...   \n",
              "29  [Hasta, en, ese, caso, ,, después, de, haber, ...   \n",
              "30  [El, PP, pide, a, Page, ', dejar, las, palabra...   \n",
              "31  [La, reputación, de, Justo, Fuentes, había, ll...   \n",
              "32  [Se, pronunciaban, durante, las, exequias, de,...   \n",
              "33  [Érguete, lo, cobijó, cuando, él, cayó, en, el...   \n",
              "34  [Si, el, tiempo, es, más, valioso, que, el, di...   \n",
              "35  [El, coronel, Carrasco, escuchaba, petrificado...   \n",
              "36  [y, el, héroe, nuestro, ,, decimos, ,, ciego, ...   \n",
              "37  [Siento, que, todo, fue, un, ciego, furor, :, ...   \n",
              "38  [Una, especie, de, rebelión, del, dolor, cicat...   \n",
              "39  [La, policía, se, presentó, en, el, hotel, don...   \n",
              "40  [Los, grandes, cortes, no, le, van, nada, bien...   \n",
              "41  [Mujeres, de, todas, las, edades, se, pasaban,...   \n",
              "42  [Manuel, Cordero, Martín, ,, niño, que, salvó,...   \n",
              "43  [A, un, ciego, de, nacimiento, se, le, puede, ...   \n",
              "44  [Una, ciudad, mítica, que, se, cree, existe, e...   \n",
              "45  [Arbolillo, de, hojas, trifoliadas, que, flore...   \n",
              "46  [de, casa, y, ,, sin, saber, por, qué, ,, vari...   \n",
              "47  [El, sol, calienta, hasta, quemar, la, piel, ,...   \n",
              "48  [Si, rompen, un, objeto, no, es, porque, les, ...   \n",
              "49  [El, incendio, no, destruyó, la, casa, complet...   \n",
              "\n",
              "                                               labels  \n",
              "0   [O, O, O, O, O, O, O, O, O, O, O, O, O, O, O, ...  \n",
              "1    [O, B-METAPHOR, O, O, O, O, O, O, O, O, O, O, O]  \n",
              "2                [O, O, O, O, O, B-METAPHOR, O, O, O]  \n",
              "3   [O, O, O, O, O, O, B-METAPHOR, O, O, O, O, O, ...  \n",
              "4   [O, O, O, O, O, O, O, O, O, O, O, O, B-METAPHO...  \n",
              "5   [O, O, O, O, O, O, B-METAPHOR, O, O, O, B-META...  \n",
              "6   [O, O, B-METAPHOR, O, O, O, O, O, B-METAPHOR, ...  \n",
              "7   [O, O, B-METAPHOR, O, O, O, O, O, O, B-METAPHO...  \n",
              "8    [O, O, B-METAPHOR, O, O, B-METAPHOR, O, O, O, O]  \n",
              "9   [O, O, O, O, O, O, O, B-METAPHOR, O, O, O, O, ...  \n",
              "10         [O, O, O, O, B-METAPHOR, O, O, O, O, O, O]  \n",
              "11  [O, O, O, O, O, O, B-METAPHOR, O, O, O, O, O, ...  \n",
              "12  [O, O, O, O, O, O, O, O, O, O, O, O, O, B-META...  \n",
              "13  [O, O, O, O, O, O, O, O, O, O, O, O, O, O, O, ...  \n",
              "14   [O, O, O, O, O, O, O, O, O, B-METAPHOR, O, O, O]  \n",
              "15            [O, O, O, B-METAPHOR, O, O, O, O, O, O]  \n",
              "16  [O, O, O, O, O, O, B-METAPHOR, O, O, O, O, B-M...  \n",
              "17  [O, O, O, B-METAPHOR, O, O, O, O, O, O, O, O, ...  \n",
              "18         [O, O, O, O, O, B-METAPHOR, O, O, O, O, O]  \n",
              "19   [O, O, O, O, O, O, B-METAPHOR, O, O, O, O, O, O]  \n",
              "20  [O, O, B-METAPHOR, O, O, O, O, O, O, O, O, O, ...  \n",
              "21  [O, O, O, O, O, O, B-METAPHOR, O, O, O, O, O, ...  \n",
              "22  [O, B-METAPHOR, O, O, O, O, O, O, O, O, O, O, ...  \n",
              "23  [O, O, O, B-METAPHOR, O, O, O, O, O, B-METAPHO...  \n",
              "24  [O, O, O, B-METAPHOR, O, O, O, B-METAPHOR, O, ...  \n",
              "25  [O, O, O, O, O, O, O, O, O, B-METAPHOR, O, O, ...  \n",
              "26  [O, B-METAPHOR, O, O, O, O, O, O, O, B-METAPHO...  \n",
              "27  [O, O, O, O, O, O, O, B-METAPHOR, O, O, O, O, ...  \n",
              "28  [O, O, O, O, O, O, O, O, O, O, B-METAPHOR, O, ...  \n",
              "29  [O, O, O, O, O, O, O, O, B-METAPHOR, O, O, O, ...  \n",
              "30  [O, O, O, O, O, O, O, O, O, B-METAPHOR, O, O, ...  \n",
              "31  [O, O, O, O, O, O, B-METAPHOR, O, O, B-METAPHO...  \n",
              "32  [O, O, O, O, O, O, O, O, O, O, O, O, O, O, O, ...  \n",
              "33  [O, O, O, O, O, B-METAPHOR, O, O, O, O, O, O, ...  \n",
              "34  [O, O, O, O, O, B-METAPHOR, O, O, O, O, O, O, ...  \n",
              "35  [O, O, O, O, B-METAPHOR, O, O, O, O, O, O, O, ...  \n",
              "36  [O, O, O, O, O, O, O, B-METAPHOR, O, O, O, O, ...  \n",
              "37  [O, O, O, O, O, B-METAPHOR, O, O, O, O, O, O, ...  \n",
              "38  [O, O, O, B-METAPHOR, O, O, B-METAPHOR, O, O, ...  \n",
              "39  [O, O, O, O, O, O, O, O, O, O, O, O, O, O, O, ...  \n",
              "40  [O, O, O, O, O, O, O, O, O, O, O, O, O, O, O, ...  \n",
              "41  [O, O, O, O, O, O, B-METAPHOR, O, O, O, O, O, ...  \n",
              "42  [O, O, O, O, O, O, O, O, O, O, O, O, O, O, O, ...  \n",
              "43  [O, O, O, O, O, O, O, O, O, O, O, O, O, O, O, ...  \n",
              "44         [O, O, O, O, O, O, O, O, O, O, O, O, O, O]  \n",
              "45  [O, O, O, O, O, O, O, O, O, O, O, O, O, O, O, ...  \n",
              "46  [O, O, O, O, O, O, O, O, O, O, O, O, O, O, O, ...  \n",
              "47  [O, O, O, O, B-METAPHOR, O, O, O, O, O, O, O, ...  \n",
              "48   [O, O, O, O, O, O, O, O, O, O, O, O, O, O, O, O]  \n",
              "49         [O, O, O, O, O, O, O, O, O, O, O, O, O, O]  "
            ],
            "text/html": [
              "\n",
              "  <div id=\"df-9c56afae-4dd2-44ac-965b-bb11060b82a2\" class=\"colab-df-container\">\n",
              "    <div>\n",
              "<style scoped>\n",
              "    .dataframe tbody tr th:only-of-type {\n",
              "        vertical-align: middle;\n",
              "    }\n",
              "\n",
              "    .dataframe tbody tr th {\n",
              "        vertical-align: top;\n",
              "    }\n",
              "\n",
              "    .dataframe thead th {\n",
              "        text-align: right;\n",
              "    }\n",
              "</style>\n",
              "<table border=\"1\" class=\"dataframe\">\n",
              "  <thead>\n",
              "    <tr style=\"text-align: right;\">\n",
              "      <th></th>\n",
              "      <th>sentences</th>\n",
              "      <th>tokens</th>\n",
              "      <th>labels</th>\n",
              "    </tr>\n",
              "  </thead>\n",
              "  <tbody>\n",
              "    <tr>\n",
              "      <th>0</th>\n",
              "      <td>Nuestra percepción del tiempo acaba siendo det...</td>\n",
              "      <td>[Nuestra, percepción, del, tiempo, acaba, sien...</td>\n",
              "      <td>[O, O, O, O, O, O, O, O, O, O, O, O, O, O, O, ...</td>\n",
              "    </tr>\n",
              "    <tr>\n",
              "      <th>1</th>\n",
              "      <td>Cáritas lucha contra los problemas de salud me...</td>\n",
              "      <td>[Cáritas, lucha, contra, los, problemas, de, s...</td>\n",
              "      <td>[O, B-METAPHOR, O, O, O, O, O, O, O, O, O, O, O]</td>\n",
              "    </tr>\n",
              "    <tr>\n",
              "      <th>2</th>\n",
              "      <td>No hay más remedio que levantar ese ánimo .</td>\n",
              "      <td>[No, hay, más, remedio, que, levantar, ese, án...</td>\n",
              "      <td>[O, O, O, O, O, B-METAPHOR, O, O, O]</td>\n",
              "    </tr>\n",
              "    <tr>\n",
              "      <th>3</th>\n",
              "      <td>La del cambio climático es la desconexión de l...</td>\n",
              "      <td>[La, del, cambio, climático, es, la, desconexi...</td>\n",
              "      <td>[O, O, O, O, O, O, B-METAPHOR, O, O, O, O, O, ...</td>\n",
              "    </tr>\n",
              "    <tr>\n",
              "      <th>4</th>\n",
              "      <td>En el contexto de la cultura mexicana , noviem...</td>\n",
              "      <td>[En, el, contexto, de, la, cultura, mexicana, ...</td>\n",
              "      <td>[O, O, O, O, O, O, O, O, O, O, O, O, B-METAPHO...</td>\n",
              "    </tr>\n",
              "    <tr>\n",
              "      <th>5</th>\n",
              "      <td>El financiero catalán tiene una idea brillante...</td>\n",
              "      <td>[El, financiero, catalán, tiene, una, idea, br...</td>\n",
              "      <td>[O, O, O, O, O, O, B-METAPHOR, O, O, O, B-META...</td>\n",
              "    </tr>\n",
              "    <tr>\n",
              "      <th>6</th>\n",
              "      <td>El Senado tumba los objetivos de déficit y lle...</td>\n",
              "      <td>[El, Senado, tumba, los, objetivos, de, défici...</td>\n",
              "      <td>[O, O, B-METAPHOR, O, O, O, O, O, B-METAPHOR, ...</td>\n",
              "    </tr>\n",
              "    <tr>\n",
              "      <th>7</th>\n",
              "      <td>La Policía detiene a 16 personas en Valencia t...</td>\n",
              "      <td>[La, Policía, detiene, a, 16, personas, en, Va...</td>\n",
              "      <td>[O, O, B-METAPHOR, O, O, O, O, O, O, B-METAPHO...</td>\n",
              "    </tr>\n",
              "    <tr>\n",
              "      <th>8</th>\n",
              "      <td>Se le pasa el tiempo volando con su juguete .</td>\n",
              "      <td>[Se, le, pasa, el, tiempo, volando, con, su, j...</td>\n",
              "      <td>[O, O, B-METAPHOR, O, O, B-METAPHOR, O, O, O, O]</td>\n",
              "    </tr>\n",
              "    <tr>\n",
              "      <th>9</th>\n",
              "      <td>Un nuevo estudio demuestra que el humor negro ...</td>\n",
              "      <td>[Un, nuevo, estudio, demuestra, que, el, humor...</td>\n",
              "      <td>[O, O, O, O, O, O, O, B-METAPHOR, O, O, O, O, ...</td>\n",
              "    </tr>\n",
              "    <tr>\n",
              "      <th>10</th>\n",
              "      <td>No existe un argumento sólido que pueda justif...</td>\n",
              "      <td>[No, existe, un, argumento, sólido, que, pueda...</td>\n",
              "      <td>[O, O, O, O, B-METAPHOR, O, O, O, O, O, O]</td>\n",
              "    </tr>\n",
              "    <tr>\n",
              "      <th>11</th>\n",
              "      <td>Un conductor drogado y sin carnet siembra el c...</td>\n",
              "      <td>[Un, conductor, drogado, y, sin, carnet, siemb...</td>\n",
              "      <td>[O, O, O, O, O, O, B-METAPHOR, O, O, O, O, O, ...</td>\n",
              "    </tr>\n",
              "    <tr>\n",
              "      <th>12</th>\n",
              "      <td>Una ingeniera , un arquitecto , un médico y un...</td>\n",
              "      <td>[Una, ingeniera, ,, un, arquitecto, ,, un, méd...</td>\n",
              "      <td>[O, O, O, O, O, O, O, O, O, O, O, O, O, B-META...</td>\n",
              "    </tr>\n",
              "    <tr>\n",
              "      <th>13</th>\n",
              "      <td>El Vaticano exhibe una colección de grabados d...</td>\n",
              "      <td>[El, Vaticano, exhibe, una, colección, de, gra...</td>\n",
              "      <td>[O, O, O, O, O, O, O, O, O, O, O, O, O, O, O, ...</td>\n",
              "    </tr>\n",
              "    <tr>\n",
              "      <th>14</th>\n",
              "      <td>Los gatos también destacan por la necesidad de...</td>\n",
              "      <td>[Los, gatos, también, destacan, por, la, neces...</td>\n",
              "      <td>[O, O, O, O, O, O, O, O, O, B-METAPHOR, O, O, O]</td>\n",
              "    </tr>\n",
              "    <tr>\n",
              "      <th>15</th>\n",
              "      <td>Un libro para desmontar mitos acerca de la men...</td>\n",
              "      <td>[Un, libro, para, desmontar, mitos, acerca, de...</td>\n",
              "      <td>[O, O, O, B-METAPHOR, O, O, O, O, O, O]</td>\n",
              "    </tr>\n",
              "    <tr>\n",
              "      <th>16</th>\n",
              "      <td>Una madre de 42 años decide acabar con su vida...</td>\n",
              "      <td>[Una, madre, de, 42, años, decide, acabar, con...</td>\n",
              "      <td>[O, O, O, O, O, O, B-METAPHOR, O, O, O, O, B-M...</td>\n",
              "    </tr>\n",
              "    <tr>\n",
              "      <th>17</th>\n",
              "      <td>¿ Te sientes atascado en tu trabajo ? Esto rec...</td>\n",
              "      <td>[¿, Te, sientes, atascado, en, tu, trabajo, ?,...</td>\n",
              "      <td>[O, O, O, B-METAPHOR, O, O, O, O, O, O, O, O, ...</td>\n",
              "    </tr>\n",
              "    <tr>\n",
              "      <th>18</th>\n",
              "      <td>Nueve de cada diez está abierto a nuevas oport...</td>\n",
              "      <td>[Nueve, de, cada, diez, está, abierto, a, nuev...</td>\n",
              "      <td>[O, O, O, O, O, B-METAPHOR, O, O, O, O, O]</td>\n",
              "    </tr>\n",
              "    <tr>\n",
              "      <th>19</th>\n",
              "      <td>El Gobierno anuncia un plan de impulso territo...</td>\n",
              "      <td>[El, Gobierno, anuncia, un, plan, de, impulso,...</td>\n",
              "      <td>[O, O, O, O, O, O, B-METAPHOR, O, O, O, O, O, O]</td>\n",
              "    </tr>\n",
              "    <tr>\n",
              "      <th>20</th>\n",
              "      <td>En las entrañas de la fábrica gallega donde se...</td>\n",
              "      <td>[En, las, entrañas, de, la, fábrica, gallega, ...</td>\n",
              "      <td>[O, O, B-METAPHOR, O, O, O, O, O, O, O, O, O, ...</td>\n",
              "    </tr>\n",
              "    <tr>\n",
              "      <th>21</th>\n",
              "      <td>La inversión extranjera en España se desploma ...</td>\n",
              "      <td>[La, inversión, extranjera, en, España, se, de...</td>\n",
              "      <td>[O, O, O, O, O, O, B-METAPHOR, O, O, O, O, O, ...</td>\n",
              "    </tr>\n",
              "    <tr>\n",
              "      <th>22</th>\n",
              "      <td>La profunda soledad de Miley Cyrus o por qué c...</td>\n",
              "      <td>[La, profunda, soledad, de, Miley, Cyrus, o, p...</td>\n",
              "      <td>[O, B-METAPHOR, O, O, O, O, O, O, O, O, O, O, ...</td>\n",
              "    </tr>\n",
              "    <tr>\n",
              "      <th>23</th>\n",
              "      <td>Esta idea terminal florecía gracias a aquellos...</td>\n",
              "      <td>[Esta, idea, terminal, florecía, gracias, a, a...</td>\n",
              "      <td>[O, O, O, B-METAPHOR, O, O, O, O, O, B-METAPHO...</td>\n",
              "    </tr>\n",
              "    <tr>\n",
              "      <th>24</th>\n",
              "      <td>¿ Cómo se sale de las relaciones tóxicas y del...</td>\n",
              "      <td>[¿, Cómo, se, sale, de, las, relaciones, tóxic...</td>\n",
              "      <td>[O, O, O, B-METAPHOR, O, O, O, B-METAPHOR, O, ...</td>\n",
              "    </tr>\n",
              "    <tr>\n",
              "      <th>25</th>\n",
              "      <td>Uno de los mayores temores de alguien que está...</td>\n",
              "      <td>[Uno, de, los, mayores, temores, de, alguien, ...</td>\n",
              "      <td>[O, O, O, O, O, O, O, O, O, B-METAPHOR, O, O, ...</td>\n",
              "    </tr>\n",
              "    <tr>\n",
              "      <th>26</th>\n",
              "      <td>Cómo construir una teoría de la conspiración e...</td>\n",
              "      <td>[Cómo, construir, una, teoría, de, la, conspir...</td>\n",
              "      <td>[O, B-METAPHOR, O, O, O, O, O, O, O, B-METAPHO...</td>\n",
              "    </tr>\n",
              "    <tr>\n",
              "      <th>27</th>\n",
              "      <td>El Parlamento Europeo ha decidido empezar una ...</td>\n",
              "      <td>[El, Parlamento, Europeo, ha, decidido, empeza...</td>\n",
              "      <td>[O, O, O, O, O, O, O, B-METAPHOR, O, O, O, O, ...</td>\n",
              "    </tr>\n",
              "    <tr>\n",
              "      <th>28</th>\n",
              "      <td>Conviene tener en cuenta una serie de factores...</td>\n",
              "      <td>[Conviene, tener, en, cuenta, una, serie, de, ...</td>\n",
              "      <td>[O, O, O, O, O, O, O, O, O, O, B-METAPHOR, O, ...</td>\n",
              "    </tr>\n",
              "    <tr>\n",
              "      <th>29</th>\n",
              "      <td>Hasta en ese caso , después de haber conquista...</td>\n",
              "      <td>[Hasta, en, ese, caso, ,, después, de, haber, ...</td>\n",
              "      <td>[O, O, O, O, O, O, O, O, B-METAPHOR, O, O, O, ...</td>\n",
              "    </tr>\n",
              "    <tr>\n",
              "      <th>30</th>\n",
              "      <td>El PP pide a Page ' dejar las palabras huecas ...</td>\n",
              "      <td>[El, PP, pide, a, Page, ', dejar, las, palabra...</td>\n",
              "      <td>[O, O, O, O, O, O, O, O, O, B-METAPHOR, O, O, ...</td>\n",
              "    </tr>\n",
              "    <tr>\n",
              "      <th>31</th>\n",
              "      <td>La reputación de Justo Fuentes había llegado a...</td>\n",
              "      <td>[La, reputación, de, Justo, Fuentes, había, ll...</td>\n",
              "      <td>[O, O, O, O, O, O, B-METAPHOR, O, O, B-METAPHO...</td>\n",
              "    </tr>\n",
              "    <tr>\n",
              "      <th>32</th>\n",
              "      <td>Se pronunciaban durante las exequias de los re...</td>\n",
              "      <td>[Se, pronunciaban, durante, las, exequias, de,...</td>\n",
              "      <td>[O, O, O, O, O, O, O, O, O, O, O, O, O, O, O, ...</td>\n",
              "    </tr>\n",
              "    <tr>\n",
              "      <th>33</th>\n",
              "      <td>Érguete lo cobijó cuando él cayó en el vicio d...</td>\n",
              "      <td>[Érguete, lo, cobijó, cuando, él, cayó, en, el...</td>\n",
              "      <td>[O, O, O, O, O, B-METAPHOR, O, O, O, O, O, O, ...</td>\n",
              "    </tr>\n",
              "    <tr>\n",
              "      <th>34</th>\n",
              "      <td>Si el tiempo es más valioso que el dinero , ¿ ...</td>\n",
              "      <td>[Si, el, tiempo, es, más, valioso, que, el, di...</td>\n",
              "      <td>[O, O, O, O, O, B-METAPHOR, O, O, O, O, O, O, ...</td>\n",
              "    </tr>\n",
              "    <tr>\n",
              "      <th>35</th>\n",
              "      <td>El coronel Carrasco escuchaba petrificado por ...</td>\n",
              "      <td>[El, coronel, Carrasco, escuchaba, petrificado...</td>\n",
              "      <td>[O, O, O, O, B-METAPHOR, O, O, O, O, O, O, O, ...</td>\n",
              "    </tr>\n",
              "    <tr>\n",
              "      <th>36</th>\n",
              "      <td>y el héroe nuestro , decimos , ciego de dolor ...</td>\n",
              "      <td>[y, el, héroe, nuestro, ,, decimos, ,, ciego, ...</td>\n",
              "      <td>[O, O, O, O, O, O, O, B-METAPHOR, O, O, O, O, ...</td>\n",
              "    </tr>\n",
              "    <tr>\n",
              "      <th>37</th>\n",
              "      <td>Siento que todo fue un ciego furor : mi vida y...</td>\n",
              "      <td>[Siento, que, todo, fue, un, ciego, furor, :, ...</td>\n",
              "      <td>[O, O, O, O, O, B-METAPHOR, O, O, O, O, O, O, ...</td>\n",
              "    </tr>\n",
              "    <tr>\n",
              "      <th>38</th>\n",
              "      <td>Una especie de rebelión del dolor cicatrizaba ...</td>\n",
              "      <td>[Una, especie, de, rebelión, del, dolor, cicat...</td>\n",
              "      <td>[O, O, O, B-METAPHOR, O, O, B-METAPHOR, O, O, ...</td>\n",
              "    </tr>\n",
              "    <tr>\n",
              "      <th>39</th>\n",
              "      <td>La policía se presentó en el hotel donde se ho...</td>\n",
              "      <td>[La, policía, se, presentó, en, el, hotel, don...</td>\n",
              "      <td>[O, O, O, O, O, O, O, O, O, O, O, O, O, O, O, ...</td>\n",
              "    </tr>\n",
              "    <tr>\n",
              "      <th>40</th>\n",
              "      <td>Los grandes cortes no le van nada bien por cua...</td>\n",
              "      <td>[Los, grandes, cortes, no, le, van, nada, bien...</td>\n",
              "      <td>[O, O, O, O, O, O, O, O, O, O, O, O, O, O, O, ...</td>\n",
              "    </tr>\n",
              "    <tr>\n",
              "      <th>41</th>\n",
              "      <td>Mujeres de todas las edades se pasaban las hor...</td>\n",
              "      <td>[Mujeres, de, todas, las, edades, se, pasaban,...</td>\n",
              "      <td>[O, O, O, O, O, O, B-METAPHOR, O, O, O, O, O, ...</td>\n",
              "    </tr>\n",
              "    <tr>\n",
              "      <th>42</th>\n",
              "      <td>Manuel Cordero Martín , niño que salvó a una m...</td>\n",
              "      <td>[Manuel, Cordero, Martín, ,, niño, que, salvó,...</td>\n",
              "      <td>[O, O, O, O, O, O, O, O, O, O, O, O, O, O, O, ...</td>\n",
              "    </tr>\n",
              "    <tr>\n",
              "      <th>43</th>\n",
              "      <td>A un ciego de nacimiento se le puede explicar ...</td>\n",
              "      <td>[A, un, ciego, de, nacimiento, se, le, puede, ...</td>\n",
              "      <td>[O, O, O, O, O, O, O, O, O, O, O, O, O, O, O, ...</td>\n",
              "    </tr>\n",
              "    <tr>\n",
              "      <th>44</th>\n",
              "      <td>Una ciudad mítica que se cree existe en la cim...</td>\n",
              "      <td>[Una, ciudad, mítica, que, se, cree, existe, e...</td>\n",
              "      <td>[O, O, O, O, O, O, O, O, O, O, O, O, O, O]</td>\n",
              "    </tr>\n",
              "    <tr>\n",
              "      <th>45</th>\n",
              "      <td>Arbolillo de hojas trifoliadas que florece en ...</td>\n",
              "      <td>[Arbolillo, de, hojas, trifoliadas, que, flore...</td>\n",
              "      <td>[O, O, O, O, O, O, O, O, O, O, O, O, O, O, O, ...</td>\n",
              "    </tr>\n",
              "    <tr>\n",
              "      <th>46</th>\n",
              "      <td>de casa y , sin saber por qué , variaba el rum...</td>\n",
              "      <td>[de, casa, y, ,, sin, saber, por, qué, ,, vari...</td>\n",
              "      <td>[O, O, O, O, O, O, O, O, O, O, O, O, O, O, O, ...</td>\n",
              "    </tr>\n",
              "    <tr>\n",
              "      <th>47</th>\n",
              "      <td>El sol calienta hasta quemar la piel , pero en...</td>\n",
              "      <td>[El, sol, calienta, hasta, quemar, la, piel, ,...</td>\n",
              "      <td>[O, O, O, O, B-METAPHOR, O, O, O, O, O, O, O, ...</td>\n",
              "    </tr>\n",
              "    <tr>\n",
              "      <th>48</th>\n",
              "      <td>Si rompen un objeto no es porque les desagrade...</td>\n",
              "      <td>[Si, rompen, un, objeto, no, es, porque, les, ...</td>\n",
              "      <td>[O, O, O, O, O, O, O, O, O, O, O, O, O, O, O, O]</td>\n",
              "    </tr>\n",
              "    <tr>\n",
              "      <th>49</th>\n",
              "      <td>El incendio no destruyó la casa completamente ...</td>\n",
              "      <td>[El, incendio, no, destruyó, la, casa, complet...</td>\n",
              "      <td>[O, O, O, O, O, O, O, O, O, O, O, O, O, O]</td>\n",
              "    </tr>\n",
              "  </tbody>\n",
              "</table>\n",
              "</div>\n",
              "    <div class=\"colab-df-buttons\">\n",
              "\n",
              "  <div class=\"colab-df-container\">\n",
              "    <button class=\"colab-df-convert\" onclick=\"convertToInteractive('df-9c56afae-4dd2-44ac-965b-bb11060b82a2')\"\n",
              "            title=\"Convert this dataframe to an interactive table.\"\n",
              "            style=\"display:none;\">\n",
              "\n",
              "  <svg xmlns=\"http://www.w3.org/2000/svg\" height=\"24px\" viewBox=\"0 -960 960 960\">\n",
              "    <path d=\"M120-120v-720h720v720H120Zm60-500h600v-160H180v160Zm220 220h160v-160H400v160Zm0 220h160v-160H400v160ZM180-400h160v-160H180v160Zm440 0h160v-160H620v160ZM180-180h160v-160H180v160Zm440 0h160v-160H620v160Z\"/>\n",
              "  </svg>\n",
              "    </button>\n",
              "\n",
              "  <style>\n",
              "    .colab-df-container {\n",
              "      display:flex;\n",
              "      gap: 12px;\n",
              "    }\n",
              "\n",
              "    .colab-df-convert {\n",
              "      background-color: #E8F0FE;\n",
              "      border: none;\n",
              "      border-radius: 50%;\n",
              "      cursor: pointer;\n",
              "      display: none;\n",
              "      fill: #1967D2;\n",
              "      height: 32px;\n",
              "      padding: 0 0 0 0;\n",
              "      width: 32px;\n",
              "    }\n",
              "\n",
              "    .colab-df-convert:hover {\n",
              "      background-color: #E2EBFA;\n",
              "      box-shadow: 0px 1px 2px rgba(60, 64, 67, 0.3), 0px 1px 3px 1px rgba(60, 64, 67, 0.15);\n",
              "      fill: #174EA6;\n",
              "    }\n",
              "\n",
              "    .colab-df-buttons div {\n",
              "      margin-bottom: 4px;\n",
              "    }\n",
              "\n",
              "    [theme=dark] .colab-df-convert {\n",
              "      background-color: #3B4455;\n",
              "      fill: #D2E3FC;\n",
              "    }\n",
              "\n",
              "    [theme=dark] .colab-df-convert:hover {\n",
              "      background-color: #434B5C;\n",
              "      box-shadow: 0px 1px 3px 1px rgba(0, 0, 0, 0.15);\n",
              "      filter: drop-shadow(0px 1px 2px rgba(0, 0, 0, 0.3));\n",
              "      fill: #FFFFFF;\n",
              "    }\n",
              "  </style>\n",
              "\n",
              "    <script>\n",
              "      const buttonEl =\n",
              "        document.querySelector('#df-9c56afae-4dd2-44ac-965b-bb11060b82a2 button.colab-df-convert');\n",
              "      buttonEl.style.display =\n",
              "        google.colab.kernel.accessAllowed ? 'block' : 'none';\n",
              "\n",
              "      async function convertToInteractive(key) {\n",
              "        const element = document.querySelector('#df-9c56afae-4dd2-44ac-965b-bb11060b82a2');\n",
              "        const dataTable =\n",
              "          await google.colab.kernel.invokeFunction('convertToInteractive',\n",
              "                                                    [key], {});\n",
              "        if (!dataTable) return;\n",
              "\n",
              "        const docLinkHtml = 'Like what you see? Visit the ' +\n",
              "          '<a target=\"_blank\" href=https://colab.research.google.com/notebooks/data_table.ipynb>data table notebook</a>'\n",
              "          + ' to learn more about interactive tables.';\n",
              "        element.innerHTML = '';\n",
              "        dataTable['output_type'] = 'display_data';\n",
              "        await google.colab.output.renderOutput(dataTable, element);\n",
              "        const docLink = document.createElement('div');\n",
              "        docLink.innerHTML = docLinkHtml;\n",
              "        element.appendChild(docLink);\n",
              "      }\n",
              "    </script>\n",
              "  </div>\n",
              "\n",
              "\n",
              "<div id=\"df-97b2f99b-a1c2-429a-9985-ac5b4405b566\">\n",
              "  <button class=\"colab-df-quickchart\" onclick=\"quickchart('df-97b2f99b-a1c2-429a-9985-ac5b4405b566')\"\n",
              "            title=\"Suggest charts\"\n",
              "            style=\"display:none;\">\n",
              "\n",
              "<svg xmlns=\"http://www.w3.org/2000/svg\" height=\"24px\"viewBox=\"0 0 24 24\"\n",
              "     width=\"24px\">\n",
              "    <g>\n",
              "        <path d=\"M19 3H5c-1.1 0-2 .9-2 2v14c0 1.1.9 2 2 2h14c1.1 0 2-.9 2-2V5c0-1.1-.9-2-2-2zM9 17H7v-7h2v7zm4 0h-2V7h2v10zm4 0h-2v-4h2v4z\"/>\n",
              "    </g>\n",
              "</svg>\n",
              "  </button>\n",
              "\n",
              "<style>\n",
              "  .colab-df-quickchart {\n",
              "      --bg-color: #E8F0FE;\n",
              "      --fill-color: #1967D2;\n",
              "      --hover-bg-color: #E2EBFA;\n",
              "      --hover-fill-color: #174EA6;\n",
              "      --disabled-fill-color: #AAA;\n",
              "      --disabled-bg-color: #DDD;\n",
              "  }\n",
              "\n",
              "  [theme=dark] .colab-df-quickchart {\n",
              "      --bg-color: #3B4455;\n",
              "      --fill-color: #D2E3FC;\n",
              "      --hover-bg-color: #434B5C;\n",
              "      --hover-fill-color: #FFFFFF;\n",
              "      --disabled-bg-color: #3B4455;\n",
              "      --disabled-fill-color: #666;\n",
              "  }\n",
              "\n",
              "  .colab-df-quickchart {\n",
              "    background-color: var(--bg-color);\n",
              "    border: none;\n",
              "    border-radius: 50%;\n",
              "    cursor: pointer;\n",
              "    display: none;\n",
              "    fill: var(--fill-color);\n",
              "    height: 32px;\n",
              "    padding: 0;\n",
              "    width: 32px;\n",
              "  }\n",
              "\n",
              "  .colab-df-quickchart:hover {\n",
              "    background-color: var(--hover-bg-color);\n",
              "    box-shadow: 0 1px 2px rgba(60, 64, 67, 0.3), 0 1px 3px 1px rgba(60, 64, 67, 0.15);\n",
              "    fill: var(--button-hover-fill-color);\n",
              "  }\n",
              "\n",
              "  .colab-df-quickchart-complete:disabled,\n",
              "  .colab-df-quickchart-complete:disabled:hover {\n",
              "    background-color: var(--disabled-bg-color);\n",
              "    fill: var(--disabled-fill-color);\n",
              "    box-shadow: none;\n",
              "  }\n",
              "\n",
              "  .colab-df-spinner {\n",
              "    border: 2px solid var(--fill-color);\n",
              "    border-color: transparent;\n",
              "    border-bottom-color: var(--fill-color);\n",
              "    animation:\n",
              "      spin 1s steps(1) infinite;\n",
              "  }\n",
              "\n",
              "  @keyframes spin {\n",
              "    0% {\n",
              "      border-color: transparent;\n",
              "      border-bottom-color: var(--fill-color);\n",
              "      border-left-color: var(--fill-color);\n",
              "    }\n",
              "    20% {\n",
              "      border-color: transparent;\n",
              "      border-left-color: var(--fill-color);\n",
              "      border-top-color: var(--fill-color);\n",
              "    }\n",
              "    30% {\n",
              "      border-color: transparent;\n",
              "      border-left-color: var(--fill-color);\n",
              "      border-top-color: var(--fill-color);\n",
              "      border-right-color: var(--fill-color);\n",
              "    }\n",
              "    40% {\n",
              "      border-color: transparent;\n",
              "      border-right-color: var(--fill-color);\n",
              "      border-top-color: var(--fill-color);\n",
              "    }\n",
              "    60% {\n",
              "      border-color: transparent;\n",
              "      border-right-color: var(--fill-color);\n",
              "    }\n",
              "    80% {\n",
              "      border-color: transparent;\n",
              "      border-right-color: var(--fill-color);\n",
              "      border-bottom-color: var(--fill-color);\n",
              "    }\n",
              "    90% {\n",
              "      border-color: transparent;\n",
              "      border-bottom-color: var(--fill-color);\n",
              "    }\n",
              "  }\n",
              "</style>\n",
              "\n",
              "  <script>\n",
              "    async function quickchart(key) {\n",
              "      const quickchartButtonEl =\n",
              "        document.querySelector('#' + key + ' button');\n",
              "      quickchartButtonEl.disabled = true;  // To prevent multiple clicks.\n",
              "      quickchartButtonEl.classList.add('colab-df-spinner');\n",
              "      try {\n",
              "        const charts = await google.colab.kernel.invokeFunction(\n",
              "            'suggestCharts', [key], {});\n",
              "      } catch (error) {\n",
              "        console.error('Error during call to suggestCharts:', error);\n",
              "      }\n",
              "      quickchartButtonEl.classList.remove('colab-df-spinner');\n",
              "      quickchartButtonEl.classList.add('colab-df-quickchart-complete');\n",
              "    }\n",
              "    (() => {\n",
              "      let quickchartButtonEl =\n",
              "        document.querySelector('#df-97b2f99b-a1c2-429a-9985-ac5b4405b566 button');\n",
              "      quickchartButtonEl.style.display =\n",
              "        google.colab.kernel.accessAllowed ? 'block' : 'none';\n",
              "    })();\n",
              "  </script>\n",
              "</div>\n",
              "    </div>\n",
              "  </div>\n"
            ],
            "application/vnd.google.colaboratory.intrinsic+json": {
              "type": "dataframe",
              "variable_name": "df",
              "summary": "{\n  \"name\": \"df\",\n  \"rows\": 50,\n  \"fields\": [\n    {\n      \"column\": \"sentences\",\n      \"properties\": {\n        \"dtype\": \"string\",\n        \"num_unique_values\": 50,\n        \"samples\": [\n          \"El Vaticano exhibe una colecci\\u00f3n de grabados del siglo XX ocultos durante a\\u00f1os por su fr\\u00e1gil estado .\",\n          \"La polic\\u00eda se present\\u00f3 en el hotel donde se hospedaban y los levant\\u00f3 de la cama para llevarlos a comisar\\u00eda .\",\n          \"El PP pide a Page ' dejar las palabras huecas ' : ' Es el momento de plantar batalla ' .\"\n        ],\n        \"semantic_type\": \"\",\n        \"description\": \"\"\n      }\n    },\n    {\n      \"column\": \"tokens\",\n      \"properties\": {\n        \"dtype\": \"object\",\n        \"semantic_type\": \"\",\n        \"description\": \"\"\n      }\n    },\n    {\n      \"column\": \"labels\",\n      \"properties\": {\n        \"dtype\": \"object\",\n        \"semantic_type\": \"\",\n        \"description\": \"\"\n      }\n    }\n  ]\n}"
            }
          },
          "metadata": {}
        }
      ],
      "source": [
        "display(df)"
      ]
    },
    {
      "cell_type": "markdown",
      "source": [
        "The model's output provides detailed information for each identified entity, including the label, confidence score, the words it encompasses, and its position in the text. However, for our analysis and comparison with true labels, we require a simpler format. In order to match the model's output with the format of the true labels for evaluation, we create a function to process the output."
      ],
      "metadata": {
        "id": "54VIpete_lZ4"
      }
    },
    {
      "cell_type": "code",
      "source": [
        "def process_output(sentence, classification_result):\n",
        "    # Mapping from entity_group to labels\n",
        "    label_mapping = {\n",
        "        \"LABEL_0\": \"O\",\n",
        "        \"LABEL_1\": \"B-METAPHOR\",\n",
        "    }\n",
        "\n",
        "    tokens = sentence.split()\n",
        "\n",
        "    # List to store labels for each token\n",
        "    token_labels = []\n",
        "\n",
        "    # Index to track the current position in the token list\n",
        "    current_token_index = 0\n",
        "\n",
        "    for entity in classification_result:\n",
        "        # Get the corresponding label\n",
        "        label = label_mapping[entity['entity_group']]\n",
        "\n",
        "        # Calculate how many tokens this entity spans\n",
        "        entity_tokens = entity['word'].split()\n",
        "        entity_length = len(entity_tokens)\n",
        "\n",
        "        # Ensure the index does not overflow\n",
        "        entity_length = min(entity_length, len(tokens) - current_token_index)\n",
        "\n",
        "        # Assign the label to each token within the entity\n",
        "        for _ in range(entity_length):\n",
        "            token_labels.append(label)\n",
        "            current_token_index += 1\n",
        "\n",
        "    # Ensure all tokens have labels\n",
        "    while current_token_index < len(tokens):\n",
        "        token_labels.append(\"O\")  # Assume any token not covered by an entity is 'O'\n",
        "        current_token_index += 1\n",
        "\n",
        "    return token_labels\n",
        "\n",
        "# Example\n",
        "sentence = \"The deep loneliness of Miley Cyrus or why more and more pop stars refuse to go on tour.\"\n",
        "classification_result = token_classifier(sentence)  # This would be your classifier's output\n",
        "processed_labels = process_output(sentence, classification_result)\n",
        "\n",
        "print(processed_labels)"
      ],
      "metadata": {
        "colab": {
          "base_uri": "https://localhost:8080/"
        },
        "id": "8HTYF2YitdhB",
        "outputId": "cda4cc9f-e1df-470f-af22-9cf5a559041c"
      },
      "execution_count": null,
      "outputs": [
        {
          "output_type": "stream",
          "name": "stdout",
          "text": [
            "['O', 'B-METAPHOR', 'O', 'O', 'O', 'O', 'O', 'O', 'O', 'O', 'O', 'O', 'O', 'O', 'O', 'O', 'O', 'O']\n"
          ]
        }
      ]
    },
    {
      "cell_type": "markdown",
      "source": [
        "Now we apply the function we have just created to each sentence in our dataset. Then we add the predicted labels in the required format as a new column. This allows us to compare them with the true labels."
      ],
      "metadata": {
        "id": "yeNjuL3gA-OL"
      }
    },
    {
      "cell_type": "code",
      "execution_count": null,
      "metadata": {
        "id": "MSnlumOLIOTk"
      },
      "outputs": [],
      "source": [
        "predicted_labels_list = []\n",
        "\n",
        "for sentence in df['sentences']:\n",
        "    # Classify the sentence\n",
        "    classification_result = token_classifier(sentence)\n",
        "    # Process the classification result to obtain token-level labels\n",
        "    processed_labels = process_output(sentence, classification_result)\n",
        "    # Add the processed result to the list of predicted labels\n",
        "    predicted_labels_list.append(processed_labels)\n",
        "\n",
        "# Add the predicted labels as a new column\n",
        "df['predicted_labels'] = predicted_labels_list"
      ]
    },
    {
      "cell_type": "code",
      "execution_count": null,
      "metadata": {
        "colab": {
          "base_uri": "https://localhost:8080/",
          "height": 1000
        },
        "id": "Mvgf_GT1HJBT",
        "outputId": "ceddf127-9776-4013-a533-6dcdc4db92b3"
      },
      "outputs": [
        {
          "output_type": "execute_result",
          "data": {
            "text/plain": [
              "                                            sentences  \\\n",
              "0   Nuestra percepción del tiempo acaba siendo det...   \n",
              "1   Cáritas lucha contra los problemas de salud me...   \n",
              "2         No hay más remedio que levantar ese ánimo .   \n",
              "3   La del cambio climático es la desconexión de l...   \n",
              "4   En el contexto de la cultura mexicana , noviem...   \n",
              "5   El financiero catalán tiene una idea brillante...   \n",
              "6   El Senado tumba los objetivos de déficit y lle...   \n",
              "7   La Policía detiene a 16 personas en Valencia t...   \n",
              "8       Se le pasa el tiempo volando con su juguete .   \n",
              "9   Un nuevo estudio demuestra que el humor negro ...   \n",
              "10  No existe un argumento sólido que pueda justif...   \n",
              "11  Un conductor drogado y sin carnet siembra el c...   \n",
              "12  Una ingeniera , un arquitecto , un médico y un...   \n",
              "13  El Vaticano exhibe una colección de grabados d...   \n",
              "14  Los gatos también destacan por la necesidad de...   \n",
              "15  Un libro para desmontar mitos acerca de la men...   \n",
              "16  Una madre de 42 años decide acabar con su vida...   \n",
              "17  ¿ Te sientes atascado en tu trabajo ? Esto rec...   \n",
              "18  Nueve de cada diez está abierto a nuevas oport...   \n",
              "19  El Gobierno anuncia un plan de impulso territo...   \n",
              "20  En las entrañas de la fábrica gallega donde se...   \n",
              "21  La inversión extranjera en España se desploma ...   \n",
              "22  La profunda soledad de Miley Cyrus o por qué c...   \n",
              "23  Esta idea terminal florecía gracias a aquellos...   \n",
              "24  ¿ Cómo se sale de las relaciones tóxicas y del...   \n",
              "25  Uno de los mayores temores de alguien que está...   \n",
              "26  Cómo construir una teoría de la conspiración e...   \n",
              "27  El Parlamento Europeo ha decidido empezar una ...   \n",
              "28  Conviene tener en cuenta una serie de factores...   \n",
              "29  Hasta en ese caso , después de haber conquista...   \n",
              "30  El PP pide a Page ' dejar las palabras huecas ...   \n",
              "31  La reputación de Justo Fuentes había llegado a...   \n",
              "32  Se pronunciaban durante las exequias de los re...   \n",
              "33  Érguete lo cobijó cuando él cayó en el vicio d...   \n",
              "34  Si el tiempo es más valioso que el dinero , ¿ ...   \n",
              "35  El coronel Carrasco escuchaba petrificado por ...   \n",
              "36  y el héroe nuestro , decimos , ciego de dolor ...   \n",
              "37  Siento que todo fue un ciego furor : mi vida y...   \n",
              "38  Una especie de rebelión del dolor cicatrizaba ...   \n",
              "39  La policía se presentó en el hotel donde se ho...   \n",
              "40  Los grandes cortes no le van nada bien por cua...   \n",
              "41  Mujeres de todas las edades se pasaban las hor...   \n",
              "42  Manuel Cordero Martín , niño que salvó a una m...   \n",
              "43  A un ciego de nacimiento se le puede explicar ...   \n",
              "44  Una ciudad mítica que se cree existe en la cim...   \n",
              "45  Arbolillo de hojas trifoliadas que florece en ...   \n",
              "46  de casa y , sin saber por qué , variaba el rum...   \n",
              "47  El sol calienta hasta quemar la piel , pero en...   \n",
              "48  Si rompen un objeto no es porque les desagrade...   \n",
              "49  El incendio no destruyó la casa completamente ...   \n",
              "\n",
              "                                               tokens  \\\n",
              "0   [Nuestra, percepción, del, tiempo, acaba, sien...   \n",
              "1   [Cáritas, lucha, contra, los, problemas, de, s...   \n",
              "2   [No, hay, más, remedio, que, levantar, ese, án...   \n",
              "3   [La, del, cambio, climático, es, la, desconexi...   \n",
              "4   [En, el, contexto, de, la, cultura, mexicana, ...   \n",
              "5   [El, financiero, catalán, tiene, una, idea, br...   \n",
              "6   [El, Senado, tumba, los, objetivos, de, défici...   \n",
              "7   [La, Policía, detiene, a, 16, personas, en, Va...   \n",
              "8   [Se, le, pasa, el, tiempo, volando, con, su, j...   \n",
              "9   [Un, nuevo, estudio, demuestra, que, el, humor...   \n",
              "10  [No, existe, un, argumento, sólido, que, pueda...   \n",
              "11  [Un, conductor, drogado, y, sin, carnet, siemb...   \n",
              "12  [Una, ingeniera, ,, un, arquitecto, ,, un, méd...   \n",
              "13  [El, Vaticano, exhibe, una, colección, de, gra...   \n",
              "14  [Los, gatos, también, destacan, por, la, neces...   \n",
              "15  [Un, libro, para, desmontar, mitos, acerca, de...   \n",
              "16  [Una, madre, de, 42, años, decide, acabar, con...   \n",
              "17  [¿, Te, sientes, atascado, en, tu, trabajo, ?,...   \n",
              "18  [Nueve, de, cada, diez, está, abierto, a, nuev...   \n",
              "19  [El, Gobierno, anuncia, un, plan, de, impulso,...   \n",
              "20  [En, las, entrañas, de, la, fábrica, gallega, ...   \n",
              "21  [La, inversión, extranjera, en, España, se, de...   \n",
              "22  [La, profunda, soledad, de, Miley, Cyrus, o, p...   \n",
              "23  [Esta, idea, terminal, florecía, gracias, a, a...   \n",
              "24  [¿, Cómo, se, sale, de, las, relaciones, tóxic...   \n",
              "25  [Uno, de, los, mayores, temores, de, alguien, ...   \n",
              "26  [Cómo, construir, una, teoría, de, la, conspir...   \n",
              "27  [El, Parlamento, Europeo, ha, decidido, empeza...   \n",
              "28  [Conviene, tener, en, cuenta, una, serie, de, ...   \n",
              "29  [Hasta, en, ese, caso, ,, después, de, haber, ...   \n",
              "30  [El, PP, pide, a, Page, ', dejar, las, palabra...   \n",
              "31  [La, reputación, de, Justo, Fuentes, había, ll...   \n",
              "32  [Se, pronunciaban, durante, las, exequias, de,...   \n",
              "33  [Érguete, lo, cobijó, cuando, él, cayó, en, el...   \n",
              "34  [Si, el, tiempo, es, más, valioso, que, el, di...   \n",
              "35  [El, coronel, Carrasco, escuchaba, petrificado...   \n",
              "36  [y, el, héroe, nuestro, ,, decimos, ,, ciego, ...   \n",
              "37  [Siento, que, todo, fue, un, ciego, furor, :, ...   \n",
              "38  [Una, especie, de, rebelión, del, dolor, cicat...   \n",
              "39  [La, policía, se, presentó, en, el, hotel, don...   \n",
              "40  [Los, grandes, cortes, no, le, van, nada, bien...   \n",
              "41  [Mujeres, de, todas, las, edades, se, pasaban,...   \n",
              "42  [Manuel, Cordero, Martín, ,, niño, que, salvó,...   \n",
              "43  [A, un, ciego, de, nacimiento, se, le, puede, ...   \n",
              "44  [Una, ciudad, mítica, que, se, cree, existe, e...   \n",
              "45  [Arbolillo, de, hojas, trifoliadas, que, flore...   \n",
              "46  [de, casa, y, ,, sin, saber, por, qué, ,, vari...   \n",
              "47  [El, sol, calienta, hasta, quemar, la, piel, ,...   \n",
              "48  [Si, rompen, un, objeto, no, es, porque, les, ...   \n",
              "49  [El, incendio, no, destruyó, la, casa, complet...   \n",
              "\n",
              "                                               labels  \\\n",
              "0   [O, O, O, O, O, O, O, O, O, O, O, O, O, O, O, ...   \n",
              "1    [O, B-METAPHOR, O, O, O, O, O, O, O, O, O, O, O]   \n",
              "2                [O, O, O, O, O, B-METAPHOR, O, O, O]   \n",
              "3   [O, O, O, O, O, O, B-METAPHOR, O, O, O, O, O, ...   \n",
              "4   [O, O, O, O, O, O, O, O, O, O, O, O, B-METAPHO...   \n",
              "5   [O, O, O, O, O, O, B-METAPHOR, O, O, O, B-META...   \n",
              "6   [O, O, B-METAPHOR, O, O, O, O, O, B-METAPHOR, ...   \n",
              "7   [O, O, B-METAPHOR, O, O, O, O, O, O, B-METAPHO...   \n",
              "8    [O, O, B-METAPHOR, O, O, B-METAPHOR, O, O, O, O]   \n",
              "9   [O, O, O, O, O, O, O, B-METAPHOR, O, O, O, O, ...   \n",
              "10         [O, O, O, O, B-METAPHOR, O, O, O, O, O, O]   \n",
              "11  [O, O, O, O, O, O, B-METAPHOR, O, O, O, O, O, ...   \n",
              "12  [O, O, O, O, O, O, O, O, O, O, O, O, O, B-META...   \n",
              "13  [O, O, O, O, O, O, O, O, O, O, O, O, O, O, O, ...   \n",
              "14   [O, O, O, O, O, O, O, O, O, B-METAPHOR, O, O, O]   \n",
              "15            [O, O, O, B-METAPHOR, O, O, O, O, O, O]   \n",
              "16  [O, O, O, O, O, O, B-METAPHOR, O, O, O, O, B-M...   \n",
              "17  [O, O, O, B-METAPHOR, O, O, O, O, O, O, O, O, ...   \n",
              "18         [O, O, O, O, O, B-METAPHOR, O, O, O, O, O]   \n",
              "19   [O, O, O, O, O, O, B-METAPHOR, O, O, O, O, O, O]   \n",
              "20  [O, O, B-METAPHOR, O, O, O, O, O, O, O, O, O, ...   \n",
              "21  [O, O, O, O, O, O, B-METAPHOR, O, O, O, O, O, ...   \n",
              "22  [O, B-METAPHOR, O, O, O, O, O, O, O, O, O, O, ...   \n",
              "23  [O, O, O, B-METAPHOR, O, O, O, O, O, B-METAPHO...   \n",
              "24  [O, O, O, B-METAPHOR, O, O, O, B-METAPHOR, O, ...   \n",
              "25  [O, O, O, O, O, O, O, O, O, B-METAPHOR, O, O, ...   \n",
              "26  [O, B-METAPHOR, O, O, O, O, O, O, O, B-METAPHO...   \n",
              "27  [O, O, O, O, O, O, O, B-METAPHOR, O, O, O, O, ...   \n",
              "28  [O, O, O, O, O, O, O, O, O, O, B-METAPHOR, O, ...   \n",
              "29  [O, O, O, O, O, O, O, O, B-METAPHOR, O, O, O, ...   \n",
              "30  [O, O, O, O, O, O, O, O, O, B-METAPHOR, O, O, ...   \n",
              "31  [O, O, O, O, O, O, B-METAPHOR, O, O, B-METAPHO...   \n",
              "32  [O, O, O, O, O, O, O, O, O, O, O, O, O, O, O, ...   \n",
              "33  [O, O, O, O, O, B-METAPHOR, O, O, O, O, O, O, ...   \n",
              "34  [O, O, O, O, O, B-METAPHOR, O, O, O, O, O, O, ...   \n",
              "35  [O, O, O, O, B-METAPHOR, O, O, O, O, O, O, O, ...   \n",
              "36  [O, O, O, O, O, O, O, B-METAPHOR, O, O, O, O, ...   \n",
              "37  [O, O, O, O, O, B-METAPHOR, O, O, O, O, O, O, ...   \n",
              "38  [O, O, O, B-METAPHOR, O, O, B-METAPHOR, O, O, ...   \n",
              "39  [O, O, O, O, O, O, O, O, O, O, O, O, O, O, O, ...   \n",
              "40  [O, O, O, O, O, O, O, O, O, O, O, O, O, O, O, ...   \n",
              "41  [O, O, O, O, O, O, B-METAPHOR, O, O, O, O, O, ...   \n",
              "42  [O, O, O, O, O, O, O, O, O, O, O, O, O, O, O, ...   \n",
              "43  [O, O, O, O, O, O, O, O, O, O, O, O, O, O, O, ...   \n",
              "44         [O, O, O, O, O, O, O, O, O, O, O, O, O, O]   \n",
              "45  [O, O, O, O, O, O, O, O, O, O, O, O, O, O, O, ...   \n",
              "46  [O, O, O, O, O, O, O, O, O, O, O, O, O, O, O, ...   \n",
              "47  [O, O, O, O, B-METAPHOR, O, O, O, O, O, O, O, ...   \n",
              "48   [O, O, O, O, O, O, O, O, O, O, O, O, O, O, O, O]   \n",
              "49         [O, O, O, O, O, O, O, O, O, O, O, O, O, O]   \n",
              "\n",
              "                                     predicted_labels  \n",
              "0   [O, O, O, O, O, O, O, O, O, O, O, O, O, O, O, ...  \n",
              "1    [O, B-METAPHOR, O, O, O, O, O, O, O, O, O, O, O]  \n",
              "2                [O, O, O, O, O, B-METAPHOR, O, O, O]  \n",
              "3   [O, O, O, O, O, O, B-METAPHOR, O, O, O, O, O, ...  \n",
              "4   [O, O, O, O, O, O, O, O, O, O, O, O, B-METAPHO...  \n",
              "5   [O, O, O, O, O, O, B-METAPHOR, O, O, O, B-META...  \n",
              "6   [O, O, B-METAPHOR, O, O, O, O, O, B-METAPHOR, ...  \n",
              "7   [O, O, O, O, O, O, O, O, O, B-METAPHOR, O, B-M...  \n",
              "8                      [O, O, O, O, O, O, O, O, O, O]  \n",
              "9   [O, O, O, O, O, O, O, O, O, B-METAPHOR, O, O, ...  \n",
              "10         [O, O, O, O, B-METAPHOR, O, O, O, O, O, O]  \n",
              "11  [O, O, O, O, O, O, B-METAPHOR, O, O, O, O, O, ...  \n",
              "12  [O, O, O, O, O, O, O, O, O, O, O, O, O, O, O, ...  \n",
              "13  [O, O, O, O, O, O, O, O, O, O, O, O, O, O, O, ...  \n",
              "14   [O, O, O, O, O, O, O, O, O, B-METAPHOR, O, O, O]  \n",
              "15            [O, O, O, B-METAPHOR, O, O, O, O, O, O]  \n",
              "16  [O, O, O, O, O, O, O, O, O, O, O, B-METAPHOR, ...  \n",
              "17  [O, O, O, B-METAPHOR, O, O, O, O, O, O, O, O, ...  \n",
              "18         [O, O, O, O, O, B-METAPHOR, O, O, O, O, O]  \n",
              "19   [O, O, O, O, O, O, B-METAPHOR, O, O, O, O, O, O]  \n",
              "20  [O, O, B-METAPHOR, O, O, O, O, O, O, O, O, O, ...  \n",
              "21  [O, O, O, O, O, O, B-METAPHOR, O, O, O, O, O, ...  \n",
              "22  [O, B-METAPHOR, O, O, O, O, O, O, O, O, O, O, ...  \n",
              "23  [O, O, O, B-METAPHOR, O, O, O, O, O, B-METAPHO...  \n",
              "24      [O, O, O, B-METAPHOR, O, O, O, O, O, O, O, O]  \n",
              "25  [O, O, O, O, O, O, O, O, O, O, O, O, O, O, O, ...  \n",
              "26  [O, B-METAPHOR, O, O, O, O, O, O, O, B-METAPHO...  \n",
              "27  [O, O, O, O, O, O, O, B-METAPHOR, O, O, O, B-M...  \n",
              "28  [O, O, O, O, O, O, O, O, O, O, B-METAPHOR, O, ...  \n",
              "29  [O, O, O, O, O, O, O, O, B-METAPHOR, O, O, O, ...  \n",
              "30  [O, O, O, O, O, O, O, O, O, B-METAPHOR, O, O, ...  \n",
              "31  [O, O, O, O, O, O, B-METAPHOR, O, O, B-METAPHO...  \n",
              "32  [O, O, O, O, O, O, O, O, O, O, O, O, O, O, O, ...  \n",
              "33  [O, O, O, O, O, B-METAPHOR, O, O, O, O, O, O, ...  \n",
              "34  [O, O, O, O, O, O, O, O, O, O, O, O, O, O, O, ...  \n",
              "35  [O, O, O, O, B-METAPHOR, O, O, O, O, O, O, O, ...  \n",
              "36  [O, O, O, O, O, O, O, B-METAPHOR, O, O, O, O, ...  \n",
              "37  [O, O, O, O, O, O, B-METAPHOR, O, O, O, O, O, ...  \n",
              "38  [O, O, O, B-METAPHOR, O, O, B-METAPHOR, O, O, ...  \n",
              "39  [O, O, O, O, O, O, O, O, O, O, O, O, O, O, O, ...  \n",
              "40  [O, O, O, O, O, O, O, O, O, O, O, O, O, O, O, ...  \n",
              "41  [O, O, O, O, O, O, O, O, O, O, O, O, O, O, O, ...  \n",
              "42  [O, O, O, O, O, O, O, O, O, O, O, O, O, O, O, ...  \n",
              "43  [O, O, O, O, O, O, O, O, O, O, O, O, O, O, O, ...  \n",
              "44         [O, O, O, O, O, O, O, O, O, O, O, O, O, O]  \n",
              "45  [O, O, O, O, O, O, O, O, O, O, O, O, O, O, O, ...  \n",
              "46  [O, O, O, O, O, O, O, O, O, O, O, O, O, O, O, ...  \n",
              "47  [O, O, O, O, B-METAPHOR, O, O, O, O, O, O, O, ...  \n",
              "48   [O, O, O, O, O, O, O, O, O, O, O, O, O, O, O, O]  \n",
              "49         [O, O, O, O, O, O, O, O, O, O, O, O, O, O]  "
            ],
            "text/html": [
              "\n",
              "  <div id=\"df-db7dc824-d196-4c79-b2fa-5f5aa6c6e829\" class=\"colab-df-container\">\n",
              "    <div>\n",
              "<style scoped>\n",
              "    .dataframe tbody tr th:only-of-type {\n",
              "        vertical-align: middle;\n",
              "    }\n",
              "\n",
              "    .dataframe tbody tr th {\n",
              "        vertical-align: top;\n",
              "    }\n",
              "\n",
              "    .dataframe thead th {\n",
              "        text-align: right;\n",
              "    }\n",
              "</style>\n",
              "<table border=\"1\" class=\"dataframe\">\n",
              "  <thead>\n",
              "    <tr style=\"text-align: right;\">\n",
              "      <th></th>\n",
              "      <th>sentences</th>\n",
              "      <th>tokens</th>\n",
              "      <th>labels</th>\n",
              "      <th>predicted_labels</th>\n",
              "    </tr>\n",
              "  </thead>\n",
              "  <tbody>\n",
              "    <tr>\n",
              "      <th>0</th>\n",
              "      <td>Nuestra percepción del tiempo acaba siendo det...</td>\n",
              "      <td>[Nuestra, percepción, del, tiempo, acaba, sien...</td>\n",
              "      <td>[O, O, O, O, O, O, O, O, O, O, O, O, O, O, O, ...</td>\n",
              "      <td>[O, O, O, O, O, O, O, O, O, O, O, O, O, O, O, ...</td>\n",
              "    </tr>\n",
              "    <tr>\n",
              "      <th>1</th>\n",
              "      <td>Cáritas lucha contra los problemas de salud me...</td>\n",
              "      <td>[Cáritas, lucha, contra, los, problemas, de, s...</td>\n",
              "      <td>[O, B-METAPHOR, O, O, O, O, O, O, O, O, O, O, O]</td>\n",
              "      <td>[O, B-METAPHOR, O, O, O, O, O, O, O, O, O, O, O]</td>\n",
              "    </tr>\n",
              "    <tr>\n",
              "      <th>2</th>\n",
              "      <td>No hay más remedio que levantar ese ánimo .</td>\n",
              "      <td>[No, hay, más, remedio, que, levantar, ese, án...</td>\n",
              "      <td>[O, O, O, O, O, B-METAPHOR, O, O, O]</td>\n",
              "      <td>[O, O, O, O, O, B-METAPHOR, O, O, O]</td>\n",
              "    </tr>\n",
              "    <tr>\n",
              "      <th>3</th>\n",
              "      <td>La del cambio climático es la desconexión de l...</td>\n",
              "      <td>[La, del, cambio, climático, es, la, desconexi...</td>\n",
              "      <td>[O, O, O, O, O, O, B-METAPHOR, O, O, O, O, O, ...</td>\n",
              "      <td>[O, O, O, O, O, O, B-METAPHOR, O, O, O, O, O, ...</td>\n",
              "    </tr>\n",
              "    <tr>\n",
              "      <th>4</th>\n",
              "      <td>En el contexto de la cultura mexicana , noviem...</td>\n",
              "      <td>[En, el, contexto, de, la, cultura, mexicana, ...</td>\n",
              "      <td>[O, O, O, O, O, O, O, O, O, O, O, O, B-METAPHO...</td>\n",
              "      <td>[O, O, O, O, O, O, O, O, O, O, O, O, B-METAPHO...</td>\n",
              "    </tr>\n",
              "    <tr>\n",
              "      <th>5</th>\n",
              "      <td>El financiero catalán tiene una idea brillante...</td>\n",
              "      <td>[El, financiero, catalán, tiene, una, idea, br...</td>\n",
              "      <td>[O, O, O, O, O, O, B-METAPHOR, O, O, O, B-META...</td>\n",
              "      <td>[O, O, O, O, O, O, B-METAPHOR, O, O, O, B-META...</td>\n",
              "    </tr>\n",
              "    <tr>\n",
              "      <th>6</th>\n",
              "      <td>El Senado tumba los objetivos de déficit y lle...</td>\n",
              "      <td>[El, Senado, tumba, los, objetivos, de, défici...</td>\n",
              "      <td>[O, O, B-METAPHOR, O, O, O, O, O, B-METAPHOR, ...</td>\n",
              "      <td>[O, O, B-METAPHOR, O, O, O, O, O, B-METAPHOR, ...</td>\n",
              "    </tr>\n",
              "    <tr>\n",
              "      <th>7</th>\n",
              "      <td>La Policía detiene a 16 personas en Valencia t...</td>\n",
              "      <td>[La, Policía, detiene, a, 16, personas, en, Va...</td>\n",
              "      <td>[O, O, B-METAPHOR, O, O, O, O, O, O, B-METAPHO...</td>\n",
              "      <td>[O, O, O, O, O, O, O, O, O, B-METAPHOR, O, B-M...</td>\n",
              "    </tr>\n",
              "    <tr>\n",
              "      <th>8</th>\n",
              "      <td>Se le pasa el tiempo volando con su juguete .</td>\n",
              "      <td>[Se, le, pasa, el, tiempo, volando, con, su, j...</td>\n",
              "      <td>[O, O, B-METAPHOR, O, O, B-METAPHOR, O, O, O, O]</td>\n",
              "      <td>[O, O, O, O, O, O, O, O, O, O]</td>\n",
              "    </tr>\n",
              "    <tr>\n",
              "      <th>9</th>\n",
              "      <td>Un nuevo estudio demuestra que el humor negro ...</td>\n",
              "      <td>[Un, nuevo, estudio, demuestra, que, el, humor...</td>\n",
              "      <td>[O, O, O, O, O, O, O, B-METAPHOR, O, O, O, O, ...</td>\n",
              "      <td>[O, O, O, O, O, O, O, O, O, B-METAPHOR, O, O, ...</td>\n",
              "    </tr>\n",
              "    <tr>\n",
              "      <th>10</th>\n",
              "      <td>No existe un argumento sólido que pueda justif...</td>\n",
              "      <td>[No, existe, un, argumento, sólido, que, pueda...</td>\n",
              "      <td>[O, O, O, O, B-METAPHOR, O, O, O, O, O, O]</td>\n",
              "      <td>[O, O, O, O, B-METAPHOR, O, O, O, O, O, O]</td>\n",
              "    </tr>\n",
              "    <tr>\n",
              "      <th>11</th>\n",
              "      <td>Un conductor drogado y sin carnet siembra el c...</td>\n",
              "      <td>[Un, conductor, drogado, y, sin, carnet, siemb...</td>\n",
              "      <td>[O, O, O, O, O, O, B-METAPHOR, O, O, O, O, O, ...</td>\n",
              "      <td>[O, O, O, O, O, O, B-METAPHOR, O, O, O, O, O, ...</td>\n",
              "    </tr>\n",
              "    <tr>\n",
              "      <th>12</th>\n",
              "      <td>Una ingeniera , un arquitecto , un médico y un...</td>\n",
              "      <td>[Una, ingeniera, ,, un, arquitecto, ,, un, méd...</td>\n",
              "      <td>[O, O, O, O, O, O, O, O, O, O, O, O, O, B-META...</td>\n",
              "      <td>[O, O, O, O, O, O, O, O, O, O, O, O, O, O, O, ...</td>\n",
              "    </tr>\n",
              "    <tr>\n",
              "      <th>13</th>\n",
              "      <td>El Vaticano exhibe una colección de grabados d...</td>\n",
              "      <td>[El, Vaticano, exhibe, una, colección, de, gra...</td>\n",
              "      <td>[O, O, O, O, O, O, O, O, O, O, O, O, O, O, O, ...</td>\n",
              "      <td>[O, O, O, O, O, O, O, O, O, O, O, O, O, O, O, ...</td>\n",
              "    </tr>\n",
              "    <tr>\n",
              "      <th>14</th>\n",
              "      <td>Los gatos también destacan por la necesidad de...</td>\n",
              "      <td>[Los, gatos, también, destacan, por, la, neces...</td>\n",
              "      <td>[O, O, O, O, O, O, O, O, O, B-METAPHOR, O, O, O]</td>\n",
              "      <td>[O, O, O, O, O, O, O, O, O, B-METAPHOR, O, O, O]</td>\n",
              "    </tr>\n",
              "    <tr>\n",
              "      <th>15</th>\n",
              "      <td>Un libro para desmontar mitos acerca de la men...</td>\n",
              "      <td>[Un, libro, para, desmontar, mitos, acerca, de...</td>\n",
              "      <td>[O, O, O, B-METAPHOR, O, O, O, O, O, O]</td>\n",
              "      <td>[O, O, O, B-METAPHOR, O, O, O, O, O, O]</td>\n",
              "    </tr>\n",
              "    <tr>\n",
              "      <th>16</th>\n",
              "      <td>Una madre de 42 años decide acabar con su vida...</td>\n",
              "      <td>[Una, madre, de, 42, años, decide, acabar, con...</td>\n",
              "      <td>[O, O, O, O, O, O, B-METAPHOR, O, O, O, O, B-M...</td>\n",
              "      <td>[O, O, O, O, O, O, O, O, O, O, O, B-METAPHOR, ...</td>\n",
              "    </tr>\n",
              "    <tr>\n",
              "      <th>17</th>\n",
              "      <td>¿ Te sientes atascado en tu trabajo ? Esto rec...</td>\n",
              "      <td>[¿, Te, sientes, atascado, en, tu, trabajo, ?,...</td>\n",
              "      <td>[O, O, O, B-METAPHOR, O, O, O, O, O, O, O, O, ...</td>\n",
              "      <td>[O, O, O, B-METAPHOR, O, O, O, O, O, O, O, O, ...</td>\n",
              "    </tr>\n",
              "    <tr>\n",
              "      <th>18</th>\n",
              "      <td>Nueve de cada diez está abierto a nuevas oport...</td>\n",
              "      <td>[Nueve, de, cada, diez, está, abierto, a, nuev...</td>\n",
              "      <td>[O, O, O, O, O, B-METAPHOR, O, O, O, O, O]</td>\n",
              "      <td>[O, O, O, O, O, B-METAPHOR, O, O, O, O, O]</td>\n",
              "    </tr>\n",
              "    <tr>\n",
              "      <th>19</th>\n",
              "      <td>El Gobierno anuncia un plan de impulso territo...</td>\n",
              "      <td>[El, Gobierno, anuncia, un, plan, de, impulso,...</td>\n",
              "      <td>[O, O, O, O, O, O, B-METAPHOR, O, O, O, O, O, O]</td>\n",
              "      <td>[O, O, O, O, O, O, B-METAPHOR, O, O, O, O, O, O]</td>\n",
              "    </tr>\n",
              "    <tr>\n",
              "      <th>20</th>\n",
              "      <td>En las entrañas de la fábrica gallega donde se...</td>\n",
              "      <td>[En, las, entrañas, de, la, fábrica, gallega, ...</td>\n",
              "      <td>[O, O, B-METAPHOR, O, O, O, O, O, O, O, O, O, ...</td>\n",
              "      <td>[O, O, B-METAPHOR, O, O, O, O, O, O, O, O, O, ...</td>\n",
              "    </tr>\n",
              "    <tr>\n",
              "      <th>21</th>\n",
              "      <td>La inversión extranjera en España se desploma ...</td>\n",
              "      <td>[La, inversión, extranjera, en, España, se, de...</td>\n",
              "      <td>[O, O, O, O, O, O, B-METAPHOR, O, O, O, O, O, ...</td>\n",
              "      <td>[O, O, O, O, O, O, B-METAPHOR, O, O, O, O, O, ...</td>\n",
              "    </tr>\n",
              "    <tr>\n",
              "      <th>22</th>\n",
              "      <td>La profunda soledad de Miley Cyrus o por qué c...</td>\n",
              "      <td>[La, profunda, soledad, de, Miley, Cyrus, o, p...</td>\n",
              "      <td>[O, B-METAPHOR, O, O, O, O, O, O, O, O, O, O, ...</td>\n",
              "      <td>[O, B-METAPHOR, O, O, O, O, O, O, O, O, O, O, ...</td>\n",
              "    </tr>\n",
              "    <tr>\n",
              "      <th>23</th>\n",
              "      <td>Esta idea terminal florecía gracias a aquellos...</td>\n",
              "      <td>[Esta, idea, terminal, florecía, gracias, a, a...</td>\n",
              "      <td>[O, O, O, B-METAPHOR, O, O, O, O, O, B-METAPHO...</td>\n",
              "      <td>[O, O, O, B-METAPHOR, O, O, O, O, O, B-METAPHO...</td>\n",
              "    </tr>\n",
              "    <tr>\n",
              "      <th>24</th>\n",
              "      <td>¿ Cómo se sale de las relaciones tóxicas y del...</td>\n",
              "      <td>[¿, Cómo, se, sale, de, las, relaciones, tóxic...</td>\n",
              "      <td>[O, O, O, B-METAPHOR, O, O, O, B-METAPHOR, O, ...</td>\n",
              "      <td>[O, O, O, B-METAPHOR, O, O, O, O, O, O, O, O]</td>\n",
              "    </tr>\n",
              "    <tr>\n",
              "      <th>25</th>\n",
              "      <td>Uno de los mayores temores de alguien que está...</td>\n",
              "      <td>[Uno, de, los, mayores, temores, de, alguien, ...</td>\n",
              "      <td>[O, O, O, O, O, O, O, O, O, B-METAPHOR, O, O, ...</td>\n",
              "      <td>[O, O, O, O, O, O, O, O, O, O, O, O, O, O, O, ...</td>\n",
              "    </tr>\n",
              "    <tr>\n",
              "      <th>26</th>\n",
              "      <td>Cómo construir una teoría de la conspiración e...</td>\n",
              "      <td>[Cómo, construir, una, teoría, de, la, conspir...</td>\n",
              "      <td>[O, B-METAPHOR, O, O, O, O, O, O, O, B-METAPHO...</td>\n",
              "      <td>[O, B-METAPHOR, O, O, O, O, O, O, O, B-METAPHO...</td>\n",
              "    </tr>\n",
              "    <tr>\n",
              "      <th>27</th>\n",
              "      <td>El Parlamento Europeo ha decidido empezar una ...</td>\n",
              "      <td>[El, Parlamento, Europeo, ha, decidido, empeza...</td>\n",
              "      <td>[O, O, O, O, O, O, O, B-METAPHOR, O, O, O, O, ...</td>\n",
              "      <td>[O, O, O, O, O, O, O, B-METAPHOR, O, O, O, B-M...</td>\n",
              "    </tr>\n",
              "    <tr>\n",
              "      <th>28</th>\n",
              "      <td>Conviene tener en cuenta una serie de factores...</td>\n",
              "      <td>[Conviene, tener, en, cuenta, una, serie, de, ...</td>\n",
              "      <td>[O, O, O, O, O, O, O, O, O, O, B-METAPHOR, O, ...</td>\n",
              "      <td>[O, O, O, O, O, O, O, O, O, O, B-METAPHOR, O, ...</td>\n",
              "    </tr>\n",
              "    <tr>\n",
              "      <th>29</th>\n",
              "      <td>Hasta en ese caso , después de haber conquista...</td>\n",
              "      <td>[Hasta, en, ese, caso, ,, después, de, haber, ...</td>\n",
              "      <td>[O, O, O, O, O, O, O, O, B-METAPHOR, O, O, O, ...</td>\n",
              "      <td>[O, O, O, O, O, O, O, O, B-METAPHOR, O, O, O, ...</td>\n",
              "    </tr>\n",
              "    <tr>\n",
              "      <th>30</th>\n",
              "      <td>El PP pide a Page ' dejar las palabras huecas ...</td>\n",
              "      <td>[El, PP, pide, a, Page, ', dejar, las, palabra...</td>\n",
              "      <td>[O, O, O, O, O, O, O, O, O, B-METAPHOR, O, O, ...</td>\n",
              "      <td>[O, O, O, O, O, O, O, O, O, B-METAPHOR, O, O, ...</td>\n",
              "    </tr>\n",
              "    <tr>\n",
              "      <th>31</th>\n",
              "      <td>La reputación de Justo Fuentes había llegado a...</td>\n",
              "      <td>[La, reputación, de, Justo, Fuentes, había, ll...</td>\n",
              "      <td>[O, O, O, O, O, O, B-METAPHOR, O, O, B-METAPHO...</td>\n",
              "      <td>[O, O, O, O, O, O, B-METAPHOR, O, O, B-METAPHO...</td>\n",
              "    </tr>\n",
              "    <tr>\n",
              "      <th>32</th>\n",
              "      <td>Se pronunciaban durante las exequias de los re...</td>\n",
              "      <td>[Se, pronunciaban, durante, las, exequias, de,...</td>\n",
              "      <td>[O, O, O, O, O, O, O, O, O, O, O, O, O, O, O, ...</td>\n",
              "      <td>[O, O, O, O, O, O, O, O, O, O, O, O, O, O, O, ...</td>\n",
              "    </tr>\n",
              "    <tr>\n",
              "      <th>33</th>\n",
              "      <td>Érguete lo cobijó cuando él cayó en el vicio d...</td>\n",
              "      <td>[Érguete, lo, cobijó, cuando, él, cayó, en, el...</td>\n",
              "      <td>[O, O, O, O, O, B-METAPHOR, O, O, O, O, O, O, ...</td>\n",
              "      <td>[O, O, O, O, O, B-METAPHOR, O, O, O, O, O, O, ...</td>\n",
              "    </tr>\n",
              "    <tr>\n",
              "      <th>34</th>\n",
              "      <td>Si el tiempo es más valioso que el dinero , ¿ ...</td>\n",
              "      <td>[Si, el, tiempo, es, más, valioso, que, el, di...</td>\n",
              "      <td>[O, O, O, O, O, B-METAPHOR, O, O, O, O, O, O, ...</td>\n",
              "      <td>[O, O, O, O, O, O, O, O, O, O, O, O, O, O, O, ...</td>\n",
              "    </tr>\n",
              "    <tr>\n",
              "      <th>35</th>\n",
              "      <td>El coronel Carrasco escuchaba petrificado por ...</td>\n",
              "      <td>[El, coronel, Carrasco, escuchaba, petrificado...</td>\n",
              "      <td>[O, O, O, O, B-METAPHOR, O, O, O, O, O, O, O, ...</td>\n",
              "      <td>[O, O, O, O, B-METAPHOR, O, O, O, O, O, O, O, ...</td>\n",
              "    </tr>\n",
              "    <tr>\n",
              "      <th>36</th>\n",
              "      <td>y el héroe nuestro , decimos , ciego de dolor ...</td>\n",
              "      <td>[y, el, héroe, nuestro, ,, decimos, ,, ciego, ...</td>\n",
              "      <td>[O, O, O, O, O, O, O, B-METAPHOR, O, O, O, O, ...</td>\n",
              "      <td>[O, O, O, O, O, O, O, B-METAPHOR, O, O, O, O, ...</td>\n",
              "    </tr>\n",
              "    <tr>\n",
              "      <th>37</th>\n",
              "      <td>Siento que todo fue un ciego furor : mi vida y...</td>\n",
              "      <td>[Siento, que, todo, fue, un, ciego, furor, :, ...</td>\n",
              "      <td>[O, O, O, O, O, B-METAPHOR, O, O, O, O, O, O, ...</td>\n",
              "      <td>[O, O, O, O, O, O, B-METAPHOR, O, O, O, O, O, ...</td>\n",
              "    </tr>\n",
              "    <tr>\n",
              "      <th>38</th>\n",
              "      <td>Una especie de rebelión del dolor cicatrizaba ...</td>\n",
              "      <td>[Una, especie, de, rebelión, del, dolor, cicat...</td>\n",
              "      <td>[O, O, O, B-METAPHOR, O, O, B-METAPHOR, O, O, ...</td>\n",
              "      <td>[O, O, O, B-METAPHOR, O, O, B-METAPHOR, O, O, ...</td>\n",
              "    </tr>\n",
              "    <tr>\n",
              "      <th>39</th>\n",
              "      <td>La policía se presentó en el hotel donde se ho...</td>\n",
              "      <td>[La, policía, se, presentó, en, el, hotel, don...</td>\n",
              "      <td>[O, O, O, O, O, O, O, O, O, O, O, O, O, O, O, ...</td>\n",
              "      <td>[O, O, O, O, O, O, O, O, O, O, O, O, O, O, O, ...</td>\n",
              "    </tr>\n",
              "    <tr>\n",
              "      <th>40</th>\n",
              "      <td>Los grandes cortes no le van nada bien por cua...</td>\n",
              "      <td>[Los, grandes, cortes, no, le, van, nada, bien...</td>\n",
              "      <td>[O, O, O, O, O, O, O, O, O, O, O, O, O, O, O, ...</td>\n",
              "      <td>[O, O, O, O, O, O, O, O, O, O, O, O, O, O, O, ...</td>\n",
              "    </tr>\n",
              "    <tr>\n",
              "      <th>41</th>\n",
              "      <td>Mujeres de todas las edades se pasaban las hor...</td>\n",
              "      <td>[Mujeres, de, todas, las, edades, se, pasaban,...</td>\n",
              "      <td>[O, O, O, O, O, O, B-METAPHOR, O, O, O, O, O, ...</td>\n",
              "      <td>[O, O, O, O, O, O, O, O, O, O, O, O, O, O, O, ...</td>\n",
              "    </tr>\n",
              "    <tr>\n",
              "      <th>42</th>\n",
              "      <td>Manuel Cordero Martín , niño que salvó a una m...</td>\n",
              "      <td>[Manuel, Cordero, Martín, ,, niño, que, salvó,...</td>\n",
              "      <td>[O, O, O, O, O, O, O, O, O, O, O, O, O, O, O, ...</td>\n",
              "      <td>[O, O, O, O, O, O, O, O, O, O, O, O, O, O, O, ...</td>\n",
              "    </tr>\n",
              "    <tr>\n",
              "      <th>43</th>\n",
              "      <td>A un ciego de nacimiento se le puede explicar ...</td>\n",
              "      <td>[A, un, ciego, de, nacimiento, se, le, puede, ...</td>\n",
              "      <td>[O, O, O, O, O, O, O, O, O, O, O, O, O, O, O, ...</td>\n",
              "      <td>[O, O, O, O, O, O, O, O, O, O, O, O, O, O, O, ...</td>\n",
              "    </tr>\n",
              "    <tr>\n",
              "      <th>44</th>\n",
              "      <td>Una ciudad mítica que se cree existe en la cim...</td>\n",
              "      <td>[Una, ciudad, mítica, que, se, cree, existe, e...</td>\n",
              "      <td>[O, O, O, O, O, O, O, O, O, O, O, O, O, O]</td>\n",
              "      <td>[O, O, O, O, O, O, O, O, O, O, O, O, O, O]</td>\n",
              "    </tr>\n",
              "    <tr>\n",
              "      <th>45</th>\n",
              "      <td>Arbolillo de hojas trifoliadas que florece en ...</td>\n",
              "      <td>[Arbolillo, de, hojas, trifoliadas, que, flore...</td>\n",
              "      <td>[O, O, O, O, O, O, O, O, O, O, O, O, O, O, O, ...</td>\n",
              "      <td>[O, O, O, O, O, O, O, O, O, O, O, O, O, O, O, ...</td>\n",
              "    </tr>\n",
              "    <tr>\n",
              "      <th>46</th>\n",
              "      <td>de casa y , sin saber por qué , variaba el rum...</td>\n",
              "      <td>[de, casa, y, ,, sin, saber, por, qué, ,, vari...</td>\n",
              "      <td>[O, O, O, O, O, O, O, O, O, O, O, O, O, O, O, ...</td>\n",
              "      <td>[O, O, O, O, O, O, O, O, O, O, O, O, O, O, O, ...</td>\n",
              "    </tr>\n",
              "    <tr>\n",
              "      <th>47</th>\n",
              "      <td>El sol calienta hasta quemar la piel , pero en...</td>\n",
              "      <td>[El, sol, calienta, hasta, quemar, la, piel, ,...</td>\n",
              "      <td>[O, O, O, O, B-METAPHOR, O, O, O, O, O, O, O, ...</td>\n",
              "      <td>[O, O, O, O, B-METAPHOR, O, O, O, O, O, O, O, ...</td>\n",
              "    </tr>\n",
              "    <tr>\n",
              "      <th>48</th>\n",
              "      <td>Si rompen un objeto no es porque les desagrade...</td>\n",
              "      <td>[Si, rompen, un, objeto, no, es, porque, les, ...</td>\n",
              "      <td>[O, O, O, O, O, O, O, O, O, O, O, O, O, O, O, O]</td>\n",
              "      <td>[O, O, O, O, O, O, O, O, O, O, O, O, O, O, O, O]</td>\n",
              "    </tr>\n",
              "    <tr>\n",
              "      <th>49</th>\n",
              "      <td>El incendio no destruyó la casa completamente ...</td>\n",
              "      <td>[El, incendio, no, destruyó, la, casa, complet...</td>\n",
              "      <td>[O, O, O, O, O, O, O, O, O, O, O, O, O, O]</td>\n",
              "      <td>[O, O, O, O, O, O, O, O, O, O, O, O, O, O]</td>\n",
              "    </tr>\n",
              "  </tbody>\n",
              "</table>\n",
              "</div>\n",
              "    <div class=\"colab-df-buttons\">\n",
              "\n",
              "  <div class=\"colab-df-container\">\n",
              "    <button class=\"colab-df-convert\" onclick=\"convertToInteractive('df-db7dc824-d196-4c79-b2fa-5f5aa6c6e829')\"\n",
              "            title=\"Convert this dataframe to an interactive table.\"\n",
              "            style=\"display:none;\">\n",
              "\n",
              "  <svg xmlns=\"http://www.w3.org/2000/svg\" height=\"24px\" viewBox=\"0 -960 960 960\">\n",
              "    <path d=\"M120-120v-720h720v720H120Zm60-500h600v-160H180v160Zm220 220h160v-160H400v160Zm0 220h160v-160H400v160ZM180-400h160v-160H180v160Zm440 0h160v-160H620v160ZM180-180h160v-160H180v160Zm440 0h160v-160H620v160Z\"/>\n",
              "  </svg>\n",
              "    </button>\n",
              "\n",
              "  <style>\n",
              "    .colab-df-container {\n",
              "      display:flex;\n",
              "      gap: 12px;\n",
              "    }\n",
              "\n",
              "    .colab-df-convert {\n",
              "      background-color: #E8F0FE;\n",
              "      border: none;\n",
              "      border-radius: 50%;\n",
              "      cursor: pointer;\n",
              "      display: none;\n",
              "      fill: #1967D2;\n",
              "      height: 32px;\n",
              "      padding: 0 0 0 0;\n",
              "      width: 32px;\n",
              "    }\n",
              "\n",
              "    .colab-df-convert:hover {\n",
              "      background-color: #E2EBFA;\n",
              "      box-shadow: 0px 1px 2px rgba(60, 64, 67, 0.3), 0px 1px 3px 1px rgba(60, 64, 67, 0.15);\n",
              "      fill: #174EA6;\n",
              "    }\n",
              "\n",
              "    .colab-df-buttons div {\n",
              "      margin-bottom: 4px;\n",
              "    }\n",
              "\n",
              "    [theme=dark] .colab-df-convert {\n",
              "      background-color: #3B4455;\n",
              "      fill: #D2E3FC;\n",
              "    }\n",
              "\n",
              "    [theme=dark] .colab-df-convert:hover {\n",
              "      background-color: #434B5C;\n",
              "      box-shadow: 0px 1px 3px 1px rgba(0, 0, 0, 0.15);\n",
              "      filter: drop-shadow(0px 1px 2px rgba(0, 0, 0, 0.3));\n",
              "      fill: #FFFFFF;\n",
              "    }\n",
              "  </style>\n",
              "\n",
              "    <script>\n",
              "      const buttonEl =\n",
              "        document.querySelector('#df-db7dc824-d196-4c79-b2fa-5f5aa6c6e829 button.colab-df-convert');\n",
              "      buttonEl.style.display =\n",
              "        google.colab.kernel.accessAllowed ? 'block' : 'none';\n",
              "\n",
              "      async function convertToInteractive(key) {\n",
              "        const element = document.querySelector('#df-db7dc824-d196-4c79-b2fa-5f5aa6c6e829');\n",
              "        const dataTable =\n",
              "          await google.colab.kernel.invokeFunction('convertToInteractive',\n",
              "                                                    [key], {});\n",
              "        if (!dataTable) return;\n",
              "\n",
              "        const docLinkHtml = 'Like what you see? Visit the ' +\n",
              "          '<a target=\"_blank\" href=https://colab.research.google.com/notebooks/data_table.ipynb>data table notebook</a>'\n",
              "          + ' to learn more about interactive tables.';\n",
              "        element.innerHTML = '';\n",
              "        dataTable['output_type'] = 'display_data';\n",
              "        await google.colab.output.renderOutput(dataTable, element);\n",
              "        const docLink = document.createElement('div');\n",
              "        docLink.innerHTML = docLinkHtml;\n",
              "        element.appendChild(docLink);\n",
              "      }\n",
              "    </script>\n",
              "  </div>\n",
              "\n",
              "\n",
              "<div id=\"df-b7f4e653-aa4b-445b-88b7-5387256d8e6f\">\n",
              "  <button class=\"colab-df-quickchart\" onclick=\"quickchart('df-b7f4e653-aa4b-445b-88b7-5387256d8e6f')\"\n",
              "            title=\"Suggest charts\"\n",
              "            style=\"display:none;\">\n",
              "\n",
              "<svg xmlns=\"http://www.w3.org/2000/svg\" height=\"24px\"viewBox=\"0 0 24 24\"\n",
              "     width=\"24px\">\n",
              "    <g>\n",
              "        <path d=\"M19 3H5c-1.1 0-2 .9-2 2v14c0 1.1.9 2 2 2h14c1.1 0 2-.9 2-2V5c0-1.1-.9-2-2-2zM9 17H7v-7h2v7zm4 0h-2V7h2v10zm4 0h-2v-4h2v4z\"/>\n",
              "    </g>\n",
              "</svg>\n",
              "  </button>\n",
              "\n",
              "<style>\n",
              "  .colab-df-quickchart {\n",
              "      --bg-color: #E8F0FE;\n",
              "      --fill-color: #1967D2;\n",
              "      --hover-bg-color: #E2EBFA;\n",
              "      --hover-fill-color: #174EA6;\n",
              "      --disabled-fill-color: #AAA;\n",
              "      --disabled-bg-color: #DDD;\n",
              "  }\n",
              "\n",
              "  [theme=dark] .colab-df-quickchart {\n",
              "      --bg-color: #3B4455;\n",
              "      --fill-color: #D2E3FC;\n",
              "      --hover-bg-color: #434B5C;\n",
              "      --hover-fill-color: #FFFFFF;\n",
              "      --disabled-bg-color: #3B4455;\n",
              "      --disabled-fill-color: #666;\n",
              "  }\n",
              "\n",
              "  .colab-df-quickchart {\n",
              "    background-color: var(--bg-color);\n",
              "    border: none;\n",
              "    border-radius: 50%;\n",
              "    cursor: pointer;\n",
              "    display: none;\n",
              "    fill: var(--fill-color);\n",
              "    height: 32px;\n",
              "    padding: 0;\n",
              "    width: 32px;\n",
              "  }\n",
              "\n",
              "  .colab-df-quickchart:hover {\n",
              "    background-color: var(--hover-bg-color);\n",
              "    box-shadow: 0 1px 2px rgba(60, 64, 67, 0.3), 0 1px 3px 1px rgba(60, 64, 67, 0.15);\n",
              "    fill: var(--button-hover-fill-color);\n",
              "  }\n",
              "\n",
              "  .colab-df-quickchart-complete:disabled,\n",
              "  .colab-df-quickchart-complete:disabled:hover {\n",
              "    background-color: var(--disabled-bg-color);\n",
              "    fill: var(--disabled-fill-color);\n",
              "    box-shadow: none;\n",
              "  }\n",
              "\n",
              "  .colab-df-spinner {\n",
              "    border: 2px solid var(--fill-color);\n",
              "    border-color: transparent;\n",
              "    border-bottom-color: var(--fill-color);\n",
              "    animation:\n",
              "      spin 1s steps(1) infinite;\n",
              "  }\n",
              "\n",
              "  @keyframes spin {\n",
              "    0% {\n",
              "      border-color: transparent;\n",
              "      border-bottom-color: var(--fill-color);\n",
              "      border-left-color: var(--fill-color);\n",
              "    }\n",
              "    20% {\n",
              "      border-color: transparent;\n",
              "      border-left-color: var(--fill-color);\n",
              "      border-top-color: var(--fill-color);\n",
              "    }\n",
              "    30% {\n",
              "      border-color: transparent;\n",
              "      border-left-color: var(--fill-color);\n",
              "      border-top-color: var(--fill-color);\n",
              "      border-right-color: var(--fill-color);\n",
              "    }\n",
              "    40% {\n",
              "      border-color: transparent;\n",
              "      border-right-color: var(--fill-color);\n",
              "      border-top-color: var(--fill-color);\n",
              "    }\n",
              "    60% {\n",
              "      border-color: transparent;\n",
              "      border-right-color: var(--fill-color);\n",
              "    }\n",
              "    80% {\n",
              "      border-color: transparent;\n",
              "      border-right-color: var(--fill-color);\n",
              "      border-bottom-color: var(--fill-color);\n",
              "    }\n",
              "    90% {\n",
              "      border-color: transparent;\n",
              "      border-bottom-color: var(--fill-color);\n",
              "    }\n",
              "  }\n",
              "</style>\n",
              "\n",
              "  <script>\n",
              "    async function quickchart(key) {\n",
              "      const quickchartButtonEl =\n",
              "        document.querySelector('#' + key + ' button');\n",
              "      quickchartButtonEl.disabled = true;  // To prevent multiple clicks.\n",
              "      quickchartButtonEl.classList.add('colab-df-spinner');\n",
              "      try {\n",
              "        const charts = await google.colab.kernel.invokeFunction(\n",
              "            'suggestCharts', [key], {});\n",
              "      } catch (error) {\n",
              "        console.error('Error during call to suggestCharts:', error);\n",
              "      }\n",
              "      quickchartButtonEl.classList.remove('colab-df-spinner');\n",
              "      quickchartButtonEl.classList.add('colab-df-quickchart-complete');\n",
              "    }\n",
              "    (() => {\n",
              "      let quickchartButtonEl =\n",
              "        document.querySelector('#df-b7f4e653-aa4b-445b-88b7-5387256d8e6f button');\n",
              "      quickchartButtonEl.style.display =\n",
              "        google.colab.kernel.accessAllowed ? 'block' : 'none';\n",
              "    })();\n",
              "  </script>\n",
              "</div>\n",
              "    </div>\n",
              "  </div>\n"
            ],
            "application/vnd.google.colaboratory.intrinsic+json": {
              "type": "dataframe",
              "variable_name": "df",
              "summary": "{\n  \"name\": \"df\",\n  \"rows\": 50,\n  \"fields\": [\n    {\n      \"column\": \"sentences\",\n      \"properties\": {\n        \"dtype\": \"string\",\n        \"num_unique_values\": 50,\n        \"samples\": [\n          \"El Vaticano exhibe una colecci\\u00f3n de grabados del siglo XX ocultos durante a\\u00f1os por su fr\\u00e1gil estado .\",\n          \"La polic\\u00eda se present\\u00f3 en el hotel donde se hospedaban y los levant\\u00f3 de la cama para llevarlos a comisar\\u00eda .\",\n          \"El PP pide a Page ' dejar las palabras huecas ' : ' Es el momento de plantar batalla ' .\"\n        ],\n        \"semantic_type\": \"\",\n        \"description\": \"\"\n      }\n    },\n    {\n      \"column\": \"tokens\",\n      \"properties\": {\n        \"dtype\": \"object\",\n        \"semantic_type\": \"\",\n        \"description\": \"\"\n      }\n    },\n    {\n      \"column\": \"labels\",\n      \"properties\": {\n        \"dtype\": \"object\",\n        \"semantic_type\": \"\",\n        \"description\": \"\"\n      }\n    },\n    {\n      \"column\": \"predicted_labels\",\n      \"properties\": {\n        \"dtype\": \"object\",\n        \"semantic_type\": \"\",\n        \"description\": \"\"\n      }\n    }\n  ]\n}"
            }
          },
          "metadata": {},
          "execution_count": 231
        }
      ],
      "source": [
        "df"
      ]
    },
    {
      "cell_type": "markdown",
      "source": [
        "Before visualizing the model's predictions with a confusion matrix, we compute the metrics, focusing on precision, recall and F1-score for the 'B-METAPHOR' label."
      ],
      "metadata": {
        "id": "eferXhb2B54P"
      }
    },
    {
      "cell_type": "code",
      "execution_count": null,
      "metadata": {
        "colab": {
          "base_uri": "https://localhost:8080/"
        },
        "id": "dVLgjfyUtbIc",
        "outputId": "bd3694ba-e3d4-4b49-fbde-5ed6166198f0"
      },
      "outputs": [
        {
          "output_type": "stream",
          "name": "stdout",
          "text": [
            "Precision (B-METAPHOR): 0.8653846153846154\n",
            "Recall (B-METAPHOR): 0.6617647058823529\n",
            "F1-score (B-METAPHOR): 0.75\n",
            "Precision (O): 0.9741863075196409\n",
            "Recall (O): 0.992\n",
            "F1-score (O): 0.9830124575311439\n"
          ]
        }
      ],
      "source": [
        "from sklearn.metrics import precision_score, recall_score, f1_score\n",
        "from sklearn.metrics import accuracy_score\n",
        "\n",
        "# Define the real and predicted labels\n",
        "y_true = [label for sublist in df['labels'] for label in sublist]\n",
        "y_pred = [label for sublist in df['predicted_labels'] for label in sublist]\n",
        "\n",
        "# Calculate precision, recall, and F1-score for each class\n",
        "precision_b_metaphor = precision_score(y_true, y_pred, labels=['B-METAPHOR', 'O'], average=None)[0]\n",
        "recall_b_metaphor = recall_score(y_true, y_pred, labels=['B-METAPHOR', 'O'], average=None)[0]\n",
        "f1_b_metaphor = f1_score(y_true, y_pred, labels=['B-METAPHOR', 'O'], average=None)[0]\n",
        "\n",
        "precision_o = precision_score(y_true, y_pred, labels=['B-METAPHOR', 'O'], average=None)[1]\n",
        "recall_o = recall_score(y_true, y_pred, labels=['B-METAPHOR', 'O'], average=None)[1]\n",
        "f1_o = f1_score(y_true, y_pred, labels=['B-METAPHOR', 'O'], average=None)[1]\n",
        "\n",
        "# Metrics for 'B-METAPHOR'\n",
        "print(\"Precision (B-METAPHOR):\", precision_b_metaphor)\n",
        "print(\"Recall (B-METAPHOR):\", recall_b_metaphor)\n",
        "print(\"F1-score (B-METAPHOR):\", f1_b_metaphor)\n",
        "\n",
        "# Metrics for 'O'\n",
        "print(\"Precision (O):\", precision_o)\n",
        "print(\"Recall (O):\", recall_o)\n",
        "print(\"F1-score (O):\", f1_o)"
      ]
    },
    {
      "cell_type": "markdown",
      "source": [
        "Finally, we will generate a confusion matrix in order to analyze the correct and incorrect predictions of our model."
      ],
      "metadata": {
        "id": "vRp4NBePDna2"
      }
    },
    {
      "cell_type": "code",
      "source": [
        "from sklearn.metrics import confusion_matrix\n",
        "import matplotlib.pyplot as plt\n",
        "import seaborn as sns\n",
        "import numpy as np\n",
        "from matplotlib.colors import LogNorm\n",
        "\n",
        "label_list = ['O', 'B-METAPHOR']\n",
        "\n",
        "# Flatten the lists of true and predicted labels\n",
        "flat_true_labels = [label for sublist in df['labels'] for label in sublist]\n",
        "flat_predicted_labels = [label for sublist in df['predicted_labels'] for label in sublist]\n",
        "\n",
        "# Calculate the confusion matrix\n",
        "conf_matrix = confusion_matrix(flat_true_labels, flat_predicted_labels, labels=label_list)\n",
        "\n",
        "# Apply logarithmic normalization\n",
        "log_norm = LogNorm(vmin=1, vmax=np.max(conf_matrix))\n",
        "\n",
        "# Plotting the confusion matrix\n",
        "fig, ax = plt.subplots(figsize=(8, 8))\n",
        "sns.heatmap(conf_matrix, annot=True, fmt='g', cmap='YlGnBu', ax=ax, cbar=False, norm=log_norm)\n",
        "\n",
        "ax.set_xticklabels(label_list)\n",
        "ax.set_yticklabels(label_list)\n",
        "ax.set_xlabel('Predicted Labels')\n",
        "ax.set_ylabel('True Labels')\n",
        "ax.set_title('Confusion Matrix')\n",
        "plt.show()"
      ],
      "metadata": {
        "colab": {
          "base_uri": "https://localhost:8080/",
          "height": 718
        },
        "id": "LM5Od5C7CLai",
        "outputId": "35f1cf6d-3491-4b3b-e043-def1ed4662ba"
      },
      "execution_count": null,
      "outputs": [
        {
          "output_type": "display_data",
          "data": {
            "text/plain": [
              "<Figure size 800x800 with 1 Axes>"
            ],
            "image/png": "[encoded data removed]"
          },
          "metadata": {}
        }
      ]
    },
    {
      "cell_type": "markdown",
      "source": [
        "If we focus on the 'B-METAPHOR' label, out of a total of 68 instances, the model correctly identified 45 metaphors. However, it missed 23. This indicates that the model captured approximately 66.18% of the metaphors."
      ],
      "metadata": {
        "id": "J3YEfUyTCvdN"
      }
    }
  ],
  "metadata": {
    "accelerator": "GPU",
    "colab": {
      "gpuType": "T4",
      "provenance": []
    },
    "kernelspec": {
      "display_name": "Python 3",
      "name": "python3"
    },
    "language_info": {
      "name": "python"
    }
  },
  "nbformat": 4,
  "nbformat_minor": 0
}